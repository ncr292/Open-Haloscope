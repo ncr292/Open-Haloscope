{
 "cells": [
  {
   "cell_type": "markdown",
   "id": "5eb78610-e410-4198-9100-9844b7c3dc82",
   "metadata": {},
   "source": [
    "Test of the RedPitaya with QCodes drivers"
   ]
  },
  {
   "cell_type": "markdown",
   "id": "7ace8447-750d-4524-8eb0-f52cf5d32c9f",
   "metadata": {
    "tags": []
   },
   "source": [
    "<h4>Imports</h4>"
   ]
  },
  {
   "cell_type": "code",
   "execution_count": 1,
   "id": "0a0d32c6-1feb-406c-8298-b1d549600cee",
   "metadata": {
    "tags": []
   },
   "outputs": [],
   "source": [
    "import sys, os\n",
    "import time\n",
    "\n",
    "import numpy as np\n",
    "from scipy.signal import periodogram, welch\n",
    "\n",
    "import matplotlib.pyplot as plt\n",
    "# plot options\n",
    "plt.rc('text', usetex = True)\n",
    "plt.rc('font', family = 'serif', size=14)"
   ]
  },
  {
   "cell_type": "code",
   "execution_count": 2,
   "id": "446a3931-bfbd-4eb2-a59a-95a5c7320feb",
   "metadata": {},
   "outputs": [],
   "source": [
    "import lib.open_haloscope.experiment as experiment\n",
    "from lib.open_haloscope.utils import OHUtils"
   ]
  },
  {
   "cell_type": "code",
   "execution_count": 3,
   "id": "1c78f636-87a8-497d-b35f-6095e5de618c",
   "metadata": {},
   "outputs": [],
   "source": [
    "haloscope_name = 'alca_haloscope'\n",
    "haloscope_json = OHUtils.load_experiment_json(haloscope_name)\n",
    "\n",
    "H = experiment.FermionicHaloscope(haloscope_json)"
   ]
  },
  {
   "cell_type": "code",
   "execution_count": 4,
   "id": "3e8497c3-5fb7-403e-ba62-c1f299caaee8",
   "metadata": {
    "tags": []
   },
   "outputs": [
    {
     "ename": "ModuleNotFoundError",
     "evalue": "No module named 'red'",
     "output_type": "error",
     "traceback": [
      "\u001b[0;31m---------------------------------------------------------------------------\u001b[0m",
      "\u001b[0;31mModuleNotFoundError\u001b[0m                       Traceback (most recent call last)",
      "Cell \u001b[0;32mIn [4], line 1\u001b[0m\n\u001b[0;32m----> 1\u001b[0m \u001b[38;5;28;01mfrom\u001b[39;00m \u001b[38;5;21;01mred\u001b[39;00m\u001b[38;5;21;01m.\u001b[39;00m\u001b[38;5;21;01mredpitaya_qcodes\u001b[39;00m \u001b[38;5;28;01mimport\u001b[39;00m Redpitaya\n\u001b[1;32m      2\u001b[0m red \u001b[38;5;241m=\u001b[39m Redpitaya(\u001b[38;5;124m'\u001b[39m\u001b[38;5;124mredpitaya\u001b[39m\u001b[38;5;124m'\u001b[39m, address\u001b[38;5;241m=\u001b[39mH\u001b[38;5;241m.\u001b[39mexperiment_parameters[\u001b[38;5;124m'\u001b[39m\u001b[38;5;124mredpitaya_eth0_ip\u001b[39m\u001b[38;5;124m'\u001b[39m])\n",
      "\u001b[0;31mModuleNotFoundError\u001b[0m: No module named 'red'"
     ]
    }
   ],
   "source": [
    "from red.redpitaya_qcodes import Redpitaya\n",
    "red = Redpitaya('redpitaya', address=H.experiment_parameters['redpitaya_eth0_ip'])"
   ]
  },
  {
   "cell_type": "markdown",
   "id": "eba6979f-fd52-4878-9e0b-7db0478932ad",
   "metadata": {},
   "source": [
    "<h4>Test of the drivers</h4>"
   ]
  },
  {
   "cell_type": "code",
   "execution_count": 5,
   "id": "72c3bc09-c77b-48bd-9847-eb9f35ccbcae",
   "metadata": {},
   "outputs": [
    {
     "data": {
      "text/plain": [
       "{'_parameters_Alca': 'Parameters used in the fermionic haloscope Alca',\n",
       " 'f0': 2000000.0,\n",
       " 'Q': 100,\n",
       " 'An': 1e-08,\n",
       " 'Ap': 1.0,\n",
       " 'beta1': 1,\n",
       " 'beta2': 1,\n",
       " 'operating_frequency': 'MHz',\n",
       " 'material_used': 'NiZn ferrite',\n",
       " 'redpitaya_eth0_ip': 'TCPIP::169.254.33.148::5000::SOCKET',\n",
       " 'redpitaya_wlan_ip': 'TCPIP::192.168.1.30::5000::SOCKET'}"
      ]
     },
     "execution_count": 5,
     "metadata": {},
     "output_type": "execute_result"
    }
   ],
   "source": [
    "H.experiment_parameters"
   ]
  },
  {
   "cell_type": "code",
   "execution_count": 6,
   "id": "fffc8e38-7556-4eaa-9e24-a78de94c34b4",
   "metadata": {
    "tags": []
   },
   "outputs": [
    {
     "ename": "NameError",
     "evalue": "name 'red' is not defined",
     "output_type": "error",
     "traceback": [
      "\u001b[0;31m---------------------------------------------------------------------------\u001b[0m",
      "\u001b[0;31mNameError\u001b[0m                                 Traceback (most recent call last)",
      "Cell \u001b[0;32mIn [6], line 1\u001b[0m\n\u001b[0;32m----> 1\u001b[0m H\u001b[38;5;241m.\u001b[39minitialise_haloscope([\u001b[43mred\u001b[49m])\n",
      "\u001b[0;31mNameError\u001b[0m: name 'red' is not defined"
     ]
    }
   ],
   "source": [
    "H.initialise_haloscope([red])"
   ]
  },
  {
   "cell_type": "code",
   "execution_count": null,
   "id": "06706f88-de2e-435c-b4c0-141b35d62e2d",
   "metadata": {
    "tags": []
   },
   "outputs": [],
   "source": []
  },
  {
   "cell_type": "code",
   "execution_count": null,
   "id": "fd4375ce-62f1-403f-a020-3bd749951500",
   "metadata": {
    "tags": []
   },
   "outputs": [],
   "source": []
  },
  {
   "cell_type": "code",
   "execution_count": null,
   "id": "b7a3456f-562b-48c7-a793-1c4af8d1f34b",
   "metadata": {},
   "outputs": [],
   "source": []
  },
  {
   "cell_type": "markdown",
   "id": "eef015c9-654a-4b96-955a-140d8d3cb16a",
   "metadata": {
    "tags": []
   },
   "source": [
    "<h3>VNA</h3>"
   ]
  },
  {
   "cell_type": "code",
   "execution_count": null,
   "id": "defb3641-b387-40e6-8333-4dd0719a5a68",
   "metadata": {},
   "outputs": [],
   "source": [
    "red.vna_start(4e6)\n",
    "red.vna_stop(12e6)\n",
    "red.vna_points(101)\n",
    "red.vna_rbw(10e3)\n",
    "\n",
    "red.vna_amplitude(0.1)\n",
    "red.vna_averages(1)"
   ]
  },
  {
   "cell_type": "code",
   "execution_count": null,
   "id": "32c7f2da-2c18-4670-8708-d8214afbfc9b",
   "metadata": {
    "tags": []
   },
   "outputs": [],
   "source": [
    "mag, phase = red.VNA1()"
   ]
  },
  {
   "cell_type": "code",
   "execution_count": null,
   "id": "1fcd0a2f-ef60-49a5-8b3e-29c6e1afa134",
   "metadata": {},
   "outputs": [],
   "source": [
    "fig, ax = plt.subplots(1, 1, figsize=(12,4))\n",
    "ax.semilogy(mag)"
   ]
  },
  {
   "cell_type": "code",
   "execution_count": null,
   "id": "5f20ad5d-4d4e-43d2-8d81-5e1c44c73687",
   "metadata": {
    "tags": []
   },
   "outputs": [],
   "source": []
  },
  {
   "cell_type": "code",
   "execution_count": null,
   "id": "d0dcdb41-7442-4eda-b320-c18ff35788e7",
   "metadata": {
    "tags": []
   },
   "outputs": [],
   "source": []
  },
  {
   "cell_type": "markdown",
   "id": "b03e2a1c-834b-4004-9206-95c6b8e92653",
   "metadata": {
    "tags": []
   },
   "source": [
    "<h3>Waveforms</h3>"
   ]
  },
  {
   "cell_type": "code",
   "execution_count": null,
   "id": "3388026e-2fe8-43f0-9820-9a122ca736ea",
   "metadata": {
    "tags": []
   },
   "outputs": [],
   "source": [
    "# settings\n",
    "# gen 1\n",
    "red.OUT1_amplitude(0.1)\n",
    "red.OUT1_frequency(2e6)\n",
    "red.OUT1_status('ON')\n",
    "\n",
    "# gen 2\n",
    "red.OUT2_amplitude(0.1)\n",
    "red.OUT2_frequency(2e6)\n",
    "red.OUT2_status('OFF')"
   ]
  },
  {
   "cell_type": "code",
   "execution_count": null,
   "id": "1a335e1f-4d63-4abd-b483-94f180b4cffb",
   "metadata": {},
   "outputs": [],
   "source": [
    "# adc parameters\n",
    "fs = H.sampling_frequency"
   ]
  },
  {
   "cell_type": "code",
   "execution_count": null,
   "id": "7f2ca24f-fce3-4bb3-944d-4a9615684c0e",
   "metadata": {},
   "outputs": [],
   "source": [
    "# problema con la lettura in binario\n",
    "# se non c'è segnale non triggera?"
   ]
  },
  {
   "cell_type": "code",
   "execution_count": null,
   "id": "f9703ffb-0dfa-490a-8fe2-e40203e5780b",
   "metadata": {
    "tags": []
   },
   "outputs": [],
   "source": [
    "# acquisition\n",
    "red.acquisition_length(10)\n",
    "data = red.IN1()"
   ]
  },
  {
   "cell_type": "code",
   "execution_count": null,
   "id": "22ed677b-b618-4367-9cd3-169f4987f5e3",
   "metadata": {
    "tags": []
   },
   "outputs": [],
   "source": [
    "fig, ax = plt.subplots(2, 1, figsize=(10,6))\n",
    "n_start = 1\n",
    "n_stop = 2**11\n",
    "\n",
    "ax[0].imshow( data[:,n_start:n_stop], aspect='auto', origin='lower' )\n",
    "ax[1].imshow( np.log10(periodogram( data[:,n_start:n_stop] )[1][1:]), aspect='auto', origin='lower' )\n",
    "\n",
    "#ax[1].set_ylim([1e-8,1])"
   ]
  },
  {
   "cell_type": "code",
   "execution_count": null,
   "id": "a4c8101c-99ef-4c8d-83a0-dfba73352e85",
   "metadata": {
    "tags": []
   },
   "outputs": [],
   "source": [
    "fig, ax = plt.subplots(2, 1, figsize=(10,6))\n",
    "n_start = 1\n",
    "n_stop = 2**10\n",
    "num = 0\n",
    "\n",
    "ax[0].plot(data[num, n_start:n_stop])\n",
    "\n",
    "f = periodogram(data[num, n_start:n_stop], fs=fs)[0]\n",
    "rbw = f[1] - f[0]\n",
    "m = rbw * periodogram(data[num, n_start:n_stop], window='hann', fs=fs)[1]\n",
    "ax[1].semilogy(f, m)"
   ]
  },
  {
   "cell_type": "code",
   "execution_count": null,
   "id": "8728c61d-3bf3-4e10-8476-2a817ca4248e",
   "metadata": {
    "tags": []
   },
   "outputs": [],
   "source": [
    "red.estimated_duty_cycle()"
   ]
  },
  {
   "cell_type": "code",
   "execution_count": null,
   "id": "4942f603-338c-4416-ac7c-c86d32d2ecb8",
   "metadata": {},
   "outputs": [],
   "source": []
  },
  {
   "cell_type": "code",
   "execution_count": null,
   "id": "623b5949-b6f0-4699-b820-ae0be4f1519c",
   "metadata": {
    "tags": []
   },
   "outputs": [],
   "source": []
  },
  {
   "cell_type": "markdown",
   "id": "43243271-5e14-4bcb-beb6-d826775023b8",
   "metadata": {},
   "source": [
    "<h3>Sensors</h3>"
   ]
  },
  {
   "cell_type": "code",
   "execution_count": null,
   "id": "77cfa105-b530-403b-96bc-d5d0d6065f42",
   "metadata": {
    "tags": []
   },
   "outputs": [],
   "source": [
    "red.temperature()"
   ]
  },
  {
   "cell_type": "code",
   "execution_count": null,
   "id": "e2824029-0347-4b84-ab9b-f00cea87c3e5",
   "metadata": {
    "tags": []
   },
   "outputs": [],
   "source": [
    "red.pressure()"
   ]
  },
  {
   "cell_type": "code",
   "execution_count": null,
   "id": "1b4027b5-60be-4948-bed3-be258c7e3275",
   "metadata": {},
   "outputs": [],
   "source": []
  },
  {
   "cell_type": "code",
   "execution_count": null,
   "id": "94fcd458-0b6c-4844-b2e0-54fc9eb686cb",
   "metadata": {},
   "outputs": [],
   "source": []
  },
  {
   "cell_type": "code",
   "execution_count": null,
   "id": "99bf6545-49d2-4b75-874f-8d458f529dd8",
   "metadata": {},
   "outputs": [],
   "source": []
  }
 ],
 "metadata": {
  "kernelspec": {
   "display_name": "Python 3 (ipykernel)",
   "language": "python",
   "name": "python3"
  },
  "language_info": {
   "codemirror_mode": {
    "name": "ipython",
    "version": 3
   },
   "file_extension": ".py",
   "mimetype": "text/x-python",
   "name": "python",
   "nbconvert_exporter": "python",
   "pygments_lexer": "ipython3",
   "version": "3.10.8"
  }
 },
 "nbformat": 4,
 "nbformat_minor": 5
}

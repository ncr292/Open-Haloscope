{
 "cells": [
  {
   "cell_type": "markdown",
   "id": "5eb78610-e410-4198-9100-9844b7c3dc82",
   "metadata": {},
   "source": [
    "<h1>Open haloscope</h1>"
   ]
  },
  {
   "cell_type": "markdown",
   "id": "7ace8447-750d-4524-8eb0-f52cf5d32c9f",
   "metadata": {
    "tags": []
   },
   "source": [
    "<h4>Imports</h4>"
   ]
  },
  {
   "cell_type": "code",
   "execution_count": 1,
   "id": "0a0d32c6-1feb-406c-8298-b1d549600cee",
   "metadata": {
    "tags": []
   },
   "outputs": [],
   "source": [
    "import sys, os\n",
    "import time\n",
    "\n",
    "import numpy as np\n",
    "from scipy.signal import periodogram, welch\n",
    "\n",
    "import matplotlib.pyplot as plt\n",
    "# plot options\n",
    "plt.rc('text', usetex = True)\n",
    "plt.rc('font', family = 'serif', size=14)\n",
    "\n",
    "import qcodes as qc\n",
    "from qcodes.interactive_widget import experiments_widget\n",
    "## Multidimensional scanning module\n",
    "from qcodes.dataset import (\n",
    "    Measurement,\n",
    "    do0d,\n",
    "    do1d,\n",
    "    experiments,\n",
    "    initialise_or_create_database_at,\n",
    "    load_or_create_experiment,\n",
    "    load_by_run_spec\n",
    "    )"
   ]
  },
  {
   "cell_type": "code",
   "execution_count": 2,
   "id": "446a3931-bfbd-4eb2-a59a-95a5c7320feb",
   "metadata": {
    "tags": []
   },
   "outputs": [],
   "source": [
    "import lib.open_haloscope.experiment as experiment\n",
    "from lib.open_haloscope.utils import OHUtils"
   ]
  },
  {
   "cell_type": "code",
   "execution_count": 3,
   "id": "1c78f636-87a8-497d-b35f-6095e5de618c",
   "metadata": {
    "tags": []
   },
   "outputs": [],
   "source": [
    "haloscope_name = 'kakapo_haloscope'\n",
    "haloscope_json = OHUtils.load_experiment_json(haloscope_name)\n",
    "\n",
    "H = experiment.FermionicHaloscope(haloscope_json)"
   ]
  },
  {
   "cell_type": "code",
   "execution_count": 4,
   "id": "3e8497c3-5fb7-403e-ba62-c1f299caaee8",
   "metadata": {
    "tags": []
   },
   "outputs": [
    {
     "name": "stdout",
     "output_type": "stream",
     "text": [
      "Connected to: REDPITAYA INSTR2020 (serial:0, firmware:01-02) in 0.39s\n"
     ]
    }
   ],
   "source": [
    "from lib.red.redpitaya_qcodes import Redpitaya\n",
    "red = Redpitaya('redpitaya', address=H.experiment_parameters['redpitaya_eth0_ip'])"
   ]
  },
  {
   "cell_type": "markdown",
   "id": "eba6979f-fd52-4878-9e0b-7db0478932ad",
   "metadata": {},
   "source": [
    "<h4>Test of the drivers</h4>"
   ]
  },
  {
   "cell_type": "code",
   "execution_count": 5,
   "id": "72c3bc09-c77b-48bd-9847-eb9f35ccbcae",
   "metadata": {},
   "outputs": [
    {
     "data": {
      "text/plain": [
       "{'_parameters_Kakapo': 'Parameters used in the fermionic haloscope Kakapo',\n",
       " 'haloscope_name': 'kakapo',\n",
       " 'f0': 5500000.0,\n",
       " 'Q': 100,\n",
       " 'f1': 5000000.0,\n",
       " 'k1': 100000.0,\n",
       " 'f2': 6000000.0,\n",
       " 'k2': 100000.0,\n",
       " 'An': 1e-08,\n",
       " 'Ap': 1.0,\n",
       " 'beta1': 1,\n",
       " 'beta2': 1,\n",
       " 'operating_frequency': 'MHz',\n",
       " 'material_used': 'NiZn ferrite',\n",
       " 'data_path': 'Open Haloscope\\\\data\\\\runs\\\\',\n",
       " 'redpitaya_eth0_ip': 'TCPIP::169.254.33.148::5000::SOCKET',\n",
       " 'redpitaya_wlan_ip': 'TCPIP::192.168.1.30::5000::SOCKET'}"
      ]
     },
     "execution_count": 5,
     "metadata": {},
     "output_type": "execute_result"
    }
   ],
   "source": [
    "H.experiment_parameters"
   ]
  },
  {
   "cell_type": "code",
   "execution_count": 6,
   "id": "fffc8e38-7556-4eaa-9e24-a78de94c34b4",
   "metadata": {
    "tags": []
   },
   "outputs": [
    {
     "name": "stdout",
     "output_type": "stream",
     "text": [
      "Loading instrumentation\n",
      "  redpitaya added to the experiment\n",
      "\n",
      "Setup the radiofrequency lines\n",
      " inputs configured, trigger level = 0.0 V, decimation = 4\n",
      " resulting sampling frequency = 31.25 MHz\n",
      " buffer length = 16384 samples, i.e. 0.000524288 s\n",
      " output generators triggered, phase aligned and turned off\n",
      "\n",
      "Starting UART communication\n",
      " testing sensors\n",
      " temperature = 298.84 K\n",
      " pressure = 1.1403599999999998 bar\n",
      " magnetic field = 2.333984375 V\n",
      " photoresistance = 0.087890625 V\n",
      " acceleration = (0.12, -0.59, 10.4) m/s^2\n",
      "\n",
      "Configuring data storage.\n",
      " data are stored in C:\\Users\\nicol\\Progetti\\Open Haloscope\\data\\runs\\2023-05-28\n",
      " QCodes station and database configured\n",
      "\n",
      "Haloscope initialised. Good luck, dark matter hunter.\n"
     ]
    }
   ],
   "source": [
    "H.initialise_haloscope([red])"
   ]
  },
  {
   "cell_type": "code",
   "execution_count": null,
   "id": "a1931183-e1d5-48d2-82ae-61bc927b9d7b",
   "metadata": {
    "tags": []
   },
   "outputs": [
    {
     "name": "stdout",
     "output_type": "stream",
     "text": [
      "Characterisation data\n",
      " characterisation database created in  C:\\Users\\nicol\\Progetti\\Open Haloscope\\data\\runs\\2023-05-28\n",
      "\n",
      "Initiating spectroscopy in the span 2.0 to 10.0 MHz.\n",
      " channel 1\n",
      "Starting experimental run with id: 77. Using 'qcodes.dataset.do0d'\n"
     ]
    },
    {
     "name": "stderr",
     "output_type": "stream",
     "text": [
      "100%|████████████████████████████████████████████████████████████████████████████████| 201/201 [01:02<00:00,  3.24it/s]\n"
     ]
    },
    {
     "name": "stdout",
     "output_type": "stream",
     "text": [
      " channel 2\n",
      "Starting experimental run with id: 78. Using 'qcodes.dataset.do0d'\n"
     ]
    },
    {
     "name": "stderr",
     "output_type": "stream",
     "text": [
      " 53%|██████████████████████████████████████████▌                                     | 107/201 [00:32<00:27,  3.39it/s]"
     ]
    }
   ],
   "source": [
    "H.characterise(frequency_points=201, averages=1, monitoring_time=100, plot=True)"
   ]
  },
  {
   "cell_type": "code",
   "execution_count": null,
   "id": "31f0b15f-3c2c-4e8d-a4ae-803e6a97ca67",
   "metadata": {
    "tags": []
   },
   "outputs": [],
   "source": []
  },
  {
   "cell_type": "code",
   "execution_count": null,
   "id": "026278e6-b70d-46fa-b87d-1b7db01956c8",
   "metadata": {
    "tags": []
   },
   "outputs": [],
   "source": [
    "H.experiment_parameters"
   ]
  },
  {
   "cell_type": "code",
   "execution_count": null,
   "id": "e432d12f-2a39-4dfa-a68f-2081a8cee927",
   "metadata": {},
   "outputs": [],
   "source": []
  },
  {
   "cell_type": "code",
   "execution_count": null,
   "id": "cfe335e3-6da9-47aa-9cec-ebc684e73ca5",
   "metadata": {},
   "outputs": [],
   "source": [
    "stop"
   ]
  },
  {
   "cell_type": "markdown",
   "id": "eef015c9-654a-4b96-955a-140d8d3cb16a",
   "metadata": {
    "tags": []
   },
   "source": [
    "<h3>VNA</h3>"
   ]
  },
  {
   "cell_type": "code",
   "execution_count": null,
   "id": "defb3641-b387-40e6-8333-4dd0719a5a68",
   "metadata": {},
   "outputs": [],
   "source": [
    "red.vna_start(2e6)\n",
    "red.vna_stop(10e6)\n",
    "red.vna_points(201)\n",
    "red.vna_rbw(10e3)\n",
    "\n",
    "red.vna_amplitude(0.001)\n",
    "red.vna_averages(1)"
   ]
  },
  {
   "cell_type": "code",
   "execution_count": null,
   "id": "32c7f2da-2c18-4670-8708-d8214afbfc9b",
   "metadata": {
    "tags": []
   },
   "outputs": [],
   "source": [
    "mag1, phase1 = red.VNA1()\n",
    "mag2, phase2 = red.VNA2()"
   ]
  },
  {
   "cell_type": "code",
   "execution_count": null,
   "id": "1fcd0a2f-ef60-49a5-8b3e-29c6e1afa134",
   "metadata": {},
   "outputs": [],
   "source": [
    "fig, ax = plt.subplots(1, 1, figsize=(12,4))\n",
    "ax.semilogy(red.frequency_axis()/1e6, mag1)\n",
    "ax.semilogy(red.frequency_axis()/1e6, mag2)"
   ]
  },
  {
   "cell_type": "code",
   "execution_count": null,
   "id": "d0dcdb41-7442-4eda-b320-c18ff35788e7",
   "metadata": {
    "tags": []
   },
   "outputs": [],
   "source": [
    "from scipy.optimize import curve_fit\n",
    "def lorentzian(x, x0, a, gamma ):\n",
    "    return a * gamma**2 / ( gamma**2 + ( x - x0 )**2)"
   ]
  },
  {
   "cell_type": "code",
   "execution_count": null,
   "id": "8310174f-3ce1-4849-a043-5ce6e1f8c09b",
   "metadata": {
    "tags": []
   },
   "outputs": [],
   "source": [
    "start = 80\n",
    "stop = 95\n",
    "\n",
    "x = red.frequency_axis()[start:stop] / 1e6\n",
    "y = mag1[start:stop]**2 / np.max(mag1**2)\n",
    "\n",
    "plt.plot(x,y)"
   ]
  },
  {
   "cell_type": "code",
   "execution_count": null,
   "id": "d7bed587-5c45-4c0f-b844-86c3efb5e60b",
   "metadata": {
    "tags": []
   },
   "outputs": [],
   "source": [
    "popt, _ = curve_fit(lorentzian, x, y)\n",
    "popt"
   ]
  },
  {
   "cell_type": "code",
   "execution_count": null,
   "id": "ffb76053-b107-4981-80e0-d0e431ea8fc1",
   "metadata": {
    "tags": []
   },
   "outputs": [],
   "source": [
    "plt.plot(x, y, 'o')\n",
    "plt.plot(x, lorentzian(x, *popt))"
   ]
  },
  {
   "cell_type": "code",
   "execution_count": null,
   "id": "511e1b4e-bbc1-4017-81fe-ef918381e6d7",
   "metadata": {},
   "outputs": [],
   "source": []
  },
  {
   "cell_type": "code",
   "execution_count": null,
   "id": "efbdf62f-afd1-4425-9a82-8e4a317f984f",
   "metadata": {},
   "outputs": [],
   "source": []
  },
  {
   "cell_type": "markdown",
   "id": "b03e2a1c-834b-4004-9206-95c6b8e92653",
   "metadata": {
    "tags": []
   },
   "source": [
    "<h3>Waveforms</h3>"
   ]
  },
  {
   "cell_type": "code",
   "execution_count": null,
   "id": "3388026e-2fe8-43f0-9820-9a122ca736ea",
   "metadata": {
    "tags": []
   },
   "outputs": [],
   "source": [
    "# settings\n",
    "# gen 1\n",
    "red.OUT1_amplitude(0.01)\n",
    "red.OUT1_frequency(5.4333703e6)\n",
    "red.OUT1_status('ON')\n",
    "\n",
    "# gen 2\n",
    "red.OUT2_amplitude(0.01)\n",
    "red.OUT2_frequency(2e5)\n",
    "red.OUT2_status('OFF')"
   ]
  },
  {
   "cell_type": "code",
   "execution_count": null,
   "id": "1a335e1f-4d63-4abd-b483-94f180b4cffb",
   "metadata": {},
   "outputs": [],
   "source": [
    "# adc parameters\n",
    "fs = H.sampling_frequency"
   ]
  },
  {
   "cell_type": "code",
   "execution_count": null,
   "id": "f9703ffb-0dfa-490a-8fe2-e40203e5780b",
   "metadata": {
    "tags": []
   },
   "outputs": [],
   "source": [
    "# acquisition\n",
    "red.acquisition_length(10)\n",
    "data = red.IN1()"
   ]
  },
  {
   "cell_type": "code",
   "execution_count": null,
   "id": "22ed677b-b618-4367-9cd3-169f4987f5e3",
   "metadata": {
    "tags": []
   },
   "outputs": [],
   "source": [
    "fig, ax = plt.subplots(2, 1, figsize=(10,6))\n",
    "n_start = 1\n",
    "n_stop = 2**12\n",
    "\n",
    "ax[0].imshow( data[:,n_start:n_stop], aspect='auto', origin='lower' )\n",
    "ax[1].imshow( np.log10(periodogram( data[:,n_start:n_stop] )[1][1:]), aspect='auto', origin='lower' )\n",
    "\n",
    "#ax[1].set_ylim([1e-8,1])"
   ]
  },
  {
   "cell_type": "code",
   "execution_count": null,
   "id": "a4c8101c-99ef-4c8d-83a0-dfba73352e85",
   "metadata": {
    "tags": []
   },
   "outputs": [],
   "source": [
    "fig, ax = plt.subplots(2, 1, figsize=(10,6))\n",
    "n_start = 1\n",
    "n_stop = 2**10\n",
    "num = 0\n",
    "\n",
    "ax[0].plot(data[num, n_start:n_stop])\n",
    "\n",
    "f = periodogram(data[num, n_start:n_stop], fs=fs)[0]\n",
    "rbw = f[1] - f[0]\n",
    "m = rbw * periodogram(data[num, n_start:n_stop], window='hann', fs=fs)[1]\n",
    "ax[1].semilogy(f, m)"
   ]
  },
  {
   "cell_type": "code",
   "execution_count": null,
   "id": "8728c61d-3bf3-4e10-8476-2a817ca4248e",
   "metadata": {
    "tags": []
   },
   "outputs": [],
   "source": [
    "red.estimated_duty_cycle()"
   ]
  },
  {
   "cell_type": "code",
   "execution_count": null,
   "id": "4942f603-338c-4416-ac7c-c86d32d2ecb8",
   "metadata": {},
   "outputs": [],
   "source": []
  },
  {
   "cell_type": "code",
   "execution_count": null,
   "id": "623b5949-b6f0-4699-b820-ae0be4f1519c",
   "metadata": {
    "tags": []
   },
   "outputs": [],
   "source": []
  }
 ],
 "metadata": {
  "kernelspec": {
   "display_name": "Python 3 (ipykernel)",
   "language": "python",
   "name": "python3"
  },
  "language_info": {
   "codemirror_mode": {
    "name": "ipython",
    "version": 3
   },
   "file_extension": ".py",
   "mimetype": "text/x-python",
   "name": "python",
   "nbconvert_exporter": "python",
   "pygments_lexer": "ipython3",
   "version": "3.11.3"
  }
 },
 "nbformat": 4,
 "nbformat_minor": 5
}

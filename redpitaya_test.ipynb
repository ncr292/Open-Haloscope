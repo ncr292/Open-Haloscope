{
 "cells": [
  {
   "cell_type": "markdown",
   "id": "5eb78610-e410-4198-9100-9844b7c3dc82",
   "metadata": {},
   "source": [
    "<h1>Open haloscope</h1>"
   ]
  },
  {
   "cell_type": "markdown",
   "id": "7ace8447-750d-4524-8eb0-f52cf5d32c9f",
   "metadata": {
    "tags": []
   },
   "source": [
    "<h4>Imports</h4>"
   ]
  },
  {
   "cell_type": "code",
   "execution_count": 1,
   "id": "0a0d32c6-1feb-406c-8298-b1d549600cee",
   "metadata": {
    "tags": []
   },
   "outputs": [],
   "source": [
    "import sys, os\n",
    "import time\n",
    "\n",
    "import numpy as np\n",
    "from scipy.signal import periodogram, welch\n",
    "\n",
    "import matplotlib.pyplot as plt\n",
    "# plot options\n",
    "#plt.rc('text', usetex = True)\n",
    "#plt.rc('font', family = 'serif', size=14)\n",
    "\n",
    "import qcodes as qc\n",
    "from qcodes.interactive_widget import experiments_widget\n",
    "## Multidimensional scanning module\n",
    "from qcodes.dataset import (\n",
    "    Measurement,\n",
    "    do0d,\n",
    "    do1d,\n",
    "    experiments,\n",
    "    initialise_or_create_database_at,\n",
    "    load_or_create_experiment,\n",
    "    load_by_run_spec,\n",
    "    plot_dataset\n",
    ")"
   ]
  },
  {
   "cell_type": "code",
   "execution_count": 2,
   "id": "446a3931-bfbd-4eb2-a59a-95a5c7320feb",
   "metadata": {
    "tags": []
   },
   "outputs": [],
   "source": [
    "import lib.open_haloscope.experiment as experiment\n",
    "from lib.open_haloscope.utils import OHUtils"
   ]
  },
  {
   "cell_type": "code",
   "execution_count": 3,
   "id": "1c78f636-87a8-497d-b35f-6095e5de618c",
   "metadata": {
    "tags": []
   },
   "outputs": [],
   "source": [
    "haloscope_name = 'kakapo_haloscope'\n",
    "haloscope_json = OHUtils.load_experiment_json(haloscope_name)\n",
    "\n",
    "H = experiment.FermionicHaloscope(haloscope_json)"
   ]
  },
  {
   "cell_type": "code",
   "execution_count": 4,
   "id": "3e8497c3-5fb7-403e-ba62-c1f299caaee8",
   "metadata": {
    "tags": []
   },
   "outputs": [
    {
     "name": "stdout",
     "output_type": "stream",
     "text": [
      "Connected to: REDPITAYA INSTR2020 (serial:0, firmware:01-02) in 0.39s\n"
     ]
    }
   ],
   "source": [
    "from lib.red.redpitaya_qcodes import Redpitaya\n",
    "red = Redpitaya('redpitaya', address=H.experiment_parameters['redpitaya_eth0_ip'])"
   ]
  },
  {
   "cell_type": "markdown",
   "id": "eba6979f-fd52-4878-9e0b-7db0478932ad",
   "metadata": {},
   "source": [
    "<h4>Test of the drivers</h4>"
   ]
  },
  {
   "cell_type": "code",
   "execution_count": 5,
   "id": "72c3bc09-c77b-48bd-9847-eb9f35ccbcae",
   "metadata": {},
   "outputs": [
    {
     "data": {
      "text/plain": [
       "{'_parameters_Kakapo': 'Parameters used in the fermionic haloscope Kakapo',\n",
       " 'f0': 5000000.0,\n",
       " 'Q': 100,\n",
       " 'An': 1e-08,\n",
       " 'Ap': 1.0,\n",
       " 'beta1': 1,\n",
       " 'beta2': 1,\n",
       " 'operating_frequency': 'MHz',\n",
       " 'material_used': 'NiZn ferrite',\n",
       " 'redpitaya_eth0_ip': 'TCPIP::169.254.33.148::5000::SOCKET',\n",
       " 'redpitaya_wlan_ip': 'TCPIP::192.168.1.30::5000::SOCKET'}"
      ]
     },
     "execution_count": 5,
     "metadata": {},
     "output_type": "execute_result"
    }
   ],
   "source": [
    "H.experiment_parameters"
   ]
  },
  {
   "cell_type": "code",
   "execution_count": 6,
   "id": "fffc8e38-7556-4eaa-9e24-a78de94c34b4",
   "metadata": {
    "tags": []
   },
   "outputs": [
    {
     "name": "stdout",
     "output_type": "stream",
     "text": [
      "Loading instrumentation\n",
      "  redpitaya added to the experiment\n",
      "\n",
      "Setup the radiofrequency lines\n",
      " inputs configured, trigger level = 0.0 V, decimation = 4\n",
      " resulting sampling frequency = 31.25 MHz\n",
      " output generators triggered, phase aligned and turned off\n",
      "\n",
      "Starting UART communication\n",
      " testing sensors\n",
      " temperature = 297.06 K\n",
      " pressure = 1.16231 bar\n",
      " magnetic field = 2.294921875 V\n",
      " photoresistance = 0.01953125 V\n",
      " acceleration = (0.08, -0.55, 10.36) m/s^2\n",
      "\n",
      "Configuring data storage.\n",
      " data are stored in C:\\Users\\nicol\\Progetti\\Open Haloscope\\data\\runs\\2023-05-24\n",
      " QCodes station and database configured\n",
      "\n",
      "Haloscope initialised. Good luck, dark matter hunter.\n"
     ]
    }
   ],
   "source": [
    "H.initialise_haloscope([red])"
   ]
  },
  {
   "cell_type": "code",
   "execution_count": null,
   "id": "0c61475d-2215-4de6-8aaa-bdd060d34b21",
   "metadata": {
    "tags": []
   },
   "outputs": [],
   "source": []
  },
  {
   "cell_type": "code",
   "execution_count": 7,
   "id": "a1931183-e1d5-48d2-82ae-61bc927b9d7b",
   "metadata": {
    "tags": []
   },
   "outputs": [
    {
     "name": "stdout",
     "output_type": "stream",
     "text": [
      "Done.\n"
     ]
    }
   ],
   "source": [
    "H.characterise()"
   ]
  },
  {
   "cell_type": "code",
   "execution_count": null,
   "id": "f077c575-7fe5-4a24-8be0-a4d20aa32a2f",
   "metadata": {
    "tags": []
   },
   "outputs": [],
   "source": []
  },
  {
   "cell_type": "code",
   "execution_count": 8,
   "id": "0bce1ad5-48ac-49be-a14e-7dcfa7c32f8d",
   "metadata": {},
   "outputs": [
    {
     "ename": "NameError",
     "evalue": "name 'stop' is not defined",
     "output_type": "error",
     "traceback": [
      "\u001b[1;31m---------------------------------------------------------------------------\u001b[0m",
      "\u001b[1;31mNameError\u001b[0m                                 Traceback (most recent call last)",
      "Cell \u001b[1;32mIn[8], line 1\u001b[0m\n\u001b[1;32m----> 1\u001b[0m \u001b[43mstop\u001b[49m\n",
      "\u001b[1;31mNameError\u001b[0m: name 'stop' is not defined"
     ]
    }
   ],
   "source": [
    "stop"
   ]
  },
  {
   "cell_type": "markdown",
   "id": "7a2b62eb-64c8-4080-aab4-ede1038ba2dd",
   "metadata": {
    "tags": []
   },
   "source": [
    "<h3>QCodes</h3>"
   ]
  },
  {
   "cell_type": "code",
   "execution_count": 12,
   "id": "414c100e-f259-4c3d-89bc-2e5b77481155",
   "metadata": {
    "tags": []
   },
   "outputs": [
    {
     "data": {
      "text/plain": [
       "'redpitaya'"
      ]
     },
     "execution_count": 12,
     "metadata": {},
     "output_type": "execute_result"
    }
   ],
   "source": [
    "station = qc.Station()\n",
    "station.add_component(red)"
   ]
  },
  {
   "cell_type": "code",
   "execution_count": 13,
   "id": "3437ecef-0ad7-41f0-b865-ad71ef0669f0",
   "metadata": {
    "tags": []
   },
   "outputs": [],
   "source": [
    "initialise_or_create_database_at(\"data/runs/testdb.db\")"
   ]
  },
  {
   "cell_type": "code",
   "execution_count": null,
   "id": "98021e16-bc5f-468d-b07e-61b08dbca988",
   "metadata": {
    "tags": []
   },
   "outputs": [],
   "source": [
    "test_exp = load_or_create_experiment(experiment_name=\"testexp\",\n",
    "                                     sample_name=\"data\")\n",
    "\n",
    "context_meas = Measurement(exp=test_exp, station=station, name='contextexample')\n",
    "\n",
    "red.vna_start(2e6)\n",
    "red.vna_stop(10e6)\n",
    "red.vna_points(101)\n",
    "red.vna_rbw(10e3)\n",
    "\n",
    "red.vna_amplitude(0.001)\n",
    "red.vna_averages(1)\n",
    "\n",
    "do0d(red.TX1);"
   ]
  },
  {
   "cell_type": "code",
   "execution_count": null,
   "id": "91e53e0b-e522-4aa4-a76b-ec3b7701294f",
   "metadata": {
    "tags": []
   },
   "outputs": [],
   "source": [
    "dataset_1d = load_by_run_spec(experiment_name='testexp', captured_run_id=1)\n",
    "dataset_1d"
   ]
  },
  {
   "cell_type": "code",
   "execution_count": null,
   "id": "5dcb881d-b1ef-4ae3-9ce1-1f6b9bd458e8",
   "metadata": {
    "tags": []
   },
   "outputs": [],
   "source": [
    "plot_dataset(dataset_1d)"
   ]
  },
  {
   "cell_type": "code",
   "execution_count": 17,
   "id": "80cbac26-756b-47c7-895c-d56962d6ecc1",
   "metadata": {
    "tags": []
   },
   "outputs": [
    {
     "data": {
      "text/plain": [
       "'chrono2'"
      ]
     },
     "execution_count": 17,
     "metadata": {},
     "output_type": "execute_result"
    }
   ],
   "source": [
    "from qcodes.tests.instrument_mocks import DummyInstrument\n",
    "chrono2 = DummyInstrument('chrono2', gates=['t0', 't1'])\n",
    "\n",
    "station.add_component(chrono2)"
   ]
  },
  {
   "cell_type": "code",
   "execution_count": 24,
   "id": "f683f30c-7fc5-4774-9352-45cf0a43605a",
   "metadata": {
    "tags": []
   },
   "outputs": [
    {
     "name": "stdout",
     "output_type": "stream",
     "text": [
      "Starting experimental run with id: 7. Using 'qcodes.dataset.do0d'\n"
     ]
    },
    {
     "name": "stderr",
     "output_type": "stream",
     "text": [
      "An exception occured in measurement with guid: aaaaaaaa-0000-0000-0000-01884b19b525;\n",
      "Traceback:\n",
      "Traceback (most recent call last):\n",
      "  File \"C:\\Users\\nicol\\miniconda3\\envs\\ohal\\Lib\\site-packages\\qcodes\\dataset\\dond\\do_0d.py\", line 83, in do0d\n",
      "    datasaver.add_result(*process_params_meas(param_meas, use_threads=use_threads))\n",
      "  File \"C:\\Users\\nicol\\miniconda3\\envs\\ohal\\Lib\\site-packages\\qcodes\\dataset\\measurements.py\", line 230, in add_result\n",
      "    self.dataset._enqueue_results(results_dict)\n",
      "  File \"C:\\Users\\nicol\\miniconda3\\envs\\ohal\\Lib\\site-packages\\qcodes\\dataset\\data_set.py\", line 1284, in _enqueue_results\n",
      "    self.cache.add_data(new_results)\n",
      "  File \"C:\\Users\\nicol\\miniconda3\\envs\\ohal\\Lib\\site-packages\\qcodes\\dataset\\data_set_cache.py\", line 124, in add_data\n",
      "    ) = append_shaped_parameter_data_to_existing_arrays(\n",
      "        ^^^^^^^^^^^^^^^^^^^^^^^^^^^^^^^^^^^^^^^^^^^^^^^^\n",
      "  File \"C:\\Users\\nicol\\miniconda3\\envs\\ohal\\Lib\\site-packages\\qcodes\\dataset\\data_set_cache.py\", line 297, in append_shaped_parameter_data_to_existing_arrays\n",
      "    updated_write_status[meas_parameter]) = _merge_data(\n",
      "                                            ^^^^^^^^^^^^\n",
      "  File \"C:\\Users\\nicol\\miniconda3\\envs\\ohal\\Lib\\site-packages\\qcodes\\dataset\\data_set_cache.py\", line 326, in _merge_data\n",
      "    single_param_merged_data, new_write_status = _merge_data_single_param(\n",
      "                                                 ^^^^^^^^^^^^^^^^^^^^^^^^^\n",
      "  File \"C:\\Users\\nicol\\miniconda3\\envs\\ohal\\Lib\\site-packages\\qcodes\\dataset\\data_set_cache.py\", line 365, in _merge_data_single_param\n",
      "    new_write_status) = _create_new_data_dict(\n",
      "                        ^^^^^^^^^^^^^^^^^^^^^^\n",
      "  File \"C:\\Users\\nicol\\miniconda3\\envs\\ohal\\Lib\\site-packages\\qcodes\\dataset\\data_set_cache.py\", line 392, in _create_new_data_dict\n",
      "    data.ravel()[0:n_values] = new_values.ravel()\n",
      "    ~~~~~~~~~~~~^^^^^^^^^^^^\n",
      "ValueError: could not broadcast input array from shape (3,) into shape (1,)\n",
      "\n"
     ]
    },
    {
     "ename": "ValueError",
     "evalue": "could not broadcast input array from shape (3,) into shape (1,)",
     "output_type": "error",
     "traceback": [
      "\u001b[1;31m---------------------------------------------------------------------------\u001b[0m",
      "\u001b[1;31mValueError\u001b[0m                                Traceback (most recent call last)",
      "Cell \u001b[1;32mIn[24], line 1\u001b[0m\n\u001b[1;32m----> 1\u001b[0m \u001b[43mdo0d\u001b[49m\u001b[43m(\u001b[49m\u001b[43mred\u001b[49m\u001b[38;5;241;43m.\u001b[39;49m\u001b[43macceleration\u001b[49m\u001b[43m)\u001b[49m\n",
      "File \u001b[1;32m~\\miniconda3\\envs\\ohal\\Lib\\site-packages\\qcodes\\dataset\\dond\\do_0d.py:83\u001b[0m, in \u001b[0;36mdo0d\u001b[1;34m(write_period, measurement_name, exp, do_plot, use_threads, log_info, *param_meas)\u001b[0m\n\u001b[0;32m     80\u001b[0m _set_write_period(meas, write_period)\n\u001b[0;32m     82\u001b[0m \u001b[38;5;28;01mwith\u001b[39;00m meas\u001b[38;5;241m.\u001b[39mrun() \u001b[38;5;28;01mas\u001b[39;00m datasaver:\n\u001b[1;32m---> 83\u001b[0m     \u001b[43mdatasaver\u001b[49m\u001b[38;5;241;43m.\u001b[39;49m\u001b[43madd_result\u001b[49m\u001b[43m(\u001b[49m\u001b[38;5;241;43m*\u001b[39;49m\u001b[43mprocess_params_meas\u001b[49m\u001b[43m(\u001b[49m\u001b[43mparam_meas\u001b[49m\u001b[43m,\u001b[49m\u001b[43m \u001b[49m\u001b[43muse_threads\u001b[49m\u001b[38;5;241;43m=\u001b[39;49m\u001b[43muse_threads\u001b[49m\u001b[43m)\u001b[49m\u001b[43m)\u001b[49m\n\u001b[0;32m     84\u001b[0m     dataset \u001b[38;5;241m=\u001b[39m datasaver\u001b[38;5;241m.\u001b[39mdataset\n\u001b[0;32m     86\u001b[0m \u001b[38;5;28;01mreturn\u001b[39;00m _handle_plotting(dataset, do_plot)\n",
      "File \u001b[1;32m~\\miniconda3\\envs\\ohal\\Lib\\site-packages\\qcodes\\dataset\\measurements.py:230\u001b[0m, in \u001b[0;36mDataSaver.add_result\u001b[1;34m(self, *res_tuple)\u001b[0m\n\u001b[0;32m    227\u001b[0m \u001b[38;5;28mself\u001b[39m\u001b[38;5;241m.\u001b[39m_validate_result_shapes(results_dict)\n\u001b[0;32m    228\u001b[0m \u001b[38;5;28mself\u001b[39m\u001b[38;5;241m.\u001b[39m_validate_result_types(results_dict)\n\u001b[1;32m--> 230\u001b[0m \u001b[38;5;28;43mself\u001b[39;49m\u001b[38;5;241;43m.\u001b[39;49m\u001b[43mdataset\u001b[49m\u001b[38;5;241;43m.\u001b[39;49m\u001b[43m_enqueue_results\u001b[49m\u001b[43m(\u001b[49m\u001b[43mresults_dict\u001b[49m\u001b[43m)\u001b[49m\n\u001b[0;32m    232\u001b[0m \u001b[38;5;28;01mif\u001b[39;00m perf_counter() \u001b[38;5;241m-\u001b[39m \u001b[38;5;28mself\u001b[39m\u001b[38;5;241m.\u001b[39m_last_save_time \u001b[38;5;241m>\u001b[39m \u001b[38;5;28mself\u001b[39m\u001b[38;5;241m.\u001b[39mwrite_period:\n\u001b[0;32m    233\u001b[0m     \u001b[38;5;28mself\u001b[39m\u001b[38;5;241m.\u001b[39mflush_data_to_database()\n",
      "File \u001b[1;32m~\\miniconda3\\envs\\ohal\\Lib\\site-packages\\qcodes\\dataset\\data_set.py:1284\u001b[0m, in \u001b[0;36mDataSet._enqueue_results\u001b[1;34m(self, result_dict)\u001b[0m\n\u001b[0;32m   1279\u001b[0m             new_results[st\u001b[38;5;241m.\u001b[39mname] \u001b[38;5;241m=\u001b[39m {\n\u001b[0;32m   1280\u001b[0m                 st\u001b[38;5;241m.\u001b[39mname: \u001b[38;5;28mself\u001b[39m\u001b[38;5;241m.\u001b[39m_reshape_array_for_cache(st, result_dict[st])\n\u001b[0;32m   1281\u001b[0m             }\n\u001b[0;32m   1283\u001b[0m \u001b[38;5;28;01mif\u001b[39;00m \u001b[38;5;28mself\u001b[39m\u001b[38;5;241m.\u001b[39m_in_memory_cache:\n\u001b[1;32m-> 1284\u001b[0m     \u001b[38;5;28;43mself\u001b[39;49m\u001b[38;5;241;43m.\u001b[39;49m\u001b[43mcache\u001b[49m\u001b[38;5;241;43m.\u001b[39;49m\u001b[43madd_data\u001b[49m\u001b[43m(\u001b[49m\u001b[43mnew_results\u001b[49m\u001b[43m)\u001b[49m\n",
      "File \u001b[1;32m~\\miniconda3\\envs\\ohal\\Lib\\site-packages\\qcodes\\dataset\\data_set_cache.py:124\u001b[0m, in \u001b[0;36mDataSetCache.add_data\u001b[1;34m(self, new_data)\u001b[0m\n\u001b[0;32m    116\u001b[0m \u001b[38;5;28;01mfor\u001b[39;00m param_name, single_param_dict \u001b[38;5;129;01min\u001b[39;00m new_data\u001b[38;5;241m.\u001b[39mitems():\n\u001b[0;32m    117\u001b[0m     expanded_data[param_name] \u001b[38;5;241m=\u001b[39m _expand_single_param_dict(\n\u001b[0;32m    118\u001b[0m         single_param_dict\n\u001b[0;32m    119\u001b[0m     )\n\u001b[0;32m    121\u001b[0m (\n\u001b[0;32m    122\u001b[0m     \u001b[38;5;28mself\u001b[39m\u001b[38;5;241m.\u001b[39m_write_status,\n\u001b[0;32m    123\u001b[0m     \u001b[38;5;28mself\u001b[39m\u001b[38;5;241m.\u001b[39m_data\n\u001b[1;32m--> 124\u001b[0m ) \u001b[38;5;241m=\u001b[39m \u001b[43mappend_shaped_parameter_data_to_existing_arrays\u001b[49m\u001b[43m(\u001b[49m\n\u001b[0;32m    125\u001b[0m \u001b[43m    \u001b[49m\u001b[38;5;28;43mself\u001b[39;49m\u001b[38;5;241;43m.\u001b[39;49m\u001b[43mrundescriber\u001b[49m\u001b[43m,\u001b[49m\n\u001b[0;32m    126\u001b[0m \u001b[43m    \u001b[49m\u001b[38;5;28;43mself\u001b[39;49m\u001b[38;5;241;43m.\u001b[39;49m\u001b[43m_write_status\u001b[49m\u001b[43m,\u001b[49m\n\u001b[0;32m    127\u001b[0m \u001b[43m    \u001b[49m\u001b[38;5;28;43mself\u001b[39;49m\u001b[38;5;241;43m.\u001b[39;49m\u001b[43m_data\u001b[49m\u001b[43m,\u001b[49m\n\u001b[0;32m    128\u001b[0m \u001b[43m    \u001b[49m\u001b[43mnew_data\u001b[49m\u001b[38;5;241;43m=\u001b[39;49m\u001b[43mexpanded_data\u001b[49m\n\u001b[0;32m    129\u001b[0m \u001b[43m\u001b[49m\u001b[43m)\u001b[49m\n\u001b[0;32m    131\u001b[0m \u001b[38;5;28;01mif\u001b[39;00m \u001b[38;5;129;01mnot\u001b[39;00m \u001b[38;5;28mall\u001b[39m(status \u001b[38;5;129;01mis\u001b[39;00m \u001b[38;5;28;01mNone\u001b[39;00m \u001b[38;5;28;01mfor\u001b[39;00m status \u001b[38;5;129;01min\u001b[39;00m \u001b[38;5;28mself\u001b[39m\u001b[38;5;241m.\u001b[39m_write_status\u001b[38;5;241m.\u001b[39mvalues()):\n\u001b[0;32m    132\u001b[0m     \u001b[38;5;28mself\u001b[39m\u001b[38;5;241m.\u001b[39m_live \u001b[38;5;241m=\u001b[39m \u001b[38;5;28;01mTrue\u001b[39;00m\n",
      "File \u001b[1;32m~\\miniconda3\\envs\\ohal\\Lib\\site-packages\\qcodes\\dataset\\data_set_cache.py:297\u001b[0m, in \u001b[0;36mappend_shaped_parameter_data_to_existing_arrays\u001b[1;34m(rundescriber, write_status, existing_data, new_data)\u001b[0m\n\u001b[0;32m    293\u001b[0m     \u001b[38;5;28;01melse\u001b[39;00m:\n\u001b[0;32m    294\u001b[0m         shape \u001b[38;5;241m=\u001b[39m \u001b[38;5;28;01mNone\u001b[39;00m\n\u001b[0;32m    296\u001b[0m     (merged_data[meas_parameter],\n\u001b[1;32m--> 297\u001b[0m      updated_write_status[meas_parameter]) \u001b[38;5;241m=\u001b[39m \u001b[43m_merge_data\u001b[49m\u001b[43m(\u001b[49m\n\u001b[0;32m    298\u001b[0m \u001b[43m        \u001b[49m\u001b[43mexisting_data_1_tree\u001b[49m\u001b[43m,\u001b[49m\n\u001b[0;32m    299\u001b[0m \u001b[43m        \u001b[49m\u001b[43mnew_data_1_tree\u001b[49m\u001b[43m,\u001b[49m\n\u001b[0;32m    300\u001b[0m \u001b[43m        \u001b[49m\u001b[43mshape\u001b[49m\u001b[43m,\u001b[49m\n\u001b[0;32m    301\u001b[0m \u001b[43m        \u001b[49m\u001b[43msingle_tree_write_status\u001b[49m\u001b[38;5;241;43m=\u001b[39;49m\u001b[43mwrite_status\u001b[49m\u001b[38;5;241;43m.\u001b[39;49m\u001b[43mget\u001b[49m\u001b[43m(\u001b[49m\u001b[43mmeas_parameter\u001b[49m\u001b[43m)\u001b[49m\u001b[43m,\u001b[49m\n\u001b[0;32m    302\u001b[0m \u001b[43m        \u001b[49m\u001b[43mmeas_parameter\u001b[49m\u001b[38;5;241;43m=\u001b[39;49m\u001b[43mmeas_parameter\u001b[49m\n\u001b[0;32m    303\u001b[0m \u001b[43m    \u001b[49m\u001b[43m)\u001b[49m\n\u001b[0;32m    304\u001b[0m \u001b[38;5;28;01mreturn\u001b[39;00m updated_write_status, merged_data\n",
      "File \u001b[1;32m~\\miniconda3\\envs\\ohal\\Lib\\site-packages\\qcodes\\dataset\\data_set_cache.py:326\u001b[0m, in \u001b[0;36m_merge_data\u001b[1;34m(existing_data, new_data, shape, single_tree_write_status, meas_parameter)\u001b[0m\n\u001b[0;32m    319\u001b[0m     \u001b[38;5;28;01mraise\u001b[39;00m \u001b[38;5;167;01mRuntimeError\u001b[39;00m(\n\u001b[0;32m    320\u001b[0m         \u001b[38;5;124m\"\u001b[39m\u001b[38;5;124mTrying to add unexpected key to cache.\u001b[39m\u001b[38;5;124m\"\u001b[39m\n\u001b[0;32m    321\u001b[0m         \u001b[38;5;124m\"\u001b[39m\u001b[38;5;124mThe following keys were unexpected: \u001b[39m\u001b[38;5;124m\"\u001b[39m\n\u001b[0;32m    322\u001b[0m         \u001b[38;5;124mf\u001b[39m\u001b[38;5;124m\"\u001b[39m\u001b[38;5;132;01m{\u001b[39;00m\u001b[38;5;28mset\u001b[39m(new_data\u001b[38;5;241m.\u001b[39mkeys()\u001b[38;5;250m \u001b[39m\u001b[38;5;241m-\u001b[39m\u001b[38;5;250m \u001b[39mexisting_data\u001b[38;5;241m.\u001b[39mkeys())\u001b[38;5;132;01m}\u001b[39;00m\u001b[38;5;124m\"\u001b[39m\n\u001b[0;32m    323\u001b[0m     )\n\u001b[0;32m    325\u001b[0m new_write_status: \u001b[38;5;28mint\u001b[39m \u001b[38;5;241m|\u001b[39m \u001b[38;5;28;01mNone\u001b[39;00m\n\u001b[1;32m--> 326\u001b[0m single_param_merged_data, new_write_status \u001b[38;5;241m=\u001b[39m \u001b[43m_merge_data_single_param\u001b[49m\u001b[43m(\u001b[49m\n\u001b[0;32m    327\u001b[0m \u001b[43m    \u001b[49m\u001b[43mexisting_data\u001b[49m\u001b[38;5;241;43m.\u001b[39;49m\u001b[43mget\u001b[49m\u001b[43m(\u001b[49m\u001b[43mmeas_parameter\u001b[49m\u001b[43m)\u001b[49m\u001b[43m,\u001b[49m\n\u001b[0;32m    328\u001b[0m \u001b[43m    \u001b[49m\u001b[43mnew_data\u001b[49m\u001b[38;5;241;43m.\u001b[39;49m\u001b[43mget\u001b[49m\u001b[43m(\u001b[49m\u001b[43mmeas_parameter\u001b[49m\u001b[43m)\u001b[49m\u001b[43m,\u001b[49m\n\u001b[0;32m    329\u001b[0m \u001b[43m    \u001b[49m\u001b[43mshape\u001b[49m\u001b[43m,\u001b[49m\n\u001b[0;32m    330\u001b[0m \u001b[43m    \u001b[49m\u001b[43msingle_tree_write_status\u001b[49m\n\u001b[0;32m    331\u001b[0m \u001b[43m\u001b[49m\u001b[43m)\u001b[49m\n\u001b[0;32m    332\u001b[0m \u001b[38;5;28;01mif\u001b[39;00m single_param_merged_data \u001b[38;5;129;01mis\u001b[39;00m \u001b[38;5;129;01mnot\u001b[39;00m \u001b[38;5;28;01mNone\u001b[39;00m:\n\u001b[0;32m    333\u001b[0m     subtree_merged_data[meas_parameter] \u001b[38;5;241m=\u001b[39m single_param_merged_data\n",
      "File \u001b[1;32m~\\miniconda3\\envs\\ohal\\Lib\\site-packages\\qcodes\\dataset\\data_set_cache.py:365\u001b[0m, in \u001b[0;36m_merge_data_single_param\u001b[1;34m(existing_values, new_values, shape, single_tree_write_status)\u001b[0m\n\u001b[0;32m    360\u001b[0m     (merged_data, new_write_status) \u001b[38;5;241m=\u001b[39m _insert_into_data_dict(\n\u001b[0;32m    361\u001b[0m         existing_values, new_values, single_tree_write_status, shape\u001b[38;5;241m=\u001b[39mshape\n\u001b[0;32m    362\u001b[0m     )\n\u001b[0;32m    363\u001b[0m \u001b[38;5;28;01melif\u001b[39;00m new_values \u001b[38;5;129;01mis\u001b[39;00m \u001b[38;5;129;01mnot\u001b[39;00m \u001b[38;5;28;01mNone\u001b[39;00m:\n\u001b[0;32m    364\u001b[0m     (merged_data,\n\u001b[1;32m--> 365\u001b[0m      new_write_status) \u001b[38;5;241m=\u001b[39m \u001b[43m_create_new_data_dict\u001b[49m\u001b[43m(\u001b[49m\n\u001b[0;32m    366\u001b[0m \u001b[43m        \u001b[49m\u001b[43mnew_values\u001b[49m\u001b[43m,\u001b[49m\n\u001b[0;32m    367\u001b[0m \u001b[43m        \u001b[49m\u001b[43mshape\u001b[49m\n\u001b[0;32m    368\u001b[0m \u001b[43m    \u001b[49m\u001b[43m)\u001b[49m\n\u001b[0;32m    369\u001b[0m \u001b[38;5;28;01melif\u001b[39;00m existing_values \u001b[38;5;129;01mis\u001b[39;00m \u001b[38;5;129;01mnot\u001b[39;00m \u001b[38;5;28;01mNone\u001b[39;00m:\n\u001b[0;32m    370\u001b[0m     merged_data \u001b[38;5;241m=\u001b[39m existing_values\n",
      "File \u001b[1;32m~\\miniconda3\\envs\\ohal\\Lib\\site-packages\\qcodes\\dataset\\data_set_cache.py:392\u001b[0m, in \u001b[0;36m_create_new_data_dict\u001b[1;34m(new_values, shape)\u001b[0m\n\u001b[0;32m    389\u001b[0m     \u001b[38;5;28;01melif\u001b[39;00m new_values\u001b[38;5;241m.\u001b[39mdtype\u001b[38;5;241m.\u001b[39mkind \u001b[38;5;241m==\u001b[39m \u001b[38;5;124m\"\u001b[39m\u001b[38;5;124mc\u001b[39m\u001b[38;5;124m\"\u001b[39m:\n\u001b[0;32m    390\u001b[0m         data[:] \u001b[38;5;241m=\u001b[39m np\u001b[38;5;241m.\u001b[39mnan \u001b[38;5;241m+\u001b[39m \u001b[38;5;241m1\u001b[39mj \u001b[38;5;241m*\u001b[39m np\u001b[38;5;241m.\u001b[39mnan\n\u001b[1;32m--> 392\u001b[0m     \u001b[43mdata\u001b[49m\u001b[38;5;241;43m.\u001b[39;49m\u001b[43mravel\u001b[49m\u001b[43m(\u001b[49m\u001b[43m)\u001b[49m\u001b[43m[\u001b[49m\u001b[38;5;241;43m0\u001b[39;49m\u001b[43m:\u001b[49m\u001b[43mn_values\u001b[49m\u001b[43m]\u001b[49m \u001b[38;5;241m=\u001b[39m new_values\u001b[38;5;241m.\u001b[39mravel()\n\u001b[0;32m    393\u001b[0m     \u001b[38;5;28;01mreturn\u001b[39;00m data, n_values\n\u001b[0;32m    394\u001b[0m \u001b[38;5;28;01melse\u001b[39;00m:\n",
      "\u001b[1;31mValueError\u001b[0m: could not broadcast input array from shape (3,) into shape (1,)"
     ]
    }
   ],
   "source": [
    "do0d(red.acceleration)"
   ]
  },
  {
   "cell_type": "code",
   "execution_count": 23,
   "id": "7a81a574-8bb7-4fd5-9e2a-52944b09a5ff",
   "metadata": {
    "tags": []
   },
   "outputs": [
    {
     "name": "stderr",
     "output_type": "stream",
     "text": [
      "Trying to mark a run completed that was already completed.\n"
     ]
    },
    {
     "ename": "ValueError",
     "evalue": "could not broadcast input array from shape (30,) into shape (10,)",
     "output_type": "error",
     "traceback": [
      "\u001b[1;31m---------------------------------------------------------------------------\u001b[0m",
      "\u001b[1;31mValueError\u001b[0m                                Traceback (most recent call last)",
      "Cell \u001b[1;32mIn[23], line 2\u001b[0m\n\u001b[0;32m      1\u001b[0m dataset_1d \u001b[38;5;241m=\u001b[39m load_by_run_spec(experiment_name\u001b[38;5;241m=\u001b[39m\u001b[38;5;124m'\u001b[39m\u001b[38;5;124mtestexp\u001b[39m\u001b[38;5;124m'\u001b[39m, captured_run_id\u001b[38;5;241m=\u001b[39m\u001b[38;5;241m6\u001b[39m)\n\u001b[1;32m----> 2\u001b[0m \u001b[43mplot_dataset\u001b[49m\u001b[43m(\u001b[49m\u001b[43mdataset_1d\u001b[49m\u001b[43m)\u001b[49m\n",
      "File \u001b[1;32m~\\miniconda3\\envs\\ohal\\Lib\\site-packages\\qcodes\\dataset\\plotting.py:196\u001b[0m, in \u001b[0;36mplot_dataset\u001b[1;34m(dataset, axes, colorbars, rescale_axes, auto_color_scale, cutoff_percentile, complex_plot_type, complex_plot_phase, **kwargs)\u001b[0m\n\u001b[0;32m    190\u001b[0m sample_name \u001b[38;5;241m=\u001b[39m dataset\u001b[38;5;241m.\u001b[39msample_name\n\u001b[0;32m    191\u001b[0m title \u001b[38;5;241m=\u001b[39m (\n\u001b[0;32m    192\u001b[0m     \u001b[38;5;124mf\u001b[39m\u001b[38;5;124m\"\u001b[39m\u001b[38;5;124mRun #\u001b[39m\u001b[38;5;132;01m{\u001b[39;00mdataset\u001b[38;5;241m.\u001b[39mcaptured_run_id\u001b[38;5;132;01m}\u001b[39;00m\u001b[38;5;124m, \u001b[39m\u001b[38;5;124m\"\u001b[39m\n\u001b[0;32m    193\u001b[0m     \u001b[38;5;124mf\u001b[39m\u001b[38;5;124m\"\u001b[39m\u001b[38;5;124mExperiment \u001b[39m\u001b[38;5;132;01m{\u001b[39;00mexperiment_name\u001b[38;5;132;01m}\u001b[39;00m\u001b[38;5;124m (\u001b[39m\u001b[38;5;132;01m{\u001b[39;00msample_name\u001b[38;5;132;01m}\u001b[39;00m\u001b[38;5;124m)\u001b[39m\u001b[38;5;124m\"\u001b[39m\n\u001b[0;32m    194\u001b[0m )\n\u001b[1;32m--> 196\u001b[0m alldata: NamedData \u001b[38;5;241m=\u001b[39m \u001b[43m_get_data_from_ds\u001b[49m\u001b[43m(\u001b[49m\u001b[43mdataset\u001b[49m\u001b[43m)\u001b[49m\n\u001b[0;32m    197\u001b[0m alldata \u001b[38;5;241m=\u001b[39m _complex_to_real_preparser(\n\u001b[0;32m    198\u001b[0m     alldata, conversion\u001b[38;5;241m=\u001b[39mcomplex_plot_type, degrees\u001b[38;5;241m=\u001b[39mdegrees\n\u001b[0;32m    199\u001b[0m )\n\u001b[0;32m    201\u001b[0m nplots \u001b[38;5;241m=\u001b[39m \u001b[38;5;28mlen\u001b[39m(alldata)\n",
      "File \u001b[1;32m~\\miniconda3\\envs\\ohal\\Lib\\site-packages\\qcodes\\dataset\\data_export.py:97\u001b[0m, in \u001b[0;36m_get_data_from_ds\u001b[1;34m(ds)\u001b[0m\n\u001b[0;32m     92\u001b[0m \u001b[38;5;28;01mdef\u001b[39;00m \u001b[38;5;21m_get_data_from_ds\u001b[39m(ds: DataSetProtocol) \u001b[38;5;241m-\u001b[39m\u001b[38;5;241m>\u001b[39m \u001b[38;5;28mlist\u001b[39m[\u001b[38;5;28mlist\u001b[39m[DSPlotData]]:\n\u001b[0;32m     93\u001b[0m     dependent_parameters: \u001b[38;5;28mtuple\u001b[39m[ParamSpecBase, \u001b[38;5;241m.\u001b[39m\u001b[38;5;241m.\u001b[39m\u001b[38;5;241m.\u001b[39m] \u001b[38;5;241m=\u001b[39m \u001b[38;5;28mtuple\u001b[39m(\n\u001b[0;32m     94\u001b[0m         ds\u001b[38;5;241m.\u001b[39mdescription\u001b[38;5;241m.\u001b[39minterdeps\u001b[38;5;241m.\u001b[39mdependencies\u001b[38;5;241m.\u001b[39mkeys()\n\u001b[0;32m     95\u001b[0m     )\n\u001b[1;32m---> 97\u001b[0m     all_data \u001b[38;5;241m=\u001b[39m \u001b[43mds\u001b[49m\u001b[38;5;241;43m.\u001b[39;49m\u001b[43mcache\u001b[49m\u001b[38;5;241;43m.\u001b[39;49m\u001b[43mdata\u001b[49m\u001b[43m(\u001b[49m\u001b[43m)\u001b[49m\n\u001b[0;32m     99\u001b[0m     parameter_data \u001b[38;5;241m=\u001b[39m {ps\u001b[38;5;241m.\u001b[39mname: all_data[ps\u001b[38;5;241m.\u001b[39mname] \u001b[38;5;28;01mfor\u001b[39;00m ps \u001b[38;5;129;01min\u001b[39;00m dependent_parameters}\n\u001b[0;32m    101\u001b[0m     output \u001b[38;5;241m=\u001b[39m []\n",
      "File \u001b[1;32m~\\miniconda3\\envs\\ohal\\Lib\\site-packages\\qcodes\\dataset\\data_set_cache.py:84\u001b[0m, in \u001b[0;36mDataSetCache.data\u001b[1;34m(self)\u001b[0m\n\u001b[0;32m     72\u001b[0m \u001b[38;5;250m\u001b[39m\u001b[38;5;124;03m\"\"\"\u001b[39;00m\n\u001b[0;32m     73\u001b[0m \u001b[38;5;124;03mLoads data from the database on disk if needed and returns\u001b[39;00m\n\u001b[0;32m     74\u001b[0m \u001b[38;5;124;03mthe cached data. The cached data is in almost the same format as\u001b[39;00m\n\u001b[1;32m   (...)\u001b[0m\n\u001b[0;32m     81\u001b[0m \u001b[38;5;124;03m    The cached dataset.\u001b[39;00m\n\u001b[0;32m     82\u001b[0m \u001b[38;5;124;03m\"\"\"\u001b[39;00m\n\u001b[0;32m     83\u001b[0m \u001b[38;5;28;01mif\u001b[39;00m \u001b[38;5;129;01mnot\u001b[39;00m \u001b[38;5;28mself\u001b[39m\u001b[38;5;241m.\u001b[39mlive:\n\u001b[1;32m---> 84\u001b[0m     \u001b[38;5;28;43mself\u001b[39;49m\u001b[38;5;241;43m.\u001b[39;49m\u001b[43mload_data_from_db\u001b[49m\u001b[43m(\u001b[49m\u001b[43m)\u001b[49m\n\u001b[0;32m     86\u001b[0m \u001b[38;5;28;01mreturn\u001b[39;00m \u001b[38;5;28mself\u001b[39m\u001b[38;5;241m.\u001b[39m_data\n",
      "File \u001b[1;32m~\\miniconda3\\envs\\ohal\\Lib\\site-packages\\qcodes\\dataset\\data_set_cache.py:496\u001b[0m, in \u001b[0;36mDataSetCacheWithDBBackend.load_data_from_db\u001b[1;34m(self)\u001b[0m\n\u001b[0;32m    490\u001b[0m \u001b[38;5;28;01mif\u001b[39;00m \u001b[38;5;28mself\u001b[39m\u001b[38;5;241m.\u001b[39m_data \u001b[38;5;241m==\u001b[39m {}:\n\u001b[0;32m    491\u001b[0m     \u001b[38;5;28mself\u001b[39m\u001b[38;5;241m.\u001b[39mprepare()\n\u001b[0;32m    492\u001b[0m (\n\u001b[0;32m    493\u001b[0m     \u001b[38;5;28mself\u001b[39m\u001b[38;5;241m.\u001b[39m_write_status,\n\u001b[0;32m    494\u001b[0m     \u001b[38;5;28mself\u001b[39m\u001b[38;5;241m.\u001b[39m_read_status,\n\u001b[0;32m    495\u001b[0m     \u001b[38;5;28mself\u001b[39m\u001b[38;5;241m.\u001b[39m_data,\n\u001b[1;32m--> 496\u001b[0m ) \u001b[38;5;241m=\u001b[39m \u001b[43mload_new_data_from_db_and_append\u001b[49m\u001b[43m(\u001b[49m\n\u001b[0;32m    497\u001b[0m \u001b[43m    \u001b[49m\u001b[38;5;28;43mself\u001b[39;49m\u001b[38;5;241;43m.\u001b[39;49m\u001b[43m_dataset\u001b[49m\u001b[38;5;241;43m.\u001b[39;49m\u001b[43mconn\u001b[49m\u001b[43m,\u001b[49m\n\u001b[0;32m    498\u001b[0m \u001b[43m    \u001b[49m\u001b[38;5;28;43mself\u001b[39;49m\u001b[38;5;241;43m.\u001b[39;49m\u001b[43m_dataset\u001b[49m\u001b[38;5;241;43m.\u001b[39;49m\u001b[43mtable_name\u001b[49m\u001b[43m,\u001b[49m\n\u001b[0;32m    499\u001b[0m \u001b[43m    \u001b[49m\u001b[38;5;28;43mself\u001b[39;49m\u001b[38;5;241;43m.\u001b[39;49m\u001b[43mrundescriber\u001b[49m\u001b[43m,\u001b[49m\n\u001b[0;32m    500\u001b[0m \u001b[43m    \u001b[49m\u001b[38;5;28;43mself\u001b[39;49m\u001b[38;5;241;43m.\u001b[39;49m\u001b[43m_write_status\u001b[49m\u001b[43m,\u001b[49m\n\u001b[0;32m    501\u001b[0m \u001b[43m    \u001b[49m\u001b[38;5;28;43mself\u001b[39;49m\u001b[38;5;241;43m.\u001b[39;49m\u001b[43m_read_status\u001b[49m\u001b[43m,\u001b[49m\n\u001b[0;32m    502\u001b[0m \u001b[43m    \u001b[49m\u001b[38;5;28;43mself\u001b[39;49m\u001b[38;5;241;43m.\u001b[39;49m\u001b[43m_data\u001b[49m\u001b[43m,\u001b[49m\n\u001b[0;32m    503\u001b[0m \u001b[43m\u001b[49m\u001b[43m)\u001b[49m\n\u001b[0;32m    504\u001b[0m data_not_read \u001b[38;5;241m=\u001b[39m \u001b[38;5;28mall\u001b[39m(\n\u001b[0;32m    505\u001b[0m     status \u001b[38;5;129;01mis\u001b[39;00m \u001b[38;5;28;01mNone\u001b[39;00m \u001b[38;5;129;01mor\u001b[39;00m status \u001b[38;5;241m==\u001b[39m \u001b[38;5;241m0\u001b[39m \u001b[38;5;28;01mfor\u001b[39;00m status \u001b[38;5;129;01min\u001b[39;00m \u001b[38;5;28mself\u001b[39m\u001b[38;5;241m.\u001b[39m_write_status\u001b[38;5;241m.\u001b[39mvalues()\n\u001b[0;32m    506\u001b[0m )\n\u001b[0;32m    507\u001b[0m \u001b[38;5;28;01mif\u001b[39;00m \u001b[38;5;129;01mnot\u001b[39;00m data_not_read:\n",
      "File \u001b[1;32m~\\miniconda3\\envs\\ohal\\Lib\\site-packages\\qcodes\\dataset\\data_set_cache.py:246\u001b[0m, in \u001b[0;36mload_new_data_from_db_and_append\u001b[1;34m(conn, table_name, rundescriber, write_status, read_status, existing_data)\u001b[0m\n\u001b[0;32m    220\u001b[0m \u001b[38;5;250m\u001b[39m\u001b[38;5;124;03m\"\"\"\u001b[39;00m\n\u001b[0;32m    221\u001b[0m \u001b[38;5;124;03mAppend any new data in the db to an already existing datadict and return the merged\u001b[39;00m\n\u001b[0;32m    222\u001b[0m \u001b[38;5;124;03mdata.\u001b[39;00m\n\u001b[1;32m   (...)\u001b[0m\n\u001b[0;32m    239\u001b[0m \n\u001b[0;32m    240\u001b[0m \u001b[38;5;124;03m\"\"\"\u001b[39;00m\n\u001b[0;32m    241\u001b[0m new_data, updated_read_status \u001b[38;5;241m=\u001b[39m load_new_data_for_rundescriber(\n\u001b[0;32m    242\u001b[0m     conn, table_name, rundescriber, read_status\n\u001b[0;32m    243\u001b[0m )\n\u001b[0;32m    245\u001b[0m (updated_write_status,\n\u001b[1;32m--> 246\u001b[0m  merged_data) \u001b[38;5;241m=\u001b[39m \u001b[43mappend_shaped_parameter_data_to_existing_arrays\u001b[49m\u001b[43m(\u001b[49m\n\u001b[0;32m    247\u001b[0m \u001b[43m    \u001b[49m\u001b[43mrundescriber\u001b[49m\u001b[43m,\u001b[49m\n\u001b[0;32m    248\u001b[0m \u001b[43m    \u001b[49m\u001b[43mwrite_status\u001b[49m\u001b[43m,\u001b[49m\n\u001b[0;32m    249\u001b[0m \u001b[43m    \u001b[49m\u001b[43mexisting_data\u001b[49m\u001b[43m,\u001b[49m\n\u001b[0;32m    250\u001b[0m \u001b[43m    \u001b[49m\u001b[43mnew_data\u001b[49m\n\u001b[0;32m    251\u001b[0m \u001b[43m\u001b[49m\u001b[43m)\u001b[49m\n\u001b[0;32m    252\u001b[0m \u001b[38;5;28;01mreturn\u001b[39;00m updated_write_status, updated_read_status, merged_data\n",
      "File \u001b[1;32m~\\miniconda3\\envs\\ohal\\Lib\\site-packages\\qcodes\\dataset\\data_set_cache.py:297\u001b[0m, in \u001b[0;36mappend_shaped_parameter_data_to_existing_arrays\u001b[1;34m(rundescriber, write_status, existing_data, new_data)\u001b[0m\n\u001b[0;32m    293\u001b[0m     \u001b[38;5;28;01melse\u001b[39;00m:\n\u001b[0;32m    294\u001b[0m         shape \u001b[38;5;241m=\u001b[39m \u001b[38;5;28;01mNone\u001b[39;00m\n\u001b[0;32m    296\u001b[0m     (merged_data[meas_parameter],\n\u001b[1;32m--> 297\u001b[0m      updated_write_status[meas_parameter]) \u001b[38;5;241m=\u001b[39m \u001b[43m_merge_data\u001b[49m\u001b[43m(\u001b[49m\n\u001b[0;32m    298\u001b[0m \u001b[43m        \u001b[49m\u001b[43mexisting_data_1_tree\u001b[49m\u001b[43m,\u001b[49m\n\u001b[0;32m    299\u001b[0m \u001b[43m        \u001b[49m\u001b[43mnew_data_1_tree\u001b[49m\u001b[43m,\u001b[49m\n\u001b[0;32m    300\u001b[0m \u001b[43m        \u001b[49m\u001b[43mshape\u001b[49m\u001b[43m,\u001b[49m\n\u001b[0;32m    301\u001b[0m \u001b[43m        \u001b[49m\u001b[43msingle_tree_write_status\u001b[49m\u001b[38;5;241;43m=\u001b[39;49m\u001b[43mwrite_status\u001b[49m\u001b[38;5;241;43m.\u001b[39;49m\u001b[43mget\u001b[49m\u001b[43m(\u001b[49m\u001b[43mmeas_parameter\u001b[49m\u001b[43m)\u001b[49m\u001b[43m,\u001b[49m\n\u001b[0;32m    302\u001b[0m \u001b[43m        \u001b[49m\u001b[43mmeas_parameter\u001b[49m\u001b[38;5;241;43m=\u001b[39;49m\u001b[43mmeas_parameter\u001b[49m\n\u001b[0;32m    303\u001b[0m \u001b[43m    \u001b[49m\u001b[43m)\u001b[49m\n\u001b[0;32m    304\u001b[0m \u001b[38;5;28;01mreturn\u001b[39;00m updated_write_status, merged_data\n",
      "File \u001b[1;32m~\\miniconda3\\envs\\ohal\\Lib\\site-packages\\qcodes\\dataset\\data_set_cache.py:326\u001b[0m, in \u001b[0;36m_merge_data\u001b[1;34m(existing_data, new_data, shape, single_tree_write_status, meas_parameter)\u001b[0m\n\u001b[0;32m    319\u001b[0m     \u001b[38;5;28;01mraise\u001b[39;00m \u001b[38;5;167;01mRuntimeError\u001b[39;00m(\n\u001b[0;32m    320\u001b[0m         \u001b[38;5;124m\"\u001b[39m\u001b[38;5;124mTrying to add unexpected key to cache.\u001b[39m\u001b[38;5;124m\"\u001b[39m\n\u001b[0;32m    321\u001b[0m         \u001b[38;5;124m\"\u001b[39m\u001b[38;5;124mThe following keys were unexpected: \u001b[39m\u001b[38;5;124m\"\u001b[39m\n\u001b[0;32m    322\u001b[0m         \u001b[38;5;124mf\u001b[39m\u001b[38;5;124m\"\u001b[39m\u001b[38;5;132;01m{\u001b[39;00m\u001b[38;5;28mset\u001b[39m(new_data\u001b[38;5;241m.\u001b[39mkeys()\u001b[38;5;250m \u001b[39m\u001b[38;5;241m-\u001b[39m\u001b[38;5;250m \u001b[39mexisting_data\u001b[38;5;241m.\u001b[39mkeys())\u001b[38;5;132;01m}\u001b[39;00m\u001b[38;5;124m\"\u001b[39m\n\u001b[0;32m    323\u001b[0m     )\n\u001b[0;32m    325\u001b[0m new_write_status: \u001b[38;5;28mint\u001b[39m \u001b[38;5;241m|\u001b[39m \u001b[38;5;28;01mNone\u001b[39;00m\n\u001b[1;32m--> 326\u001b[0m single_param_merged_data, new_write_status \u001b[38;5;241m=\u001b[39m \u001b[43m_merge_data_single_param\u001b[49m\u001b[43m(\u001b[49m\n\u001b[0;32m    327\u001b[0m \u001b[43m    \u001b[49m\u001b[43mexisting_data\u001b[49m\u001b[38;5;241;43m.\u001b[39;49m\u001b[43mget\u001b[49m\u001b[43m(\u001b[49m\u001b[43mmeas_parameter\u001b[49m\u001b[43m)\u001b[49m\u001b[43m,\u001b[49m\n\u001b[0;32m    328\u001b[0m \u001b[43m    \u001b[49m\u001b[43mnew_data\u001b[49m\u001b[38;5;241;43m.\u001b[39;49m\u001b[43mget\u001b[49m\u001b[43m(\u001b[49m\u001b[43mmeas_parameter\u001b[49m\u001b[43m)\u001b[49m\u001b[43m,\u001b[49m\n\u001b[0;32m    329\u001b[0m \u001b[43m    \u001b[49m\u001b[43mshape\u001b[49m\u001b[43m,\u001b[49m\n\u001b[0;32m    330\u001b[0m \u001b[43m    \u001b[49m\u001b[43msingle_tree_write_status\u001b[49m\n\u001b[0;32m    331\u001b[0m \u001b[43m\u001b[49m\u001b[43m)\u001b[49m\n\u001b[0;32m    332\u001b[0m \u001b[38;5;28;01mif\u001b[39;00m single_param_merged_data \u001b[38;5;129;01mis\u001b[39;00m \u001b[38;5;129;01mnot\u001b[39;00m \u001b[38;5;28;01mNone\u001b[39;00m:\n\u001b[0;32m    333\u001b[0m     subtree_merged_data[meas_parameter] \u001b[38;5;241m=\u001b[39m single_param_merged_data\n",
      "File \u001b[1;32m~\\miniconda3\\envs\\ohal\\Lib\\site-packages\\qcodes\\dataset\\data_set_cache.py:365\u001b[0m, in \u001b[0;36m_merge_data_single_param\u001b[1;34m(existing_values, new_values, shape, single_tree_write_status)\u001b[0m\n\u001b[0;32m    360\u001b[0m     (merged_data, new_write_status) \u001b[38;5;241m=\u001b[39m _insert_into_data_dict(\n\u001b[0;32m    361\u001b[0m         existing_values, new_values, single_tree_write_status, shape\u001b[38;5;241m=\u001b[39mshape\n\u001b[0;32m    362\u001b[0m     )\n\u001b[0;32m    363\u001b[0m \u001b[38;5;28;01melif\u001b[39;00m new_values \u001b[38;5;129;01mis\u001b[39;00m \u001b[38;5;129;01mnot\u001b[39;00m \u001b[38;5;28;01mNone\u001b[39;00m:\n\u001b[0;32m    364\u001b[0m     (merged_data,\n\u001b[1;32m--> 365\u001b[0m      new_write_status) \u001b[38;5;241m=\u001b[39m \u001b[43m_create_new_data_dict\u001b[49m\u001b[43m(\u001b[49m\n\u001b[0;32m    366\u001b[0m \u001b[43m        \u001b[49m\u001b[43mnew_values\u001b[49m\u001b[43m,\u001b[49m\n\u001b[0;32m    367\u001b[0m \u001b[43m        \u001b[49m\u001b[43mshape\u001b[49m\n\u001b[0;32m    368\u001b[0m \u001b[43m    \u001b[49m\u001b[43m)\u001b[49m\n\u001b[0;32m    369\u001b[0m \u001b[38;5;28;01melif\u001b[39;00m existing_values \u001b[38;5;129;01mis\u001b[39;00m \u001b[38;5;129;01mnot\u001b[39;00m \u001b[38;5;28;01mNone\u001b[39;00m:\n\u001b[0;32m    370\u001b[0m     merged_data \u001b[38;5;241m=\u001b[39m existing_values\n",
      "File \u001b[1;32m~\\miniconda3\\envs\\ohal\\Lib\\site-packages\\qcodes\\dataset\\data_set_cache.py:392\u001b[0m, in \u001b[0;36m_create_new_data_dict\u001b[1;34m(new_values, shape)\u001b[0m\n\u001b[0;32m    389\u001b[0m     \u001b[38;5;28;01melif\u001b[39;00m new_values\u001b[38;5;241m.\u001b[39mdtype\u001b[38;5;241m.\u001b[39mkind \u001b[38;5;241m==\u001b[39m \u001b[38;5;124m\"\u001b[39m\u001b[38;5;124mc\u001b[39m\u001b[38;5;124m\"\u001b[39m:\n\u001b[0;32m    390\u001b[0m         data[:] \u001b[38;5;241m=\u001b[39m np\u001b[38;5;241m.\u001b[39mnan \u001b[38;5;241m+\u001b[39m \u001b[38;5;241m1\u001b[39mj \u001b[38;5;241m*\u001b[39m np\u001b[38;5;241m.\u001b[39mnan\n\u001b[1;32m--> 392\u001b[0m     \u001b[43mdata\u001b[49m\u001b[38;5;241;43m.\u001b[39;49m\u001b[43mravel\u001b[49m\u001b[43m(\u001b[49m\u001b[43m)\u001b[49m\u001b[43m[\u001b[49m\u001b[38;5;241;43m0\u001b[39;49m\u001b[43m:\u001b[49m\u001b[43mn_values\u001b[49m\u001b[43m]\u001b[49m \u001b[38;5;241m=\u001b[39m new_values\u001b[38;5;241m.\u001b[39mravel()\n\u001b[0;32m    393\u001b[0m     \u001b[38;5;28;01mreturn\u001b[39;00m data, n_values\n\u001b[0;32m    394\u001b[0m \u001b[38;5;28;01melse\u001b[39;00m:\n",
      "\u001b[1;31mValueError\u001b[0m: could not broadcast input array from shape (30,) into shape (10,)"
     ]
    }
   ],
   "source": [
    "dataset_1d = load_by_run_spec(experiment_name='testexp', captured_run_id=6)\n",
    "plot_dataset(dataset_1d)"
   ]
  },
  {
   "cell_type": "code",
   "execution_count": null,
   "id": "e432d12f-2a39-4dfa-a68f-2081a8cee927",
   "metadata": {},
   "outputs": [],
   "source": []
  },
  {
   "cell_type": "code",
   "execution_count": null,
   "id": "cfe335e3-6da9-47aa-9cec-ebc684e73ca5",
   "metadata": {},
   "outputs": [],
   "source": []
  },
  {
   "cell_type": "markdown",
   "id": "eef015c9-654a-4b96-955a-140d8d3cb16a",
   "metadata": {
    "jp-MarkdownHeadingCollapsed": true,
    "tags": []
   },
   "source": [
    "<h3>VNA</h3>"
   ]
  },
  {
   "cell_type": "code",
   "execution_count": null,
   "id": "defb3641-b387-40e6-8333-4dd0719a5a68",
   "metadata": {},
   "outputs": [],
   "source": [
    "red.vna_start(2e6)\n",
    "red.vna_stop(10e6)\n",
    "red.vna_points(11)\n",
    "red.vna_rbw(10e3)\n",
    "\n",
    "red.vna_amplitude(0.001)\n",
    "red.vna_averages(1)"
   ]
  },
  {
   "cell_type": "code",
   "execution_count": null,
   "id": "32c7f2da-2c18-4670-8708-d8214afbfc9b",
   "metadata": {
    "tags": []
   },
   "outputs": [],
   "source": [
    "mag1, phase1 = red.VNA1()\n",
    "mag2, phase2 = red.VNA2()"
   ]
  },
  {
   "cell_type": "code",
   "execution_count": null,
   "id": "1fcd0a2f-ef60-49a5-8b3e-29c6e1afa134",
   "metadata": {},
   "outputs": [],
   "source": [
    "fig, ax = plt.subplots(1, 1, figsize=(12,4))\n",
    "ax.semilogy(red.frequency_axis()/1e6, mag1)\n",
    "ax.semilogy(red.frequency_axis()/1e6, mag2)"
   ]
  },
  {
   "cell_type": "code",
   "execution_count": null,
   "id": "d0dcdb41-7442-4eda-b320-c18ff35788e7",
   "metadata": {
    "tags": []
   },
   "outputs": [],
   "source": [
    "from scipy.optimize import curve_fit\n",
    "def lorentzian(x, x0, a, gamma ):\n",
    "    return a * gamma**2 / ( gamma**2 + ( x - x0 )**2)"
   ]
  },
  {
   "cell_type": "code",
   "execution_count": null,
   "id": "8310174f-3ce1-4849-a043-5ce6e1f8c09b",
   "metadata": {
    "tags": []
   },
   "outputs": [],
   "source": [
    "start = 400\n",
    "stop = 470\n",
    "\n",
    "x = red.frequency_axis()[start:stop] / 1e6\n",
    "y = mag1[start:stop]**2 / np.max(mag1**2)"
   ]
  },
  {
   "cell_type": "code",
   "execution_count": null,
   "id": "d7bed587-5c45-4c0f-b844-86c3efb5e60b",
   "metadata": {
    "tags": []
   },
   "outputs": [],
   "source": [
    "popt, _ = curve_fit(lorentzian, x, y)\n",
    "popt"
   ]
  },
  {
   "cell_type": "code",
   "execution_count": null,
   "id": "ffb76053-b107-4981-80e0-d0e431ea8fc1",
   "metadata": {
    "tags": []
   },
   "outputs": [],
   "source": [
    "plt.plot(x, y, 'o')\n",
    "plt.plot(x, lorentzian(x, *popt))"
   ]
  },
  {
   "cell_type": "code",
   "execution_count": null,
   "id": "511e1b4e-bbc1-4017-81fe-ef918381e6d7",
   "metadata": {},
   "outputs": [],
   "source": []
  },
  {
   "cell_type": "code",
   "execution_count": null,
   "id": "efbdf62f-afd1-4425-9a82-8e4a317f984f",
   "metadata": {},
   "outputs": [],
   "source": []
  },
  {
   "cell_type": "markdown",
   "id": "b03e2a1c-834b-4004-9206-95c6b8e92653",
   "metadata": {
    "tags": []
   },
   "source": [
    "<h3>Waveforms</h3>"
   ]
  },
  {
   "cell_type": "code",
   "execution_count": null,
   "id": "3388026e-2fe8-43f0-9820-9a122ca736ea",
   "metadata": {
    "tags": []
   },
   "outputs": [],
   "source": [
    "# settings\n",
    "# gen 1\n",
    "red.OUT1_amplitude(1)\n",
    "red.OUT1_frequency(5e6)\n",
    "red.OUT1_status('ON')\n",
    "\n",
    "# gen 2\n",
    "red.OUT2_amplitude(0.01)\n",
    "red.OUT2_frequency(2e5)\n",
    "red.OUT2_status('OFF')"
   ]
  },
  {
   "cell_type": "code",
   "execution_count": null,
   "id": "1a335e1f-4d63-4abd-b483-94f180b4cffb",
   "metadata": {},
   "outputs": [],
   "source": [
    "# adc parameters\n",
    "fs = H.sampling_frequency"
   ]
  },
  {
   "cell_type": "code",
   "execution_count": null,
   "id": "f9703ffb-0dfa-490a-8fe2-e40203e5780b",
   "metadata": {
    "tags": []
   },
   "outputs": [],
   "source": [
    "# acquisition\n",
    "red.acquisition_length(10)\n",
    "data = red.IN1()"
   ]
  },
  {
   "cell_type": "code",
   "execution_count": null,
   "id": "22ed677b-b618-4367-9cd3-169f4987f5e3",
   "metadata": {
    "tags": []
   },
   "outputs": [],
   "source": [
    "fig, ax = plt.subplots(2, 1, figsize=(10,6))\n",
    "n_start = 1\n",
    "n_stop = 2**11\n",
    "\n",
    "ax[0].imshow( data[:,n_start:n_stop], aspect='auto', origin='lower' )\n",
    "ax[1].imshow( np.log10(periodogram( data[:,n_start:n_stop] )[1][1:]), aspect='auto', origin='lower' )\n",
    "\n",
    "#ax[1].set_ylim([1e-8,1])"
   ]
  },
  {
   "cell_type": "code",
   "execution_count": null,
   "id": "a4c8101c-99ef-4c8d-83a0-dfba73352e85",
   "metadata": {
    "tags": []
   },
   "outputs": [],
   "source": [
    "fig, ax = plt.subplots(2, 1, figsize=(10,6))\n",
    "n_start = 1\n",
    "n_stop = 2**10\n",
    "num = 0\n",
    "\n",
    "ax[0].plot(data[num, n_start:n_stop])\n",
    "\n",
    "f = periodogram(data[num, n_start:n_stop], fs=fs)[0]\n",
    "rbw = f[1] - f[0]\n",
    "m = rbw * periodogram(data[num, n_start:n_stop], window='hann', fs=fs)[1]\n",
    "ax[1].semilogy(f, m)"
   ]
  },
  {
   "cell_type": "code",
   "execution_count": null,
   "id": "8728c61d-3bf3-4e10-8476-2a817ca4248e",
   "metadata": {
    "tags": []
   },
   "outputs": [],
   "source": [
    "red.estimated_duty_cycle()"
   ]
  },
  {
   "cell_type": "code",
   "execution_count": null,
   "id": "4942f603-338c-4416-ac7c-c86d32d2ecb8",
   "metadata": {},
   "outputs": [],
   "source": []
  },
  {
   "cell_type": "code",
   "execution_count": null,
   "id": "623b5949-b6f0-4699-b820-ae0be4f1519c",
   "metadata": {
    "tags": []
   },
   "outputs": [],
   "source": []
  }
 ],
 "metadata": {
  "kernelspec": {
   "display_name": "Python 3 (ipykernel)",
   "language": "python",
   "name": "python3"
  },
  "language_info": {
   "codemirror_mode": {
    "name": "ipython",
    "version": 3
   },
   "file_extension": ".py",
   "mimetype": "text/x-python",
   "name": "python",
   "nbconvert_exporter": "python",
   "pygments_lexer": "ipython3",
   "version": "3.11.3"
  }
 },
 "nbformat": 4,
 "nbformat_minor": 5
}

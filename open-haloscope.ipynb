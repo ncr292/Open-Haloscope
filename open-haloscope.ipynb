{
 "cells": [
  {
   "cell_type": "markdown",
   "id": "5eb78610-e410-4198-9100-9844b7c3dc82",
   "metadata": {},
   "source": [
    "<h1>Open haloscope</h1>"
   ]
  },
  {
   "cell_type": "markdown",
   "id": "7ace8447-750d-4524-8eb0-f52cf5d32c9f",
   "metadata": {
    "tags": []
   },
   "source": [
    "<h4>Imports</h4>"
   ]
  },
  {
   "cell_type": "code",
   "execution_count": 1,
   "id": "0a0d32c6-1feb-406c-8298-b1d549600cee",
   "metadata": {
    "tags": []
   },
   "outputs": [],
   "source": [
    "import sys, os\n",
    "import time\n",
    "\n",
    "import numpy as np\n",
    "from scipy.signal import periodogram, welch\n",
    "\n",
    "import matplotlib.pyplot as plt\n",
    "# plot options\n",
    "plt.rc('text', usetex = True)\n",
    "plt.rc('font', family = 'serif', size=18)"
   ]
  },
  {
   "cell_type": "markdown",
   "id": "677d0d4c-d316-469b-896e-bfbb63124ce4",
   "metadata": {
    "tags": []
   },
   "source": [
    "<h3>Loading haloscope libraries</h3>"
   ]
  },
  {
   "cell_type": "code",
   "execution_count": 2,
   "id": "446a3931-bfbd-4eb2-a59a-95a5c7320feb",
   "metadata": {
    "tags": []
   },
   "outputs": [],
   "source": [
    "import lib.open_haloscope.experiment as experiment\n",
    "import lib.open_haloscope.particles as particles\n",
    "\n",
    "from lib.open_haloscope.utils import OHUtils"
   ]
  },
  {
   "cell_type": "code",
   "execution_count": 3,
   "id": "1c78f636-87a8-497d-b35f-6095e5de618c",
   "metadata": {
    "tags": []
   },
   "outputs": [],
   "source": [
    "haloscope_name = 'kakapo_haloscope'\n",
    "haloscope_json = OHUtils.load_experiment_json(haloscope_name)\n",
    "\n",
    "H = experiment.FermionicHaloscope(haloscope_json)"
   ]
  },
  {
   "cell_type": "code",
   "execution_count": 4,
   "id": "3e8497c3-5fb7-403e-ba62-c1f299caaee8",
   "metadata": {
    "tags": []
   },
   "outputs": [
    {
     "name": "stdout",
     "output_type": "stream",
     "text": [
      "Connected to: REDPITAYA INSTR2020 (serial:0, firmware:01-02) in 0.42s\n"
     ]
    }
   ],
   "source": [
    "from lib.red.redpitaya_qcodes import Redpitaya\n",
    "red = Redpitaya('redpitaya', address=H.experiment_parameters['redpitaya_eth0_ip'])"
   ]
  },
  {
   "cell_type": "markdown",
   "id": "eba6979f-fd52-4878-9e0b-7db0478932ad",
   "metadata": {
    "jp-MarkdownHeadingCollapsed": true,
    "tags": []
   },
   "source": [
    "<h3>Initialise and characterise the experiment</h3>"
   ]
  },
  {
   "cell_type": "code",
   "execution_count": 5,
   "id": "fffc8e38-7556-4eaa-9e24-a78de94c34b4",
   "metadata": {
    "tags": []
   },
   "outputs": [
    {
     "name": "stdout",
     "output_type": "stream",
     "text": [
      "Loading instrumentation\n",
      "  redpitaya added to the experiment\n",
      "\n",
      "Setup the radiofrequency lines\n",
      " input gain set to LV\n",
      " trigger level = 0.0 V, decimation = 8\n",
      " resulting sampling frequency = 15.625 MHz\n",
      " buffer length = 16384 samples, i.e. 0.001048576 s\n",
      " output generators triggered, phase aligned and turned off\n",
      "\n",
      "Starting UART communication\n",
      " testing sensors\n",
      " temperature = 298.90999999999997 K\n",
      " pressure = 1.1394600000000001 bar\n",
      " magnetic field = 2.36328125 V\n",
      " photoresistance = 0.029296875 V\n",
      " acceleration = (0.16, 0.0, 10.36) m/s^2\n",
      "\n",
      "Configuring data storage\n",
      " data are stored in C:\\Users\\nicol\\Progetti\\Open Haloscope\\data\\runs\\2023-06-07\n",
      " logs are stored in C:\\Users\\nicol\\Progetti\\Open Haloscope\\data\\logs\\2023-06-07\n",
      " QCodes station, QCodes database and logfiles configured\n",
      "\n",
      "Haloscope initialised. Good luck, dark matter hunter.\n"
     ]
    }
   ],
   "source": [
    "H.initialise_haloscope([red], decimation=8)"
   ]
  },
  {
   "cell_type": "code",
   "execution_count": null,
   "id": "a1931183-e1d5-48d2-82ae-61bc927b9d7b",
   "metadata": {
    "tags": []
   },
   "outputs": [],
   "source": [
    "H.characterise(frequency_points=2001, \n",
    "               averages=20, \n",
    "               monitoring_time=500, \n",
    "               plot=True)"
   ]
  },
  {
   "cell_type": "code",
   "execution_count": null,
   "id": "026278e6-b70d-46fa-b87d-1b7db01956c8",
   "metadata": {
    "tags": []
   },
   "outputs": [],
   "source": [
    "H.experiment_parameters"
   ]
  },
  {
   "cell_type": "code",
   "execution_count": null,
   "id": "e26ea1eb-aaa9-432a-a72b-d8301a57a33a",
   "metadata": {
    "tags": []
   },
   "outputs": [],
   "source": [
    "H.update_json_file(haloscope_json, H.experiment_parameters)"
   ]
  },
  {
   "cell_type": "markdown",
   "id": "0c8f87d2-0a96-40ad-bc69-00d4ef6e79c1",
   "metadata": {
    "jp-MarkdownHeadingCollapsed": true,
    "tags": []
   },
   "source": [
    "<h3>Haloscope operation</h3>\n",
    "Before running this part, check that the inputs of the redpitaya are switched to HV, since the input signal is going to be large, and will otherwise saturate the ADC."
   ]
  },
  {
   "cell_type": "code",
   "execution_count": null,
   "id": "e432d12f-2a39-4dfa-a68f-2081a8cee927",
   "metadata": {
    "tags": []
   },
   "outputs": [],
   "source": [
    "amplitude_gen_1 = 1 # volt\n",
    "amplitude_gen_2 = 1 # volt\n",
    "\n",
    "H.prepare_for_operation(a1=amplitude_gen_1, a2=amplitude_gen_2)"
   ]
  },
  {
   "cell_type": "code",
   "execution_count": null,
   "id": "01f7f707-9f65-49b7-b3f4-d14d18a5b11e",
   "metadata": {},
   "outputs": [],
   "source": [
    "run_time = 10000 # seconds\n",
    "data_saver_periodicity = 10 # seconds\n",
    "\n",
    "H.run(run_time, data_saver_periodicity)"
   ]
  },
  {
   "cell_type": "code",
   "execution_count": null,
   "id": "efbdf62f-afd1-4425-9a82-8e4a317f984f",
   "metadata": {},
   "outputs": [],
   "source": []
  },
  {
   "cell_type": "markdown",
   "id": "b03e2a1c-834b-4004-9206-95c6b8e92653",
   "metadata": {
    "tags": []
   },
   "source": [
    "<h3>Run analysis</h3>"
   ]
  },
  {
   "cell_type": "code",
   "execution_count": 6,
   "id": "b1a2a48f-204e-4889-bf27-f3f6b1892fe6",
   "metadata": {},
   "outputs": [
    {
     "name": "stdout",
     "output_type": "stream",
     "text": [
      "Loading data\n",
      " loading data from C:\\Users\\nicol\\Progetti\\Open Haloscope\\data\\runs\\2023-06-05\\RUN_5_experiment_data.db\n",
      " RUN_5 data loaded\n",
      "\n",
      "Interferometric down-conversion\n",
      " north arm frequency 5.454690349638967 MHz, east arm frequency 5.630663245536586 MHz\n",
      " phase_noise_rejection mode selected\n",
      " down-conversion frequency set to 5.542676797587776 MHz\n",
      "\n",
      "Analysis and averaging\n",
      " in progress\n"
     ]
    },
    {
     "name": "stderr",
     "output_type": "stream",
     "text": [
      "1002it [01:27, 11.40it/s]                                                                                              \n"
     ]
    },
    {
     "name": "stdout",
     "output_type": "stream",
     "text": [
      " averaging completed\n"
     ]
    }
   ],
   "source": [
    "f1, b1 = H.analyse_run(\"RUN_5\", 1000)"
   ]
  },
  {
   "cell_type": "code",
   "execution_count": 7,
   "id": "c4afd6d6-8113-4634-84cc-99559de8bbf9",
   "metadata": {},
   "outputs": [
    {
     "name": "stdout",
     "output_type": "stream",
     "text": [
      "Loading data\n",
      " loading data from C:\\Users\\nicol\\Progetti\\Open Haloscope\\data\\runs\\2023-06-06\\RUN_6_experiment_data.db\n",
      " RUN_6 data loaded\n",
      "\n",
      "Interferometric down-conversion\n",
      " north arm frequency 5.454690349638967 MHz, east arm frequency 5.630663245536586 MHz\n",
      " phase_noise_rejection mode selected\n",
      " down-conversion frequency set to 5.542676797587776 MHz\n",
      "\n",
      "Analysis and averaging\n",
      " in progress\n"
     ]
    },
    {
     "name": "stderr",
     "output_type": "stream",
     "text": [
      "1002it [01:28, 11.34it/s]                                                                                              \n"
     ]
    },
    {
     "name": "stdout",
     "output_type": "stream",
     "text": [
      " averaging completed\n"
     ]
    }
   ],
   "source": [
    "f2, b2 = H.analyse_run(\"RUN_6\", 1000)"
   ]
  },
  {
   "cell_type": "code",
   "execution_count": 8,
   "id": "425a450d-5c30-460a-8d42-a6b90b51b2e3",
   "metadata": {},
   "outputs": [],
   "source": [
    "f, sigma = H.calculate_residuals_upper_limit(f1, b1, b2)"
   ]
  },
  {
   "cell_type": "markdown",
   "id": "b434590b-6df3-4d9e-8749-109746ba78de",
   "metadata": {
    "tags": []
   },
   "source": [
    "<h3>Physics</h3>"
   ]
  },
  {
   "cell_type": "code",
   "execution_count": 9,
   "id": "d40fe276-e241-4e74-80f8-b14ddfa7dcf3",
   "metadata": {},
   "outputs": [
    {
     "name": "stdout",
     "output_type": "stream",
     "text": [
      "Local dark matter density: 0.4 GeV/cm3\n",
      "Relative speed of the dark matter wind: 0.001c = 299792.458 m/s\n",
      "DFSZ axion coupling: 8.943e-11/mass, with upper limit 0.3 and lower limit 2e-05\n"
     ]
    }
   ],
   "source": [
    "ax = particles.DMAxion()\n",
    "ax.print_axion_parameters()"
   ]
  },
  {
   "cell_type": "code",
   "execution_count": 10,
   "id": "45d36b89-3d64-425c-a82b-d823b5465700",
   "metadata": {},
   "outputs": [],
   "source": [
    "ma_limit, gp_limit = ax.exclusion_plot(f, sigma)"
   ]
  },
  {
   "cell_type": "code",
   "execution_count": 18,
   "id": "965c792b-41a9-482e-adf5-7df7170ff8b7",
   "metadata": {},
   "outputs": [
    {
     "data": {
      "image/png": "[encoded data removed]",
      "text/plain": [
       "<Figure size 1000x600 with 1 Axes>"
      ]
     },
     "metadata": {},
     "output_type": "display_data"
    }
   ],
   "source": [
    "plt.figure(figsize=(10,6))\n",
    "\n",
    "mass_start = 1e-11\n",
    "mass_stop = 1e-4\n",
    "mass_points = 10001\n",
    "m_range = np.logspace(np.log10(mass_start), np.log10(mass_stop), mass_points)\n",
    "\n",
    "ax.plot_DFSZ_axion(m_range)\n",
    "\n",
    "# and finally the upper limit\n",
    "plt.fill_between(ma_limit, gp_limit, 1, alpha=0.5)\n",
    "plt.plot(ma_limit, gp_limit)\n",
    "\n",
    "\n",
    "plt.xlim(mass_start, mass_stop)\n",
    "plt.ylim(1e-26, 1e-1)\n",
    "\n",
    "plt.xlabel('$m_a$ (eV)')\n",
    "plt.ylabel('$|g_p|$')\n",
    "\n",
    "plt.savefig('notebooks/gp_exclusion_plot.pdf', dpi=300, bbox_inches='tight')"
   ]
  },
  {
   "cell_type": "code",
   "execution_count": null,
   "id": "971afc27-09b6-4afa-87a1-7d0b8428f40b",
   "metadata": {},
   "outputs": [],
   "source": []
  },
  {
   "cell_type": "code",
   "execution_count": null,
   "id": "02e25cc5-ebf3-446f-8f0b-976210206ad7",
   "metadata": {},
   "outputs": [],
   "source": []
  }
 ],
 "metadata": {
  "kernelspec": {
   "display_name": "Python 3 (ipykernel)",
   "language": "python",
   "name": "python3"
  },
  "language_info": {
   "codemirror_mode": {
    "name": "ipython",
    "version": 3
   },
   "file_extension": ".py",
   "mimetype": "text/x-python",
   "name": "python",
   "nbconvert_exporter": "python",
   "pygments_lexer": "ipython3",
   "version": "3.11.3"
  }
 },
 "nbformat": 4,
 "nbformat_minor": 5
}

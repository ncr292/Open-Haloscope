{
 "cells": [
  {
   "cell_type": "markdown",
   "id": "5eb78610-e410-4198-9100-9844b7c3dc82",
   "metadata": {},
   "source": [
    "Test of the RedPitaya with QCodes drivers"
   ]
  },
  {
   "cell_type": "code",
   "execution_count": 1,
   "id": "0a0d32c6-1feb-406c-8298-b1d549600cee",
   "metadata": {
    "tags": []
   },
   "outputs": [
    {
     "ename": "ModuleNotFoundError",
     "evalue": "No module named 'scipy'",
     "output_type": "error",
     "traceback": [
      "\u001b[1;31m---------------------------------------------------------------------------\u001b[0m",
      "\u001b[1;31mModuleNotFoundError\u001b[0m                       Traceback (most recent call last)",
      "Cell \u001b[1;32mIn[1], line 5\u001b[0m\n\u001b[0;32m      2\u001b[0m \u001b[38;5;28;01mimport\u001b[39;00m \u001b[38;5;21;01mtime\u001b[39;00m\n\u001b[0;32m      4\u001b[0m \u001b[38;5;28;01mimport\u001b[39;00m \u001b[38;5;21;01mnumpy\u001b[39;00m \u001b[38;5;28;01mas\u001b[39;00m \u001b[38;5;21;01mnp\u001b[39;00m\n\u001b[1;32m----> 5\u001b[0m \u001b[38;5;28;01mfrom\u001b[39;00m \u001b[38;5;21;01mscipy\u001b[39;00m\u001b[38;5;21;01m.\u001b[39;00m\u001b[38;5;21;01msignal\u001b[39;00m \u001b[38;5;28;01mimport\u001b[39;00m periodogram, welch\n\u001b[0;32m      7\u001b[0m \u001b[38;5;28;01mimport\u001b[39;00m \u001b[38;5;21;01mmatplotlib\u001b[39;00m\u001b[38;5;21;01m.\u001b[39;00m\u001b[38;5;21;01mpyplot\u001b[39;00m \u001b[38;5;28;01mas\u001b[39;00m \u001b[38;5;21;01mplt\u001b[39;00m\n\u001b[0;32m      8\u001b[0m \u001b[38;5;66;03m# plot options\u001b[39;00m\n",
      "\u001b[1;31mModuleNotFoundError\u001b[0m: No module named 'scipy'"
     ]
    }
   ],
   "source": [
    "import sys, os\n",
    "import time\n",
    "\n",
    "import numpy as np\n",
    "from scipy.signal import periodogram, welch\n",
    "\n",
    "import matplotlib.pyplot as plt\n",
    "# plot options\n",
    "plt.rc('text', usetex = True)\n",
    "plt.rc('font', family = 'serif', size=14)"
   ]
  },
  {
   "cell_type": "code",
   "execution_count": null,
   "id": "3e8497c3-5fb7-403e-ba62-c1f299caaee8",
   "metadata": {
    "tags": []
   },
   "outputs": [],
   "source": [
    "# redpitaya drivers\n",
    "sys.path.append(r'C:\\Users\\nicol\\Open Haloscope')\n",
    "from red.redpitaya_qcodes import Redpitaya"
   ]
  },
  {
   "cell_type": "markdown",
   "id": "eba6979f-fd52-4878-9e0b-7db0478932ad",
   "metadata": {},
   "source": [
    "<h4>Test of the drivers</h4>"
   ]
  },
  {
   "cell_type": "code",
   "execution_count": null,
   "id": "637bd283-d34b-4653-83e6-980c10e8f4b8",
   "metadata": {
    "tags": []
   },
   "outputs": [],
   "source": [
    "ip_wlan = 'TCPIP::192.168.1.30::5000::SOCKET'\n",
    "ip_eth0 = 'TCPIP::169.254.33.148::5000::SOCKET'\n",
    "red = Redpitaya('redpitaya', address=ip_eth0)"
   ]
  },
  {
   "cell_type": "code",
   "execution_count": null,
   "id": "2fbd8d8d-9ebc-4748-a8e5-f39b80cddd82",
   "metadata": {
    "tags": []
   },
   "outputs": [],
   "source": [
    "red.ADC_reset()"
   ]
  },
  {
   "cell_type": "markdown",
   "id": "eef015c9-654a-4b96-955a-140d8d3cb16a",
   "metadata": {},
   "source": [
    "<h3>VNA</h3>"
   ]
  },
  {
   "cell_type": "code",
   "execution_count": null,
   "id": "defb3641-b387-40e6-8333-4dd0719a5a68",
   "metadata": {},
   "outputs": [],
   "source": [
    "red.vna_start(0.1e6)\n",
    "red.vna_stop(10e6)\n",
    "red.vna_points(101)\n",
    "red.vna_rbw(10e3)\n",
    "\n",
    "red.vna_amplitude(0.1)\n",
    "red.vna_averages(1)"
   ]
  },
  {
   "cell_type": "code",
   "execution_count": null,
   "id": "32c7f2da-2c18-4670-8708-d8214afbfc9b",
   "metadata": {
    "tags": []
   },
   "outputs": [],
   "source": [
    "mag, phase = red.VNA1()"
   ]
  },
  {
   "cell_type": "code",
   "execution_count": null,
   "id": "1fcd0a2f-ef60-49a5-8b3e-29c6e1afa134",
   "metadata": {},
   "outputs": [],
   "source": [
    "fig, ax = plt.subplots(2, 1, figsize=(12,4))\n",
    "start = 0\n",
    "stop = 100\n",
    "\n",
    "ax[0].semilogy(mag[start:stop])\n",
    "ax[1].plot(phase[start:stop])"
   ]
  },
  {
   "cell_type": "code",
   "execution_count": null,
   "id": "5f20ad5d-4d4e-43d2-8d81-5e1c44c73687",
   "metadata": {
    "tags": []
   },
   "outputs": [],
   "source": []
  },
  {
   "cell_type": "code",
   "execution_count": null,
   "id": "d0dcdb41-7442-4eda-b320-c18ff35788e7",
   "metadata": {
    "tags": []
   },
   "outputs": [],
   "source": []
  },
  {
   "cell_type": "markdown",
   "id": "b03e2a1c-834b-4004-9206-95c6b8e92653",
   "metadata": {
    "tags": []
   },
   "source": [
    "<h3>Waveforms</h3>"
   ]
  },
  {
   "cell_type": "code",
   "execution_count": null,
   "id": "900f9601-7a88-407d-b5ce-c3ae3f0147e8",
   "metadata": {},
   "outputs": [],
   "source": [
    "# start the generators\n",
    "red.align_channels_phase()\n",
    "red.OUT_trigger()"
   ]
  },
  {
   "cell_type": "code",
   "execution_count": null,
   "id": "3388026e-2fe8-43f0-9820-9a122ca736ea",
   "metadata": {
    "tags": []
   },
   "outputs": [],
   "source": [
    "# settings\n",
    "# gen 1\n",
    "red.OUT1_amplitude(0.1)\n",
    "red.OUT1_frequency(2e6)\n",
    "red.OUT1_status('OFF')\n",
    "\n",
    "# gen 2\n",
    "red.OUT2_amplitude(0.1)\n",
    "red.OUT2_frequency(2e6)\n",
    "red.OUT2_status('OFF')"
   ]
  },
  {
   "cell_type": "code",
   "execution_count": null,
   "id": "c98f293b-9314-4f69-a428-a9a7d2896c11",
   "metadata": {
    "tags": []
   },
   "outputs": [],
   "source": [
    "# adc\n",
    "red.ADC_averaging('OFF')\n",
    "red.ADC_decimation(4)\n",
    "\n",
    "# trigger\n",
    "red.ADC_trigger_level(0.0)"
   ]
  },
  {
   "cell_type": "code",
   "execution_count": null,
   "id": "1a335e1f-4d63-4abd-b483-94f180b4cffb",
   "metadata": {},
   "outputs": [],
   "source": [
    "# adc parameters\n",
    "fs = red.FS / red.ADC_decimation()"
   ]
  },
  {
   "cell_type": "code",
   "execution_count": null,
   "id": "7f2ca24f-fce3-4bb3-944d-4a9615684c0e",
   "metadata": {},
   "outputs": [],
   "source": [
    "# problema con la lettura in binario\n",
    "# se non c'è segnale non triggera?"
   ]
  },
  {
   "cell_type": "code",
   "execution_count": null,
   "id": "f9703ffb-0dfa-490a-8fe2-e40203e5780b",
   "metadata": {
    "tags": []
   },
   "outputs": [],
   "source": [
    "# acquisition\n",
    "red.acquisition_length(1)\n",
    "data = red.IN1()\n",
    "red.duty_cycle()"
   ]
  },
  {
   "cell_type": "code",
   "execution_count": null,
   "id": "22ed677b-b618-4367-9cd3-169f4987f5e3",
   "metadata": {
    "tags": []
   },
   "outputs": [],
   "source": [
    "fig, ax = plt.subplots(2, 1, figsize=(10,6))\n",
    "n_start = 1\n",
    "n_stop = 2**11\n",
    "\n",
    "ax[0].imshow( data[:,n_start:n_stop], aspect='auto', origin='lower' )\n",
    "ax[1].imshow( np.log10(periodogram( data[:,n_start:n_stop] )[1][1:]), aspect='auto', origin='lower' )\n",
    "\n",
    "#ax[1].set_ylim([1e-8,1])"
   ]
  },
  {
   "cell_type": "code",
   "execution_count": null,
   "id": "a4c8101c-99ef-4c8d-83a0-dfba73352e85",
   "metadata": {
    "tags": []
   },
   "outputs": [],
   "source": [
    "fig, ax = plt.subplots(2, 1, figsize=(10,6))\n",
    "n_start = 1\n",
    "n_stop = 2**11\n",
    "num = 0\n",
    "\n",
    "ax[0].plot(data[num, n_start:n_stop])\n",
    "\n",
    "f = periodogram(data[num, n_start:n_stop], fs=fs)[0]\n",
    "rbw = f[1] - f[0]\n",
    "m = rbw * periodogram(data[num, n_start:n_stop], window='hann', fs=fs)[1]\n",
    "ax[1].semilogy(f, m)\n",
    "#ax[1].set_xlim([0,1e7])"
   ]
  },
  {
   "cell_type": "code",
   "execution_count": null,
   "id": "8728c61d-3bf3-4e10-8476-2a817ca4248e",
   "metadata": {
    "tags": []
   },
   "outputs": [],
   "source": []
  },
  {
   "cell_type": "code",
   "execution_count": null,
   "id": "08cfa9d9-2852-4bf4-b444-799b57a34cd9",
   "metadata": {},
   "outputs": [],
   "source": []
  },
  {
   "cell_type": "code",
   "execution_count": null,
   "id": "7438ca4d-e502-4f4b-b2dc-910523553b78",
   "metadata": {},
   "outputs": [],
   "source": []
  }
 ],
 "metadata": {
  "kernelspec": {
   "display_name": "Python 3 (ipykernel)",
   "language": "python",
   "name": "python3"
  },
  "language_info": {
   "codemirror_mode": {
    "name": "ipython",
    "version": 3
   },
   "file_extension": ".py",
   "mimetype": "text/x-python",
   "name": "python",
   "nbconvert_exporter": "python",
   "pygments_lexer": "ipython3",
   "version": "3.10.10"
  }
 },
 "nbformat": 4,
 "nbformat_minor": 5
}

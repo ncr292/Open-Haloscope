{
 "cells": [
  {
   "cell_type": "markdown",
   "id": "5eb78610-e410-4198-9100-9844b7c3dc82",
   "metadata": {},
   "source": [
    "Test of the RedPitaya with QCodes drivers"
   ]
  },
  {
   "cell_type": "code",
   "execution_count": 1,
   "id": "0a0d32c6-1feb-406c-8298-b1d549600cee",
   "metadata": {
    "tags": []
   },
   "outputs": [],
   "source": [
    "import sys, os\n",
    "import time\n",
    "import numpy as np\n",
    "\n",
    "import qcodes as qc\n",
    "from qcodes import validators as vals\n",
    "from qcodes.instrument import ( Instrument,\n",
    "                                InstrumentChannel,\n",
    "                                InstrumentModule,\n",
    "                                ManualParameter,\n",
    "                                MultiParameter,\n",
    "                                VisaInstrument,\n",
    "                                )\n",
    "\n",
    "from qcodes.instrument.parameter import ParameterWithSetpoints, Parameter"
   ]
  },
  {
   "cell_type": "code",
   "execution_count": 2,
   "id": "3e8497c3-5fb7-403e-ba62-c1f299caaee8",
   "metadata": {
    "tags": []
   },
   "outputs": [
    {
     "ename": "ImportError",
     "evalue": "cannot import name 'IN1_waveform' from 'red.redpitaya_qcodes' (C:\\Users\\nicol\\Open Haloscope\\red\\redpitaya_qcodes.py)",
     "output_type": "error",
     "traceback": [
      "\u001b[1;31m---------------------------------------------------------------------------\u001b[0m",
      "\u001b[1;31mImportError\u001b[0m                               Traceback (most recent call last)",
      "Cell \u001b[1;32mIn[2], line 3\u001b[0m\n\u001b[0;32m      1\u001b[0m \u001b[38;5;66;03m# redpitaya drivers\u001b[39;00m\n\u001b[0;32m      2\u001b[0m sys\u001b[38;5;241m.\u001b[39mpath\u001b[38;5;241m.\u001b[39mappend(\u001b[38;5;124mr\u001b[39m\u001b[38;5;124m'\u001b[39m\u001b[38;5;124mC:\u001b[39m\u001b[38;5;124m\\\u001b[39m\u001b[38;5;124mUsers\u001b[39m\u001b[38;5;124m\\\u001b[39m\u001b[38;5;124mnicol\u001b[39m\u001b[38;5;124m\\\u001b[39m\u001b[38;5;124mOpen Haloscope\u001b[39m\u001b[38;5;124m'\u001b[39m)\n\u001b[1;32m----> 3\u001b[0m \u001b[38;5;28;01mfrom\u001b[39;00m \u001b[38;5;21;01mred\u001b[39;00m\u001b[38;5;21;01m.\u001b[39;00m\u001b[38;5;21;01mredpitaya_qcodes\u001b[39;00m \u001b[38;5;28;01mimport\u001b[39;00m Redpitaya, IN1_waveform\n",
      "\u001b[1;31mImportError\u001b[0m: cannot import name 'IN1_waveform' from 'red.redpitaya_qcodes' (C:\\Users\\nicol\\Open Haloscope\\red\\redpitaya_qcodes.py)"
     ]
    }
   ],
   "source": [
    "# redpitaya drivers\n",
    "sys.path.append(r'C:\\Users\\nicol\\Open Haloscope')\n",
    "from red.redpitaya_qcodes import Redpitaya"
   ]
  },
  {
   "cell_type": "markdown",
   "id": "cc49bafd-c125-4848-beeb-6b9eb373b295",
   "metadata": {
    "tags": []
   },
   "source": [
    "<h4>Setpoints</h4>"
   ]
  },
  {
   "cell_type": "markdown",
   "id": "eba6979f-fd52-4878-9e0b-7db0478932ad",
   "metadata": {},
   "source": [
    "<h4>Test of the drivers</h4>"
   ]
  },
  {
   "cell_type": "code",
   "execution_count": null,
   "id": "41285d3d-45ef-43c3-a09b-ef9268ec6916",
   "metadata": {
    "tags": []
   },
   "outputs": [],
   "source": [
    "red = Redpitaya('redpitaya', address='TCPIP::192.168.1.30::5000::SOCKET')"
   ]
  },
  {
   "cell_type": "code",
   "execution_count": null,
   "id": "3388026e-2fe8-43f0-9820-9a122ca736ea",
   "metadata": {
    "tags": []
   },
   "outputs": [],
   "source": [
    "red.OUT1_amplitude(0.2)\n",
    "red.OUT1_frequency(1e6)\n",
    "red.OUT1_status('ON')\n",
    "\n",
    "red.OUT2_amplitude(0.1)\n",
    "red.OUT2_frequency(2e6)\n",
    "red.OUT2_status('ON')"
   ]
  },
  {
   "cell_type": "code",
   "execution_count": null,
   "id": "8a3848dc-c163-4aa8-9059-81a6542b4445",
   "metadata": {
    "tags": []
   },
   "outputs": [],
   "source": [
    "red.ADC_trigger_level(0)\n",
    "red.align_channels_phase()\n",
    "red.trigger_channels()\n",
    "\n",
    "red.ADC_start()\n",
    "time.sleep(0.1)\n",
    "red.ADC_stop()"
   ]
  },
  {
   "cell_type": "code",
   "execution_count": null,
   "id": "4612476c-e385-4021-98e4-2409e5016e17",
   "metadata": {
    "tags": []
   },
   "outputs": [],
   "source": [
    "data_string_1 = np.array( red.IN1_read_buffer()[1:-1].split(',') )\n",
    "data_1 = data_string_1.astype(float)\n",
    "\n",
    "data_string_2 = np.array( red.IN2_read_buffer()[1:-1].split(',') )\n",
    "data_2 = data_string_2.astype(float)"
   ]
  },
  {
   "cell_type": "code",
   "execution_count": null,
   "id": "86ca4470-09f8-4cca-8841-0dfb4175750b",
   "metadata": {
    "tags": []
   },
   "outputs": [],
   "source": [
    "import matplotlib.pyplot as plt\n",
    "plt.plot( data_1[0:300] )\n",
    "plt.plot( data_2[0:300] )"
   ]
  },
  {
   "cell_type": "code",
   "execution_count": null,
   "id": "76eeb082-6ade-48e8-bea3-a30005524df8",
   "metadata": {},
   "outputs": [],
   "source": []
  },
  {
   "cell_type": "code",
   "execution_count": null,
   "id": "0a67b0e2-75c1-4852-9be3-ea6e39069461",
   "metadata": {},
   "outputs": [],
   "source": []
  },
  {
   "cell_type": "code",
   "execution_count": null,
   "id": "13400bbd-34c1-4fa2-8462-492231401612",
   "metadata": {
    "tags": []
   },
   "outputs": [],
   "source": [
    "red.IN2_()"
   ]
  },
  {
   "cell_type": "code",
   "execution_count": null,
   "id": "836211c0-b109-4814-97be-e56dc485469d",
   "metadata": {
    "tags": []
   },
   "outputs": [],
   "source": []
  },
  {
   "cell_type": "code",
   "execution_count": null,
   "id": "af18b1e5-8ac2-4518-8ee7-220f66bf6462",
   "metadata": {},
   "outputs": [],
   "source": []
  },
  {
   "cell_type": "code",
   "execution_count": null,
   "id": "b04196fb-ce92-4a92-b024-db755b7c5c98",
   "metadata": {},
   "outputs": [],
   "source": []
  },
  {
   "cell_type": "code",
   "execution_count": null,
   "id": "aec33ff1-6ac8-439c-bbe2-18a895a2f565",
   "metadata": {
    "tags": []
   },
   "outputs": [],
   "source": [
    "class Oscilloscope():\n",
    "    \n",
    "    \n",
    "    FS = 125000000.0             # sampling frequency\n",
    "    DW = 16                      # register width - linear addition multiplication\n",
    "    _DWr  = (1 << (DW-1)) - 1    # fixed point range\n",
    "    \n",
    "    # buffer parameters\n",
    "    buffer_size = 2**14          # buffer size\n",
    "    CW = 31                      # counter size\n",
    "    _CWr = 2**CW                 # twice the counter size\n",
    "\n",
    "    ranges = (1.0, 20.0)          # analog stage range voltages\n",
    "    \n",
    "\n",
    "    def data(self, size: int = buffer_size, ptr: int = None) -> np.array:\n",
    "        \"\"\"Data.\n",
    "        Parameters\n",
    "        ----------\n",
    "        siz : int, optional\n",
    "            Number of data samples to be read from the FPGA buffer.\n",
    "        ptr : int, optional\n",
    "            End of data pointer, only use if you understand\n",
    "            the source code.\n",
    "        Returns\n",
    "        -------\n",
    "        array\n",
    "            Array containing float samples scaled\n",
    "            to the selected analog range.\n",
    "            The data is alligned at the end to the last sample\n",
    "            stored into the buffer.\n",
    "        \"\"\"\n",
    "        if ptr is None:\n",
    "            ptr = int(self.pointer)\n",
    "            \n",
    "        adr = (self.buffer_size + ptr - size) % self.buffer_size\n",
    "        scale = self.__input_range / float(self._DWr)\n",
    "        \n",
    "        # TODO: avoid making copy of entire array\n",
    "        wave = np.roll(self.buffer, -ptr)\n",
    "        \n",
    "        return (wave.astype('float32')[-size:] * scale)\n",
    "    "
   ]
  },
  {
   "cell_type": "code",
   "execution_count": null,
   "id": "a4d1f575-52f0-4732-9141-a3f668e41be8",
   "metadata": {},
   "outputs": [],
   "source": []
  }
 ],
 "metadata": {
  "kernelspec": {
   "display_name": "Python 3 (ipykernel)",
   "language": "python",
   "name": "python3"
  },
  "language_info": {
   "codemirror_mode": {
    "name": "ipython",
    "version": 3
   },
   "file_extension": ".py",
   "mimetype": "text/x-python",
   "name": "python",
   "nbconvert_exporter": "python",
   "pygments_lexer": "ipython3",
   "version": "3.11.0"
  }
 },
 "nbformat": 4,
 "nbformat_minor": 5
}

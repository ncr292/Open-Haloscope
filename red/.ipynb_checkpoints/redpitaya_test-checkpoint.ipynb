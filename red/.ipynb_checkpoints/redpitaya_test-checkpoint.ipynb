{
 "cells": [
  {
   "cell_type": "markdown",
   "id": "5eb78610-e410-4198-9100-9844b7c3dc82",
   "metadata": {},
   "source": [
    "Test of the RedPitaya with QCodes drivers"
   ]
  },
  {
   "cell_type": "code",
   "execution_count": 3,
   "id": "0a0d32c6-1feb-406c-8298-b1d549600cee",
   "metadata": {
    "tags": []
   },
   "outputs": [
    {
     "ename": "ImportError",
     "evalue": "cannot import name 'single' from 'pyvisa.highlevel' (C:\\Users\\nicol\\miniconda3\\envs\\ohal\\Lib\\site-packages\\pyvisa\\highlevel.py)",
     "output_type": "error",
     "traceback": [
      "\u001b[1;31m---------------------------------------------------------------------------\u001b[0m",
      "\u001b[1;31mImportError\u001b[0m                               Traceback (most recent call last)",
      "Cell \u001b[1;32mIn[3], line 4\u001b[0m\n\u001b[0;32m      1\u001b[0m \u001b[38;5;28;01mimport\u001b[39;00m \u001b[38;5;21;01msys\u001b[39;00m\u001b[38;5;241m,\u001b[39m \u001b[38;5;21;01mos\u001b[39;00m\n\u001b[0;32m      2\u001b[0m \u001b[38;5;28;01mimport\u001b[39;00m \u001b[38;5;21;01mtime\u001b[39;00m\n\u001b[1;32m----> 4\u001b[0m \u001b[38;5;28;01mfrom\u001b[39;00m \u001b[38;5;21;01mpyvisa\u001b[39;00m\u001b[38;5;21;01m.\u001b[39;00m\u001b[38;5;21;01mhighlevel\u001b[39;00m \u001b[38;5;28;01mimport\u001b[39;00m single\n\u001b[0;32m      6\u001b[0m \u001b[38;5;28;01mimport\u001b[39;00m \u001b[38;5;21;01mnumpy\u001b[39;00m \u001b[38;5;28;01mas\u001b[39;00m \u001b[38;5;21;01mnp\u001b[39;00m\n\u001b[0;32m      7\u001b[0m \u001b[38;5;28;01mfrom\u001b[39;00m \u001b[38;5;21;01mscipy\u001b[39;00m\u001b[38;5;21;01m.\u001b[39;00m\u001b[38;5;21;01msignal\u001b[39;00m \u001b[38;5;28;01mimport\u001b[39;00m periodogram, welch\n",
      "\u001b[1;31mImportError\u001b[0m: cannot import name 'single' from 'pyvisa.highlevel' (C:\\Users\\nicol\\miniconda3\\envs\\ohal\\Lib\\site-packages\\pyvisa\\highlevel.py)"
     ]
    }
   ],
   "source": [
    "import sys, os\n",
    "import time\n",
    "\n",
    "from pyvisa.highlevel import single\n",
    "\n",
    "import numpy as np\n",
    "from scipy.signal import periodogram, welch\n",
    "\n",
    "import matplotlib.pyplot as plt\n",
    "# plot options\n",
    "plt.rc('text', usetex = True)\n",
    "plt.rc('font', family = 'serif', size=14)"
   ]
  },
  {
   "cell_type": "code",
   "execution_count": null,
   "id": "3e8497c3-5fb7-403e-ba62-c1f299caaee8",
   "metadata": {
    "tags": []
   },
   "outputs": [],
   "source": [
    "# redpitaya drivers\n",
    "sys.path.append(r'C:\\Users\\nicol\\Open Haloscope')\n",
    "from red.redpitaya_qcodes import Redpitaya"
   ]
  },
  {
   "cell_type": "markdown",
   "id": "eba6979f-fd52-4878-9e0b-7db0478932ad",
   "metadata": {},
   "source": [
    "<h4>Test of the drivers</h4>"
   ]
  },
  {
   "cell_type": "code",
   "execution_count": null,
   "id": "637bd283-d34b-4653-83e6-980c10e8f4b8",
   "metadata": {
    "tags": []
   },
   "outputs": [],
   "source": [
    "red = Redpitaya('redpitaya', address='TCPIP::192.168.1.30::5000::SOCKET', values_format=single)\n",
    "red.ADC_data_format('BIN')"
   ]
  },
  {
   "cell_type": "code",
   "execution_count": null,
   "id": "900f9601-7a88-407d-b5ce-c3ae3f0147e8",
   "metadata": {},
   "outputs": [],
   "source": [
    "# start the generators\n",
    "red.align_channels_phase()\n",
    "red.OUT_trigger()"
   ]
  },
  {
   "cell_type": "code",
   "execution_count": null,
   "id": "3388026e-2fe8-43f0-9820-9a122ca736ea",
   "metadata": {
    "tags": []
   },
   "outputs": [],
   "source": [
    "# settings\n",
    "# gen 1\n",
    "red.OUT1_amplitude(0.2)\n",
    "red.OUT1_frequency(2e6)\n",
    "red.OUT1_status('ON')\n",
    "\n",
    "# gen 2\n",
    "red.OUT2_amplitude(0.1)\n",
    "red.OUT2_frequency(2e6)\n",
    "red.OUT2_status('OFF')"
   ]
  },
  {
   "cell_type": "code",
   "execution_count": null,
   "id": "c98f293b-9314-4f69-a428-a9a7d2896c11",
   "metadata": {
    "tags": []
   },
   "outputs": [],
   "source": [
    "# adc\n",
    "red.ADC_reset()\n",
    "red.ADC_averaging('OFF')\n",
    "red.ADC_decimation(1)\n",
    "\n",
    "# trigger\n",
    "red.ADC_trigger_level(0.0)"
   ]
  },
  {
   "cell_type": "code",
   "execution_count": null,
   "id": "f9703ffb-0dfa-490a-8fe2-e40203e5780b",
   "metadata": {
    "tags": []
   },
   "outputs": [],
   "source": [
    "# acquisition\n",
    "red.acquisition_length(1)\n",
    "data = red.IN1()"
   ]
  },
  {
   "cell_type": "code",
   "execution_count": null,
   "id": "1a335e1f-4d63-4abd-b483-94f180b4cffb",
   "metadata": {},
   "outputs": [],
   "source": [
    "# adc parameters\n",
    "fs = red.FS / red.ADC_decimation()"
   ]
  },
  {
   "cell_type": "code",
   "execution_count": null,
   "id": "22ed677b-b618-4367-9cd3-169f4987f5e3",
   "metadata": {
    "tags": []
   },
   "outputs": [],
   "source": [
    "fig, ax = plt.subplots(2, 1, figsize=(10,6))\n",
    "n_start = 1\n",
    "n_stop = 2**14\n",
    "\n",
    "ax[0].imshow( data[:,n_start:n_stop], aspect='auto', origin='lower' )\n",
    "ax[1].imshow( np.log10(periodogram( data[:,n_start:n_stop] )[1][1:]), aspect='auto', origin='lower' )\n",
    "\n",
    "#ax[1].set_ylim([1e-8,1])"
   ]
  },
  {
   "cell_type": "code",
   "execution_count": null,
   "id": "a4c8101c-99ef-4c8d-83a0-dfba73352e85",
   "metadata": {
    "tags": []
   },
   "outputs": [],
   "source": [
    "fig, ax = plt.subplots(2, 1, figsize=(10,6))\n",
    "n_start = 1\n",
    "n_stop = 2**11\n",
    "num = 0\n",
    "\n",
    "ax[0].plot(data[num, n_start:n_stop])\n",
    "ax[1].semilogy(periodogram(data[num, n_start:n_stop], fs=fs)[0][1:],\n",
    "               periodogram(data[num, n_start:n_stop], window='hann', fs=fs)[1][1:])\n",
    "#ax[1].set_xlim([0,1e7])"
   ]
  },
  {
   "cell_type": "code",
   "execution_count": null,
   "id": "32c7f2da-2c18-4670-8708-d8214afbfc9b",
   "metadata": {
    "tags": []
   },
   "outputs": [],
   "source": [
    "red.duty_cycle()"
   ]
  },
  {
   "cell_type": "code",
   "execution_count": null,
   "id": "fde1c117-5f94-4b03-9c57-daad44c9bc1b",
   "metadata": {},
   "outputs": [],
   "source": []
  },
  {
   "cell_type": "code",
   "execution_count": null,
   "id": "38369cd7-08ce-47ee-9d0f-14c3446b6679",
   "metadata": {
    "tags": []
   },
   "outputs": [],
   "source": [
    "import binascii\n",
    "\n",
    "red.ADC_data_format('BIN')\n",
    "red.ADC_read_N_after_trigger_raw(1, 100)"
   ]
  },
  {
   "cell_type": "code",
   "execution_count": null,
   "id": "bd46ae2d-260a-431f-97c5-082e4db16d69",
   "metadata": {},
   "outputs": [],
   "source": []
  },
  {
   "cell_type": "code",
   "execution_count": null,
   "id": "29c97d7f-9a67-48b0-8712-f0cedb1e02aa",
   "metadata": {},
   "outputs": [],
   "source": []
  },
  {
   "cell_type": "code",
   "execution_count": null,
   "id": "00029b9d-6992-4d30-9aac-e8b096d5a17c",
   "metadata": {},
   "outputs": [],
   "source": []
  },
  {
   "cell_type": "code",
   "execution_count": null,
   "id": "9ddccdd0-0728-4757-823d-0a44be9b5783",
   "metadata": {},
   "outputs": [],
   "source": []
  },
  {
   "cell_type": "code",
   "execution_count": null,
   "id": "ac81d535-7450-46c2-b7d7-755d4612ae7c",
   "metadata": {},
   "outputs": [],
   "source": []
  }
 ],
 "metadata": {
  "kernelspec": {
   "display_name": "Python 3 (ipykernel)",
   "language": "python",
   "name": "python3"
  },
  "language_info": {
   "codemirror_mode": {
    "name": "ipython",
    "version": 3
   },
   "file_extension": ".py",
   "mimetype": "text/x-python",
   "name": "python",
   "nbconvert_exporter": "python",
   "pygments_lexer": "ipython3",
   "version": "3.11.0"
  }
 },
 "nbformat": 4,
 "nbformat_minor": 5
}

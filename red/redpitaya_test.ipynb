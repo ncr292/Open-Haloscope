{
 "cells": [
  {
   "cell_type": "markdown",
   "id": "5eb78610-e410-4198-9100-9844b7c3dc82",
   "metadata": {},
   "source": [
    "Test of the RedPitaya with QCodes drivers"
   ]
  },
  {
   "cell_type": "code",
   "execution_count": 1,
   "id": "0a0d32c6-1feb-406c-8298-b1d549600cee",
   "metadata": {
    "tags": []
   },
   "outputs": [],
   "source": [
    "import sys, os\n",
    "import time\n",
    "\n",
    "import numpy as np\n",
    "from scipy.signal import periodogram, welch\n",
    "\n",
    "import matplotlib.pyplot as plt\n",
    "# plot options\n",
    "plt.rc('text', usetex = True)\n",
    "plt.rc('font', family = 'serif', size=14)"
   ]
  },
  {
   "cell_type": "code",
   "execution_count": 2,
   "id": "3e8497c3-5fb7-403e-ba62-c1f299caaee8",
   "metadata": {
    "tags": []
   },
   "outputs": [],
   "source": [
    "# redpitaya drivers\n",
    "sys.path.append(r'C:\\Users\\nicol\\Open Haloscope')\n",
    "from red.redpitaya_qcodes import Redpitaya"
   ]
  },
  {
   "cell_type": "markdown",
   "id": "eba6979f-fd52-4878-9e0b-7db0478932ad",
   "metadata": {},
   "source": [
    "<h4>Test of the drivers</h4>"
   ]
  },
  {
   "cell_type": "code",
   "execution_count": 3,
   "id": "637bd283-d34b-4653-83e6-980c10e8f4b8",
   "metadata": {
    "tags": []
   },
   "outputs": [
    {
     "name": "stdout",
     "output_type": "stream",
     "text": [
      "Connected to: REDPITAYA INSTR2020 (serial:0, firmware:01-02) in 0.40s\n"
     ]
    }
   ],
   "source": [
    "ip_wlan = 'TCPIP::192.168.1.30::5000::SOCKET'\n",
    "ip_eth0 = 'TCPIP::192.168.1.31::5000::SOCKET'\n",
    "red = Redpitaya('redpitaya', address=ip_wlan)"
   ]
  },
  {
   "cell_type": "markdown",
   "id": "ec41005e-8abc-43ac-9811-1d055725c072",
   "metadata": {},
   "source": [
    "Waveforms"
   ]
  },
  {
   "cell_type": "code",
   "execution_count": 4,
   "id": "900f9601-7a88-407d-b5ce-c3ae3f0147e8",
   "metadata": {},
   "outputs": [],
   "source": [
    "# start the generators\n",
    "red.align_channels_phase()\n",
    "red.OUT_trigger()"
   ]
  },
  {
   "cell_type": "code",
   "execution_count": 5,
   "id": "3388026e-2fe8-43f0-9820-9a122ca736ea",
   "metadata": {
    "tags": []
   },
   "outputs": [],
   "source": [
    "# settings\n",
    "# gen 1\n",
    "red.OUT1_amplitude(0.2)\n",
    "red.OUT1_frequency(2e6)\n",
    "red.OUT1_status('OFF')\n",
    "\n",
    "# gen 2\n",
    "red.OUT2_amplitude(0.1)\n",
    "red.OUT2_frequency(2e6)\n",
    "red.OUT2_status('OFF')"
   ]
  },
  {
   "cell_type": "code",
   "execution_count": 6,
   "id": "c98f293b-9314-4f69-a428-a9a7d2896c11",
   "metadata": {
    "tags": []
   },
   "outputs": [],
   "source": [
    "# adc\n",
    "red.ADC_reset()\n",
    "red.ADC_averaging('OFF')\n",
    "red.ADC_decimation(4)\n",
    "\n",
    "# trigger\n",
    "red.ADC_trigger_level(0.0)"
   ]
  },
  {
   "cell_type": "code",
   "execution_count": null,
   "id": "7f2ca24f-fce3-4bb3-944d-4a9615684c0e",
   "metadata": {},
   "outputs": [],
   "source": [
    "# problema con la lettura in binario\n",
    "# se non c'è segnale non triggera?"
   ]
  },
  {
   "cell_type": "code",
   "execution_count": 7,
   "id": "f9703ffb-0dfa-490a-8fe2-e40203e5780b",
   "metadata": {
    "tags": []
   },
   "outputs": [
    {
     "name": "stderr",
     "output_type": "stream",
     "text": [
      "  0%|                                                                                          | 0/100 [00:00<?, ?it/s]"
     ]
    },
    {
     "ename": "VisaIOError",
     "evalue": "('VI_ERROR_TMO (-1073807339): Timeout expired before operation completed.', 'getting redpitaya_IN1')",
     "output_type": "error",
     "traceback": [
      "\u001b[1;31m---------------------------------------------------------------------------\u001b[0m",
      "\u001b[1;31mVisaIOError\u001b[0m                               Traceback (most recent call last)",
      "Cell \u001b[1;32mIn[7], line 3\u001b[0m\n\u001b[0;32m      1\u001b[0m \u001b[38;5;66;03m# acquisition\u001b[39;00m\n\u001b[0;32m      2\u001b[0m red\u001b[38;5;241m.\u001b[39macquisition_length(\u001b[38;5;241m1\u001b[39m)\n\u001b[1;32m----> 3\u001b[0m data \u001b[38;5;241m=\u001b[39m \u001b[43mred\u001b[49m\u001b[38;5;241;43m.\u001b[39;49m\u001b[43mIN1\u001b[49m\u001b[43m(\u001b[49m\u001b[43m)\u001b[49m\n",
      "File \u001b[1;32m~\\miniconda3\\envs\\ohal\\Lib\\site-packages\\qcodes\\parameters\\parameter_base.py:368\u001b[0m, in \u001b[0;36mParameterBase.__call__\u001b[1;34m(self, *args, **kwargs)\u001b[0m\n\u001b[0;32m    366\u001b[0m \u001b[38;5;28;01mif\u001b[39;00m \u001b[38;5;28mlen\u001b[39m(args) \u001b[38;5;241m==\u001b[39m \u001b[38;5;241m0\u001b[39m \u001b[38;5;129;01mand\u001b[39;00m \u001b[38;5;28mlen\u001b[39m(kwargs) \u001b[38;5;241m==\u001b[39m \u001b[38;5;241m0\u001b[39m:\n\u001b[0;32m    367\u001b[0m     \u001b[38;5;28;01mif\u001b[39;00m \u001b[38;5;28mself\u001b[39m\u001b[38;5;241m.\u001b[39mgettable:\n\u001b[1;32m--> 368\u001b[0m         \u001b[38;5;28;01mreturn\u001b[39;00m \u001b[38;5;28;43mself\u001b[39;49m\u001b[38;5;241;43m.\u001b[39;49m\u001b[43mget\u001b[49m\u001b[43m(\u001b[49m\u001b[43m)\u001b[49m\n\u001b[0;32m    369\u001b[0m     \u001b[38;5;28;01melse\u001b[39;00m:\n\u001b[0;32m    370\u001b[0m         \u001b[38;5;28;01mraise\u001b[39;00m \u001b[38;5;167;01mNotImplementedError\u001b[39;00m(\n\u001b[0;32m    371\u001b[0m             \u001b[38;5;124m\"\u001b[39m\u001b[38;5;124mno get cmd found in\u001b[39m\u001b[38;5;124m\"\u001b[39m \u001b[38;5;241m+\u001b[39m \u001b[38;5;124mf\u001b[39m\u001b[38;5;124m\"\u001b[39m\u001b[38;5;124m Parameter \u001b[39m\u001b[38;5;132;01m{\u001b[39;00m\u001b[38;5;28mself\u001b[39m\u001b[38;5;241m.\u001b[39mname\u001b[38;5;132;01m}\u001b[39;00m\u001b[38;5;124m\"\u001b[39m\n\u001b[0;32m    372\u001b[0m         )\n",
      "File \u001b[1;32m~\\miniconda3\\envs\\ohal\\Lib\\site-packages\\qcodes\\parameters\\parameter_base.py:583\u001b[0m, in \u001b[0;36mParameterBase._wrap_get.<locals>.get_wrapper\u001b[1;34m(*args, **kwargs)\u001b[0m\n\u001b[0;32m    581\u001b[0m \u001b[38;5;28;01mexcept\u001b[39;00m \u001b[38;5;167;01mException\u001b[39;00m \u001b[38;5;28;01mas\u001b[39;00m e:\n\u001b[0;32m    582\u001b[0m     e\u001b[38;5;241m.\u001b[39margs \u001b[38;5;241m=\u001b[39m e\u001b[38;5;241m.\u001b[39margs \u001b[38;5;241m+\u001b[39m (\u001b[38;5;124mf\u001b[39m\u001b[38;5;124m\"\u001b[39m\u001b[38;5;124mgetting \u001b[39m\u001b[38;5;132;01m{\u001b[39;00m\u001b[38;5;28mself\u001b[39m\u001b[38;5;132;01m}\u001b[39;00m\u001b[38;5;124m\"\u001b[39m,)\n\u001b[1;32m--> 583\u001b[0m     \u001b[38;5;28;01mraise\u001b[39;00m e\n",
      "File \u001b[1;32m~\\miniconda3\\envs\\ohal\\Lib\\site-packages\\qcodes\\parameters\\parameter_base.py:570\u001b[0m, in \u001b[0;36mParameterBase._wrap_get.<locals>.get_wrapper\u001b[1;34m(*args, **kwargs)\u001b[0m\n\u001b[0;32m    565\u001b[0m     \u001b[38;5;28;01mraise\u001b[39;00m \u001b[38;5;167;01mNotImplementedError\u001b[39;00m(\n\u001b[0;32m    566\u001b[0m         \u001b[38;5;124mf\u001b[39m\u001b[38;5;124m\"\u001b[39m\u001b[38;5;124mTrying to get an abstract parameter: \u001b[39m\u001b[38;5;132;01m{\u001b[39;00m\u001b[38;5;28mself\u001b[39m\u001b[38;5;241m.\u001b[39mfull_name\u001b[38;5;132;01m}\u001b[39;00m\u001b[38;5;124m\"\u001b[39m\n\u001b[0;32m    567\u001b[0m     )\n\u001b[0;32m    568\u001b[0m \u001b[38;5;28;01mtry\u001b[39;00m:\n\u001b[0;32m    569\u001b[0m     \u001b[38;5;66;03m# There might be cases where a .get also has args/kwargs\u001b[39;00m\n\u001b[1;32m--> 570\u001b[0m     raw_value \u001b[38;5;241m=\u001b[39m \u001b[43mget_function\u001b[49m\u001b[43m(\u001b[49m\u001b[38;5;241;43m*\u001b[39;49m\u001b[43margs\u001b[49m\u001b[43m,\u001b[49m\u001b[43m \u001b[49m\u001b[38;5;241;43m*\u001b[39;49m\u001b[38;5;241;43m*\u001b[39;49m\u001b[43mkwargs\u001b[49m\u001b[43m)\u001b[49m\n\u001b[0;32m    572\u001b[0m     value \u001b[38;5;241m=\u001b[39m \u001b[38;5;28mself\u001b[39m\u001b[38;5;241m.\u001b[39m_from_raw_value_to_value(raw_value)\n\u001b[0;32m    574\u001b[0m     \u001b[38;5;28;01mif\u001b[39;00m \u001b[38;5;28mself\u001b[39m\u001b[38;5;241m.\u001b[39m_validate_on_get:\n",
      "File \u001b[1;32m~\\Open Haloscope\\red\\redpitaya_qcodes.py:59\u001b[0m, in \u001b[0;36mIN1_data.get_raw\u001b[1;34m(self)\u001b[0m\n\u001b[0;32m     56\u001b[0m points \u001b[38;5;241m=\u001b[39m \u001b[38;5;28mself\u001b[39m\u001b[38;5;241m.\u001b[39m_instrument\u001b[38;5;241m.\u001b[39mwaveform_points()\n\u001b[0;32m     58\u001b[0m \u001b[38;5;66;03m# acquire data from channel 1\u001b[39;00m\n\u001b[1;32m---> 59\u001b[0m raw_data \u001b[38;5;241m=\u001b[39m \u001b[38;5;28;43mself\u001b[39;49m\u001b[38;5;241;43m.\u001b[39;49m\u001b[43m_instrument\u001b[49m\u001b[38;5;241;43m.\u001b[39;49m\u001b[43mget_data\u001b[49m\u001b[43m(\u001b[49m\u001b[38;5;241;43m1\u001b[39;49m\u001b[43m,\u001b[49m\u001b[43m \u001b[49m\u001b[43mduration\u001b[49m\u001b[43m,\u001b[49m\u001b[43m \u001b[49m\u001b[43mdata_type\u001b[49m\u001b[38;5;241;43m=\u001b[39;49m\u001b[38;5;124;43m'\u001b[39;49m\u001b[38;5;124;43mBIN\u001b[39;49m\u001b[38;5;124;43m'\u001b[39;49m\u001b[43m)\u001b[49m\n\u001b[0;32m     61\u001b[0m \u001b[38;5;28;01mtry\u001b[39;00m:\n\u001b[0;32m     62\u001b[0m     data \u001b[38;5;241m=\u001b[39m np\u001b[38;5;241m.\u001b[39mreshape(raw_data, (\u001b[38;5;28mself\u001b[39m\u001b[38;5;241m.\u001b[39m_instrument\u001b[38;5;241m.\u001b[39mnumber_of_waveforms(), \n\u001b[0;32m     63\u001b[0m                                  \u001b[38;5;28mself\u001b[39m\u001b[38;5;241m.\u001b[39m_instrument\u001b[38;5;241m.\u001b[39mBUFFER_SIZE))\n",
      "File \u001b[1;32m~\\Open Haloscope\\red\\redpitaya_qcodes.py:862\u001b[0m, in \u001b[0;36mRedpitaya.get_data\u001b[1;34m(self, channel, duration, data_type)\u001b[0m\n\u001b[0;32m    859\u001b[0m \u001b[38;5;28mself\u001b[39m\u001b[38;5;241m.\u001b[39mADC_trigger(\u001b[38;5;124m'\u001b[39m\u001b[38;5;124mNOW\u001b[39m\u001b[38;5;124m'\u001b[39m)\n\u001b[0;32m    861\u001b[0m \u001b[38;5;66;03m# read all the data\u001b[39;00m\n\u001b[1;32m--> 862\u001b[0m new_waveform \u001b[38;5;241m=\u001b[39m \u001b[38;5;28;43mself\u001b[39;49m\u001b[38;5;241;43m.\u001b[39;49m\u001b[43mADC_read_N_after_trigger_bin\u001b[49m\u001b[43m(\u001b[49m\u001b[43mchannel\u001b[49m\u001b[43m,\u001b[49m\u001b[43m \u001b[49m\u001b[43mBLOCK\u001b[49m\u001b[43m)\u001b[49m\n\u001b[0;32m    863\u001b[0m data \u001b[38;5;241m=\u001b[39m np\u001b[38;5;241m.\u001b[39mappend(data, new_waveform)\n\u001b[0;32m    864\u001b[0m \u001b[38;5;66;03m#print(data)\u001b[39;00m\n\u001b[0;32m    865\u001b[0m \n\u001b[0;32m    866\u001b[0m \u001b[38;5;66;03m# update the time which passed from the beginning of the run and the wavefor index\u001b[39;00m\n",
      "File \u001b[1;32m~\\Open Haloscope\\red\\redpitaya_qcodes.py:753\u001b[0m, in \u001b[0;36mRedpitaya.ADC_read_N_after_trigger_bin\u001b[1;34m(self, channel, size)\u001b[0m\n\u001b[0;32m    749\u001b[0m \u001b[38;5;28;01mdef\u001b[39;00m \u001b[38;5;21mADC_read_N_after_trigger_bin\u001b[39m(\u001b[38;5;28mself\u001b[39m, channel, size: \u001b[38;5;28mint\u001b[39m):\n\u001b[0;32m    750\u001b[0m     \u001b[38;5;66;03m# read N binary samples from the buffer of the Redpitaya starting from the trigger\u001b[39;00m\n\u001b[0;32m    752\u001b[0m     scpi_string \u001b[38;5;241m=\u001b[39m \u001b[38;5;124m'\u001b[39m\u001b[38;5;124mACQ:SOUR\u001b[39m\u001b[38;5;124m'\u001b[39m \u001b[38;5;241m+\u001b[39m \u001b[38;5;28mstr\u001b[39m(channel) \u001b[38;5;241m+\u001b[39m \u001b[38;5;124m'\u001b[39m\u001b[38;5;124m:DATA:OLD:N? \u001b[39m\u001b[38;5;124m'\u001b[39m \u001b[38;5;241m+\u001b[39m \u001b[38;5;28mstr\u001b[39m(size)\n\u001b[1;32m--> 753\u001b[0m     raw_data \u001b[38;5;241m=\u001b[39m \u001b[38;5;28;43mself\u001b[39;49m\u001b[38;5;241;43m.\u001b[39;49m\u001b[43mvisa_handle\u001b[49m\u001b[38;5;241;43m.\u001b[39;49m\u001b[43mquery_binary_values\u001b[49m\u001b[43m(\u001b[49m\u001b[43m \u001b[49m\u001b[43mscpi_string\u001b[49m\u001b[43m,\u001b[49m\u001b[43m \u001b[49m\n\u001b[0;32m    754\u001b[0m \u001b[43m                                                     \u001b[49m\u001b[43mdatatype\u001b[49m\u001b[38;5;241;43m=\u001b[39;49m\u001b[38;5;124;43m'\u001b[39;49m\u001b[38;5;124;43mf\u001b[39;49m\u001b[38;5;124;43m'\u001b[39;49m\u001b[43m,\u001b[49m\u001b[43m \u001b[49m\n\u001b[0;32m    755\u001b[0m \u001b[43m                                                     \u001b[49m\u001b[43mis_big_endian\u001b[49m\u001b[38;5;241;43m=\u001b[39;49m\u001b[38;5;28;43;01mTrue\u001b[39;49;00m\u001b[43m,\u001b[49m\n\u001b[0;32m    756\u001b[0m \u001b[43m                                                     \u001b[49m\u001b[43mexpect_termination\u001b[49m\u001b[38;5;241;43m=\u001b[39;49m\u001b[38;5;28;43;01mFalse\u001b[39;49;00m\u001b[43m,\u001b[49m\u001b[43m \u001b[49m\n\u001b[0;32m    757\u001b[0m \u001b[43m                                                     \u001b[49m\u001b[43mdata_points\u001b[49m\u001b[38;5;241;43m=\u001b[39;49m\u001b[43msize\u001b[49m\u001b[43m,\u001b[49m\n\u001b[0;32m    758\u001b[0m \u001b[43m                                                     \u001b[49m\u001b[43mcontainer\u001b[49m\u001b[38;5;241;43m=\u001b[39;49m\u001b[43mnp\u001b[49m\u001b[38;5;241;43m.\u001b[39;49m\u001b[43mndarray\u001b[49m\n\u001b[0;32m    759\u001b[0m \u001b[43m                                                     \u001b[49m\u001b[43m)\u001b[49m\n\u001b[0;32m    761\u001b[0m     \u001b[38;5;28;01mreturn\u001b[39;00m raw_data\n",
      "File \u001b[1;32m~\\miniconda3\\envs\\ohal\\Lib\\site-packages\\pyvisa\\resources\\messagebased.py:751\u001b[0m, in \u001b[0;36mMessageBasedResource.query_binary_values\u001b[1;34m(self, message, datatype, is_big_endian, container, delay, header_fmt, expect_termination, data_points, chunk_size)\u001b[0m\n\u001b[0;32m    748\u001b[0m \u001b[38;5;28;01mif\u001b[39;00m delay \u001b[38;5;241m>\u001b[39m \u001b[38;5;241m0.0\u001b[39m:\n\u001b[0;32m    749\u001b[0m     time\u001b[38;5;241m.\u001b[39msleep(delay)\n\u001b[1;32m--> 751\u001b[0m \u001b[38;5;28;01mreturn\u001b[39;00m \u001b[38;5;28;43mself\u001b[39;49m\u001b[38;5;241;43m.\u001b[39;49m\u001b[43mread_binary_values\u001b[49m\u001b[43m(\u001b[49m\n\u001b[0;32m    752\u001b[0m \u001b[43m    \u001b[49m\u001b[43mdatatype\u001b[49m\u001b[43m,\u001b[49m\n\u001b[0;32m    753\u001b[0m \u001b[43m    \u001b[49m\u001b[43mis_big_endian\u001b[49m\u001b[43m,\u001b[49m\n\u001b[0;32m    754\u001b[0m \u001b[43m    \u001b[49m\u001b[43mcontainer\u001b[49m\u001b[43m,\u001b[49m\n\u001b[0;32m    755\u001b[0m \u001b[43m    \u001b[49m\u001b[43mheader_fmt\u001b[49m\u001b[43m,\u001b[49m\n\u001b[0;32m    756\u001b[0m \u001b[43m    \u001b[49m\u001b[43mexpect_termination\u001b[49m\u001b[43m,\u001b[49m\n\u001b[0;32m    757\u001b[0m \u001b[43m    \u001b[49m\u001b[43mdata_points\u001b[49m\u001b[43m,\u001b[49m\n\u001b[0;32m    758\u001b[0m \u001b[43m    \u001b[49m\u001b[43mchunk_size\u001b[49m\u001b[43m,\u001b[49m\n\u001b[0;32m    759\u001b[0m \u001b[43m\u001b[49m\u001b[43m)\u001b[49m\n",
      "File \u001b[1;32m~\\miniconda3\\envs\\ohal\\Lib\\site-packages\\pyvisa\\resources\\messagebased.py:575\u001b[0m, in \u001b[0;36mMessageBasedResource.read_binary_values\u001b[1;34m(self, datatype, is_big_endian, container, header_fmt, expect_termination, data_points, chunk_size)\u001b[0m\n\u001b[0;32m    533\u001b[0m \u001b[38;5;28;01mdef\u001b[39;00m \u001b[38;5;21mread_binary_values\u001b[39m(\n\u001b[0;32m    534\u001b[0m     \u001b[38;5;28mself\u001b[39m,\n\u001b[0;32m    535\u001b[0m     datatype: util\u001b[38;5;241m.\u001b[39mBINARY_DATATYPES \u001b[38;5;241m=\u001b[39m \u001b[38;5;124m\"\u001b[39m\u001b[38;5;124mf\u001b[39m\u001b[38;5;124m\"\u001b[39m,\n\u001b[1;32m   (...)\u001b[0m\n\u001b[0;32m    541\u001b[0m     chunk_size: Optional[\u001b[38;5;28mint\u001b[39m] \u001b[38;5;241m=\u001b[39m \u001b[38;5;28;01mNone\u001b[39;00m,\n\u001b[0;32m    542\u001b[0m ) \u001b[38;5;241m-\u001b[39m\u001b[38;5;241m>\u001b[39m Sequence[Union[\u001b[38;5;28mint\u001b[39m, \u001b[38;5;28mfloat\u001b[39m]]:\n\u001b[0;32m    543\u001b[0m \u001b[38;5;250m    \u001b[39m\u001b[38;5;124;03m\"\"\"Read values from the device in binary format returning an iterable\u001b[39;00m\n\u001b[0;32m    544\u001b[0m \u001b[38;5;124;03m    of values.\u001b[39;00m\n\u001b[0;32m    545\u001b[0m \n\u001b[1;32m   (...)\u001b[0m\n\u001b[0;32m    573\u001b[0m \n\u001b[0;32m    574\u001b[0m \u001b[38;5;124;03m    \"\"\"\u001b[39;00m\n\u001b[1;32m--> 575\u001b[0m     block \u001b[38;5;241m=\u001b[39m \u001b[38;5;28;43mself\u001b[39;49m\u001b[38;5;241;43m.\u001b[39;49m\u001b[43m_read_raw\u001b[49m\u001b[43m(\u001b[49m\u001b[43mchunk_size\u001b[49m\u001b[43m)\u001b[49m\n\u001b[0;32m    577\u001b[0m     \u001b[38;5;28;01mif\u001b[39;00m header_fmt \u001b[38;5;241m==\u001b[39m \u001b[38;5;124m\"\u001b[39m\u001b[38;5;124mieee\u001b[39m\u001b[38;5;124m\"\u001b[39m:\n\u001b[0;32m    578\u001b[0m         offset, data_length \u001b[38;5;241m=\u001b[39m util\u001b[38;5;241m.\u001b[39mparse_ieee_block_header(block)\n",
      "File \u001b[1;32m~\\miniconda3\\envs\\ohal\\Lib\\site-packages\\pyvisa\\resources\\messagebased.py:442\u001b[0m, in \u001b[0;36mMessageBasedResource._read_raw\u001b[1;34m(self, size)\u001b[0m\n\u001b[0;32m    435\u001b[0m     \u001b[38;5;28;01mwhile\u001b[39;00m status \u001b[38;5;241m==\u001b[39m loop_status:\n\u001b[0;32m    436\u001b[0m         logger\u001b[38;5;241m.\u001b[39mdebug(\n\u001b[0;32m    437\u001b[0m             \u001b[38;5;124m\"\u001b[39m\u001b[38;5;132;01m%s\u001b[39;00m\u001b[38;5;124m - reading \u001b[39m\u001b[38;5;132;01m%d\u001b[39;00m\u001b[38;5;124m bytes (last status \u001b[39m\u001b[38;5;132;01m%r\u001b[39;00m\u001b[38;5;124m)\u001b[39m\u001b[38;5;124m\"\u001b[39m,\n\u001b[0;32m    438\u001b[0m             \u001b[38;5;28mself\u001b[39m\u001b[38;5;241m.\u001b[39m_resource_name,\n\u001b[0;32m    439\u001b[0m             size,\n\u001b[0;32m    440\u001b[0m             status,\n\u001b[0;32m    441\u001b[0m         )\n\u001b[1;32m--> 442\u001b[0m         chunk, status \u001b[38;5;241m=\u001b[39m \u001b[38;5;28;43mself\u001b[39;49m\u001b[38;5;241;43m.\u001b[39;49m\u001b[43mvisalib\u001b[49m\u001b[38;5;241;43m.\u001b[39;49m\u001b[43mread\u001b[49m\u001b[43m(\u001b[49m\u001b[38;5;28;43mself\u001b[39;49m\u001b[38;5;241;43m.\u001b[39;49m\u001b[43msession\u001b[49m\u001b[43m,\u001b[49m\u001b[43m \u001b[49m\u001b[43msize\u001b[49m\u001b[43m)\u001b[49m\n\u001b[0;32m    443\u001b[0m         ret\u001b[38;5;241m.\u001b[39mextend(chunk)\n\u001b[0;32m    444\u001b[0m \u001b[38;5;28;01mexcept\u001b[39;00m errors\u001b[38;5;241m.\u001b[39mVisaIOError \u001b[38;5;28;01mas\u001b[39;00m e:\n",
      "File \u001b[1;32m~\\miniconda3\\envs\\ohal\\Lib\\site-packages\\pyvisa_py\\highlevel.py:519\u001b[0m, in \u001b[0;36mPyVisaLibrary.read\u001b[1;34m(self, session, count)\u001b[0m\n\u001b[0;32m    513\u001b[0m \u001b[38;5;28;01mexcept\u001b[39;00m \u001b[38;5;167;01mKeyError\u001b[39;00m:\n\u001b[0;32m    514\u001b[0m     \u001b[38;5;28;01mreturn\u001b[39;00m (\n\u001b[0;32m    515\u001b[0m         \u001b[38;5;124mb\u001b[39m\u001b[38;5;124m\"\u001b[39m\u001b[38;5;124m\"\u001b[39m,\n\u001b[0;32m    516\u001b[0m         \u001b[38;5;28mself\u001b[39m\u001b[38;5;241m.\u001b[39mhandle_return_value(session, StatusCode\u001b[38;5;241m.\u001b[39merror_invalid_object),\n\u001b[0;32m    517\u001b[0m     )\n\u001b[1;32m--> 519\u001b[0m \u001b[38;5;28;01mreturn\u001b[39;00m data, \u001b[38;5;28;43mself\u001b[39;49m\u001b[38;5;241;43m.\u001b[39;49m\u001b[43mhandle_return_value\u001b[49m\u001b[43m(\u001b[49m\u001b[43msession\u001b[49m\u001b[43m,\u001b[49m\u001b[43m \u001b[49m\u001b[43mstatus_code\u001b[49m\u001b[43m)\u001b[49m\n",
      "File \u001b[1;32m~\\miniconda3\\envs\\ohal\\Lib\\site-packages\\pyvisa\\highlevel.py:251\u001b[0m, in \u001b[0;36mVisaLibraryBase.handle_return_value\u001b[1;34m(self, session, status_code)\u001b[0m\n\u001b[0;32m    248\u001b[0m     \u001b[38;5;28mself\u001b[39m\u001b[38;5;241m.\u001b[39m_last_status_in_session[session] \u001b[38;5;241m=\u001b[39m rv\n\u001b[0;32m    250\u001b[0m \u001b[38;5;28;01mif\u001b[39;00m rv \u001b[38;5;241m<\u001b[39m \u001b[38;5;241m0\u001b[39m:\n\u001b[1;32m--> 251\u001b[0m     \u001b[38;5;28;01mraise\u001b[39;00m errors\u001b[38;5;241m.\u001b[39mVisaIOError(rv)\n\u001b[0;32m    253\u001b[0m \u001b[38;5;28;01mif\u001b[39;00m rv \u001b[38;5;129;01min\u001b[39;00m \u001b[38;5;28mself\u001b[39m\u001b[38;5;241m.\u001b[39missue_warning_on:\n\u001b[0;32m    254\u001b[0m     \u001b[38;5;28;01mif\u001b[39;00m session \u001b[38;5;129;01mand\u001b[39;00m rv \u001b[38;5;129;01mnot\u001b[39;00m \u001b[38;5;129;01min\u001b[39;00m \u001b[38;5;28mself\u001b[39m\u001b[38;5;241m.\u001b[39m_ignore_warning_in_session[session]:\n",
      "\u001b[1;31mVisaIOError\u001b[0m: ('VI_ERROR_TMO (-1073807339): Timeout expired before operation completed.', 'getting redpitaya_IN1')"
     ]
    }
   ],
   "source": [
    "# acquisition\n",
    "red.acquisition_length(1)\n",
    "data = red.IN1()"
   ]
  },
  {
   "cell_type": "code",
   "execution_count": null,
   "id": "1a335e1f-4d63-4abd-b483-94f180b4cffb",
   "metadata": {},
   "outputs": [],
   "source": [
    "# adc parameters\n",
    "fs = red.FS / red.ADC_decimation()"
   ]
  },
  {
   "cell_type": "code",
   "execution_count": null,
   "id": "22ed677b-b618-4367-9cd3-169f4987f5e3",
   "metadata": {
    "tags": []
   },
   "outputs": [],
   "source": [
    "fig, ax = plt.subplots(2, 1, figsize=(10,6))\n",
    "n_start = 1\n",
    "n_stop = 2**11\n",
    "\n",
    "ax[0].imshow( data[:,n_start:n_stop], aspect='auto', origin='lower' )\n",
    "ax[1].imshow( np.log10(periodogram( data[:,n_start:n_stop] )[1][1:]), aspect='auto', origin='lower' )\n",
    "\n",
    "#ax[1].set_ylim([1e-8,1])"
   ]
  },
  {
   "cell_type": "code",
   "execution_count": null,
   "id": "a4c8101c-99ef-4c8d-83a0-dfba73352e85",
   "metadata": {
    "tags": []
   },
   "outputs": [],
   "source": [
    "fig, ax = plt.subplots(2, 1, figsize=(10,6))\n",
    "n_start = 1\n",
    "n_stop = 2**11\n",
    "num = 0\n",
    "\n",
    "ax[0].plot(data[num, n_start:n_stop])\n",
    "\n",
    "f = periodogram(data[num, n_start:n_stop], fs=fs)[0]\n",
    "rbw = f[1] - f[0]\n",
    "m = rbw * periodogram(data[num, n_start:n_stop], window='hann', fs=fs)[1]\n",
    "ax[1].semilogy(f, m)\n",
    "#ax[1].set_xlim([0,1e7])\n",
    "print(np.max(m) * 2 * np.sqrt(2) / 0.2**2)"
   ]
  },
  {
   "cell_type": "code",
   "execution_count": null,
   "id": "8728c61d-3bf3-4e10-8476-2a817ca4248e",
   "metadata": {
    "tags": []
   },
   "outputs": [],
   "source": []
  },
  {
   "cell_type": "markdown",
   "id": "eef015c9-654a-4b96-955a-140d8d3cb16a",
   "metadata": {},
   "source": [
    "VNA"
   ]
  },
  {
   "cell_type": "code",
   "execution_count": null,
   "id": "defb3641-b387-40e6-8333-4dd0719a5a68",
   "metadata": {},
   "outputs": [],
   "source": [
    "red.vna_start(1e6)\n",
    "red.vna_stop(50e6)\n",
    "red.vna_points(51)\n",
    "red.vna_rbw(10e3)\n",
    "\n",
    "red.vna_amplitude(0.5)\n",
    "red.vna_averages(1)"
   ]
  },
  {
   "cell_type": "code",
   "execution_count": null,
   "id": "32c7f2da-2c18-4670-8708-d8214afbfc9b",
   "metadata": {
    "tags": []
   },
   "outputs": [],
   "source": [
    "t = red.VNA1()"
   ]
  },
  {
   "cell_type": "code",
   "execution_count": null,
   "id": "1fcd0a2f-ef60-49a5-8b3e-29c6e1afa134",
   "metadata": {},
   "outputs": [],
   "source": [
    "plt.plot(t)"
   ]
  },
  {
   "cell_type": "code",
   "execution_count": null,
   "id": "74314a49-03ee-4162-959f-351e011ea1a8",
   "metadata": {},
   "outputs": [],
   "source": []
  }
 ],
 "metadata": {
  "kernelspec": {
   "display_name": "Python 3 (ipykernel)",
   "language": "python",
   "name": "python3"
  },
  "language_info": {
   "codemirror_mode": {
    "name": "ipython",
    "version": 3
   },
   "file_extension": ".py",
   "mimetype": "text/x-python",
   "name": "python",
   "nbconvert_exporter": "python",
   "pygments_lexer": "ipython3",
   "version": "3.11.0"
  }
 },
 "nbformat": 4,
 "nbformat_minor": 5
}

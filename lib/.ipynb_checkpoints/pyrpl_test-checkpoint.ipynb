{
 "cells": [
  {
   "cell_type": "markdown",
   "id": "78331c62-36be-4b71-abb1-67a76f8ef085",
   "metadata": {},
   "source": [
    "Test of PyRPL"
   ]
  },
  {
   "cell_type": "code",
   "execution_count": 1,
   "id": "104b541a-842b-417b-a6f2-deb6e874dfa4",
   "metadata": {},
   "outputs": [],
   "source": [
    "import sys\n",
    "sys.path.append(r'C:\\Users\\nicol\\Open Haloscope')"
   ]
  },
  {
   "cell_type": "code",
   "execution_count": 2,
   "id": "f1f46eb1-9375-4f30-9fad-135217c5e439",
   "metadata": {},
   "outputs": [],
   "source": [
    "from pyrpl import Pyrpl"
   ]
  },
  {
   "cell_type": "code",
   "execution_count": 3,
   "id": "1e5e0488-4e8a-4ae1-bf70-5bf2768d8cf7",
   "metadata": {},
   "outputs": [
    {
     "name": "stderr",
     "output_type": "stream",
     "text": [
      "INFO:pyrpl:Please select or create a configuration file in the file selector window!\n",
      "INFO:pyrpl:All your PyRPL settings will be saved to the config file\n",
      "    C:/Users/nicol/pyrpl_user_dir/config\\169.254.33.148.yml\n",
      "If you would like to restart PyRPL with these settings, type \"pyrpl.exe 169\" in a windows terminal or \n",
      "    from pyrpl import Pyrpl\n",
      "    p = Pyrpl('169')\n",
      "in a python terminal.\n",
      "INFO:pyrpl.redpitaya:Successfully connected to Redpitaya with hostname 169.254.33.148.\n"
     ]
    }
   ],
   "source": [
    "HOSTNAME = \"169.254.33.148\"\n",
    "p = Pyrpl(hostname=HOSTNAME)"
   ]
  },
  {
   "cell_type": "code",
   "execution_count": null,
   "id": "2c92d98a-cc27-4272-8111-65da0d5bcc09",
   "metadata": {},
   "outputs": [
    {
     "name": "stderr",
     "output_type": "stream",
     "text": [
      "WARNING:pyrpl.modules:Trying to load attribute avg of module networkanalyzer that are invalid setup_attributes.\n",
      "WARNING:pyrpl.modules:Register pause_gains of module pid0 has value 7, which does not correspond to selected option 0. Setting to 'off'. \n"
     ]
    },
    {
     "ename": "TypeError",
     "evalue": "arguments did not match any overloaded call:\n  setStretchFactor(self, w: QWidget, stretch: int): argument 2 has unexpected type 'float'\n  setStretchFactor(self, l: QLayout, stretch: int): argument 1 has unexpected type 'IqWidget'",
     "output_type": "error",
     "traceback": [
      "\u001b[1;31m---------------------------------------------------------------------------\u001b[0m",
      "\u001b[1;31mTypeError\u001b[0m                                 Traceback (most recent call last)",
      "File \u001b[1;32m~\\Open Haloscope\\lib\\pyrpl\\widgets\\pyrpl_widget.py:96\u001b[0m, in \u001b[0;36mMyDockWidget.showEvent\u001b[1;34m(self, event)\u001b[0m\n\u001b[0;32m     94\u001b[0m \u001b[38;5;28;01mdef\u001b[39;00m \u001b[38;5;21mshowEvent\u001b[39m(\u001b[38;5;28mself\u001b[39m, event):\n\u001b[0;32m     95\u001b[0m     \u001b[38;5;28;01mif\u001b[39;00m \u001b[38;5;28mself\u001b[39m\u001b[38;5;241m.\u001b[39mwidget \u001b[38;5;129;01mis\u001b[39;00m \u001b[38;5;28;01mNone\u001b[39;00m:\n\u001b[1;32m---> 96\u001b[0m         \u001b[38;5;28mself\u001b[39m\u001b[38;5;241m.\u001b[39mwidget \u001b[38;5;241m=\u001b[39m \u001b[38;5;28;43mself\u001b[39;49m\u001b[38;5;241;43m.\u001b[39;49m\u001b[43mcreate_widget_func\u001b[49m\u001b[43m(\u001b[49m\u001b[43m)\u001b[49m\n\u001b[0;32m     97\u001b[0m         \u001b[38;5;28;01mif\u001b[39;00m \u001b[38;5;28mself\u001b[39m\u001b[38;5;241m.\u001b[39mscrollable:\n\u001b[0;32m     98\u001b[0m             \u001b[38;5;28mself\u001b[39m\u001b[38;5;241m.\u001b[39mscrollarea \u001b[38;5;241m=\u001b[39m QtWidgets\u001b[38;5;241m.\u001b[39mQScrollArea()\n",
      "File \u001b[1;32m~\\Open Haloscope\\lib\\pyrpl\\modules.py:636\u001b[0m, in \u001b[0;36mModule._create_widget\u001b[1;34m(self)\u001b[0m\n\u001b[0;32m    634\u001b[0m     \u001b[38;5;28;01mreturn\u001b[39;00m \u001b[38;5;28;01mNone\u001b[39;00m\n\u001b[0;32m    635\u001b[0m \u001b[38;5;28;01mtry\u001b[39;00m:\n\u001b[1;32m--> 636\u001b[0m     widget \u001b[38;5;241m=\u001b[39m \u001b[38;5;28;43mself\u001b[39;49m\u001b[38;5;241;43m.\u001b[39;49m\u001b[43m_widget_class\u001b[49m\u001b[43m(\u001b[49m\u001b[38;5;28;43mself\u001b[39;49m\u001b[38;5;241;43m.\u001b[39;49m\u001b[43mname\u001b[49m\u001b[43m,\u001b[49m\u001b[43m \u001b[49m\u001b[38;5;28;43mself\u001b[39;49m\u001b[43m)\u001b[49m\n\u001b[0;32m    637\u001b[0m \u001b[38;5;28;01mfinally\u001b[39;00m:\n\u001b[0;32m    638\u001b[0m     \u001b[38;5;28;01mpass\u001b[39;00m\n",
      "File \u001b[1;32m~\\Open Haloscope\\lib\\pyrpl\\widgets\\module_widgets\\base_module_widget.py:179\u001b[0m, in \u001b[0;36mReducedModuleWidget.__init__\u001b[1;34m(self, name, module, parent)\u001b[0m\n\u001b[0;32m    177\u001b[0m \u001b[38;5;28mself\u001b[39m\u001b[38;5;241m.\u001b[39mattribute_widgets \u001b[38;5;241m=\u001b[39m OrderedDict()\n\u001b[0;32m    178\u001b[0m \u001b[38;5;28mself\u001b[39m\u001b[38;5;241m.\u001b[39myml_editors \u001b[38;5;241m=\u001b[39m \u001b[38;5;28mdict\u001b[39m()  \u001b[38;5;66;03m# optional widgets to edit the yml code of module on a per-state basis\u001b[39;00m\n\u001b[1;32m--> 179\u001b[0m \u001b[38;5;28;43mself\u001b[39;49m\u001b[38;5;241;43m.\u001b[39;49m\u001b[43minit_gui\u001b[49m\u001b[43m(\u001b[49m\u001b[43m)\u001b[49m \u001b[38;5;66;03m# performs the automatic gui creation based on register_names\u001b[39;00m\n\u001b[0;32m    180\u001b[0m \u001b[38;5;66;03m# self.setStyleSheet(\"ModuleWidget{border:0;color: transparent;}\") # frames and title hidden for software_modules\u001b[39;00m\n\u001b[0;32m    181\u001b[0m                                 \u001b[38;5;66;03m# ModuleManagerWidget sets them visible for the HardwareModuleWidgets...\u001b[39;00m\n\u001b[0;32m    182\u001b[0m \u001b[38;5;28mself\u001b[39m\u001b[38;5;241m.\u001b[39mcreate_title_bar()\n",
      "File \u001b[1;32m~\\Open Haloscope\\lib\\pyrpl\\widgets\\module_widgets\\module_manager_widget.py:88\u001b[0m, in \u001b[0;36mIqManagerWidget.init_gui\u001b[1;34m(self)\u001b[0m\n\u001b[0;32m     86\u001b[0m \u001b[38;5;28mself\u001b[39m\u001b[38;5;241m.\u001b[39mmain_layout\u001b[38;5;241m.\u001b[39maddWidget(\u001b[38;5;28mself\u001b[39m\u001b[38;5;241m.\u001b[39mview)\n\u001b[0;32m     87\u001b[0m \u001b[38;5;28mself\u001b[39m\u001b[38;5;241m.\u001b[39mmake_drawing()\n\u001b[1;32m---> 88\u001b[0m \u001b[38;5;28;43mself\u001b[39;49m\u001b[38;5;241;43m.\u001b[39;49m\u001b[43mbutton_hide_clicked\u001b[49m\u001b[43m(\u001b[49m\u001b[43m)\u001b[49m\n",
      "File \u001b[1;32m~\\Open Haloscope\\lib\\pyrpl\\widgets\\module_widgets\\module_manager_widget.py:106\u001b[0m, in \u001b[0;36mIqManagerWidget.button_hide_clicked\u001b[1;34m(self)\u001b[0m\n\u001b[0;32m    104\u001b[0m \u001b[38;5;28mself\u001b[39m\u001b[38;5;241m.\u001b[39mbutton_hide\u001b[38;5;241m.\u001b[39msetText(\u001b[38;5;124m'\u001b[39m\u001b[38;5;124mv\u001b[39m\u001b[38;5;124m'\u001b[39m)\n\u001b[0;32m    105\u001b[0m \u001b[38;5;28;01mfor\u001b[39;00m widget \u001b[38;5;129;01min\u001b[39;00m \u001b[38;5;28mself\u001b[39m\u001b[38;5;241m.\u001b[39mmodule_widgets:\n\u001b[1;32m--> 106\u001b[0m     \u001b[38;5;28;43mself\u001b[39;49m\u001b[38;5;241;43m.\u001b[39;49m\u001b[43mmain_layout\u001b[49m\u001b[38;5;241;43m.\u001b[39;49m\u001b[43msetStretchFactor\u001b[49m\u001b[43m(\u001b[49m\u001b[43mwidget\u001b[49m\u001b[43m,\u001b[49m\u001b[43m \u001b[49m\u001b[38;5;241;43m1.\u001b[39;49m\u001b[43m)\u001b[49m\n\u001b[0;32m    107\u001b[0m \u001b[38;5;28mself\u001b[39m\u001b[38;5;241m.\u001b[39mview\u001b[38;5;241m.\u001b[39mhide()\n\u001b[0;32m    108\u001b[0m \u001b[38;5;28;01mfor\u001b[39;00m frame \u001b[38;5;129;01min\u001b[39;00m \u001b[38;5;28mself\u001b[39m\u001b[38;5;241m.\u001b[39mframes:\n",
      "\u001b[1;31mTypeError\u001b[0m: arguments did not match any overloaded call:\n  setStretchFactor(self, w: QWidget, stretch: int): argument 2 has unexpected type 'float'\n  setStretchFactor(self, l: QLayout, stretch: int): argument 1 has unexpected type 'IqWidget'"
     ]
    },
    {
     "ename": "TypeError",
     "evalue": "arguments did not match any overloaded call:\n  setStretchFactor(self, w: QWidget, stretch: int): argument 2 has unexpected type 'float'\n  setStretchFactor(self, l: QLayout, stretch: int): argument 1 has unexpected type 'IqWidget'",
     "output_type": "error",
     "traceback": [
      "\u001b[1;31m---------------------------------------------------------------------------\u001b[0m",
      "\u001b[1;31mTypeError\u001b[0m                                 Traceback (most recent call last)",
      "File \u001b[1;32m~\\Open Haloscope\\lib\\pyrpl\\widgets\\pyrpl_widget.py:96\u001b[0m, in \u001b[0;36mMyDockWidget.showEvent\u001b[1;34m(self, event)\u001b[0m\n\u001b[0;32m     94\u001b[0m \u001b[38;5;28;01mdef\u001b[39;00m \u001b[38;5;21mshowEvent\u001b[39m(\u001b[38;5;28mself\u001b[39m, event):\n\u001b[0;32m     95\u001b[0m     \u001b[38;5;28;01mif\u001b[39;00m \u001b[38;5;28mself\u001b[39m\u001b[38;5;241m.\u001b[39mwidget \u001b[38;5;129;01mis\u001b[39;00m \u001b[38;5;28;01mNone\u001b[39;00m:\n\u001b[1;32m---> 96\u001b[0m         \u001b[38;5;28mself\u001b[39m\u001b[38;5;241m.\u001b[39mwidget \u001b[38;5;241m=\u001b[39m \u001b[38;5;28;43mself\u001b[39;49m\u001b[38;5;241;43m.\u001b[39;49m\u001b[43mcreate_widget_func\u001b[49m\u001b[43m(\u001b[49m\u001b[43m)\u001b[49m\n\u001b[0;32m     97\u001b[0m         \u001b[38;5;28;01mif\u001b[39;00m \u001b[38;5;28mself\u001b[39m\u001b[38;5;241m.\u001b[39mscrollable:\n\u001b[0;32m     98\u001b[0m             \u001b[38;5;28mself\u001b[39m\u001b[38;5;241m.\u001b[39mscrollarea \u001b[38;5;241m=\u001b[39m QtWidgets\u001b[38;5;241m.\u001b[39mQScrollArea()\n",
      "File \u001b[1;32m~\\Open Haloscope\\lib\\pyrpl\\modules.py:636\u001b[0m, in \u001b[0;36mModule._create_widget\u001b[1;34m(self)\u001b[0m\n\u001b[0;32m    634\u001b[0m     \u001b[38;5;28;01mreturn\u001b[39;00m \u001b[38;5;28;01mNone\u001b[39;00m\n\u001b[0;32m    635\u001b[0m \u001b[38;5;28;01mtry\u001b[39;00m:\n\u001b[1;32m--> 636\u001b[0m     widget \u001b[38;5;241m=\u001b[39m \u001b[38;5;28;43mself\u001b[39;49m\u001b[38;5;241;43m.\u001b[39;49m\u001b[43m_widget_class\u001b[49m\u001b[43m(\u001b[49m\u001b[38;5;28;43mself\u001b[39;49m\u001b[38;5;241;43m.\u001b[39;49m\u001b[43mname\u001b[49m\u001b[43m,\u001b[49m\u001b[43m \u001b[49m\u001b[38;5;28;43mself\u001b[39;49m\u001b[43m)\u001b[49m\n\u001b[0;32m    637\u001b[0m \u001b[38;5;28;01mfinally\u001b[39;00m:\n\u001b[0;32m    638\u001b[0m     \u001b[38;5;28;01mpass\u001b[39;00m\n",
      "File \u001b[1;32m~\\Open Haloscope\\lib\\pyrpl\\widgets\\module_widgets\\base_module_widget.py:179\u001b[0m, in \u001b[0;36mReducedModuleWidget.__init__\u001b[1;34m(self, name, module, parent)\u001b[0m\n\u001b[0;32m    177\u001b[0m \u001b[38;5;28mself\u001b[39m\u001b[38;5;241m.\u001b[39mattribute_widgets \u001b[38;5;241m=\u001b[39m OrderedDict()\n\u001b[0;32m    178\u001b[0m \u001b[38;5;28mself\u001b[39m\u001b[38;5;241m.\u001b[39myml_editors \u001b[38;5;241m=\u001b[39m \u001b[38;5;28mdict\u001b[39m()  \u001b[38;5;66;03m# optional widgets to edit the yml code of module on a per-state basis\u001b[39;00m\n\u001b[1;32m--> 179\u001b[0m \u001b[38;5;28;43mself\u001b[39;49m\u001b[38;5;241;43m.\u001b[39;49m\u001b[43minit_gui\u001b[49m\u001b[43m(\u001b[49m\u001b[43m)\u001b[49m \u001b[38;5;66;03m# performs the automatic gui creation based on register_names\u001b[39;00m\n\u001b[0;32m    180\u001b[0m \u001b[38;5;66;03m# self.setStyleSheet(\"ModuleWidget{border:0;color: transparent;}\") # frames and title hidden for software_modules\u001b[39;00m\n\u001b[0;32m    181\u001b[0m                                 \u001b[38;5;66;03m# ModuleManagerWidget sets them visible for the HardwareModuleWidgets...\u001b[39;00m\n\u001b[0;32m    182\u001b[0m \u001b[38;5;28mself\u001b[39m\u001b[38;5;241m.\u001b[39mcreate_title_bar()\n",
      "File \u001b[1;32m~\\Open Haloscope\\lib\\pyrpl\\widgets\\module_widgets\\module_manager_widget.py:88\u001b[0m, in \u001b[0;36mIqManagerWidget.init_gui\u001b[1;34m(self)\u001b[0m\n\u001b[0;32m     86\u001b[0m \u001b[38;5;28mself\u001b[39m\u001b[38;5;241m.\u001b[39mmain_layout\u001b[38;5;241m.\u001b[39maddWidget(\u001b[38;5;28mself\u001b[39m\u001b[38;5;241m.\u001b[39mview)\n\u001b[0;32m     87\u001b[0m \u001b[38;5;28mself\u001b[39m\u001b[38;5;241m.\u001b[39mmake_drawing()\n\u001b[1;32m---> 88\u001b[0m \u001b[38;5;28;43mself\u001b[39;49m\u001b[38;5;241;43m.\u001b[39;49m\u001b[43mbutton_hide_clicked\u001b[49m\u001b[43m(\u001b[49m\u001b[43m)\u001b[49m\n",
      "File \u001b[1;32m~\\Open Haloscope\\lib\\pyrpl\\widgets\\module_widgets\\module_manager_widget.py:106\u001b[0m, in \u001b[0;36mIqManagerWidget.button_hide_clicked\u001b[1;34m(self)\u001b[0m\n\u001b[0;32m    104\u001b[0m \u001b[38;5;28mself\u001b[39m\u001b[38;5;241m.\u001b[39mbutton_hide\u001b[38;5;241m.\u001b[39msetText(\u001b[38;5;124m'\u001b[39m\u001b[38;5;124mv\u001b[39m\u001b[38;5;124m'\u001b[39m)\n\u001b[0;32m    105\u001b[0m \u001b[38;5;28;01mfor\u001b[39;00m widget \u001b[38;5;129;01min\u001b[39;00m \u001b[38;5;28mself\u001b[39m\u001b[38;5;241m.\u001b[39mmodule_widgets:\n\u001b[1;32m--> 106\u001b[0m     \u001b[38;5;28;43mself\u001b[39;49m\u001b[38;5;241;43m.\u001b[39;49m\u001b[43mmain_layout\u001b[49m\u001b[38;5;241;43m.\u001b[39;49m\u001b[43msetStretchFactor\u001b[49m\u001b[43m(\u001b[49m\u001b[43mwidget\u001b[49m\u001b[43m,\u001b[49m\u001b[43m \u001b[49m\u001b[38;5;241;43m1.\u001b[39;49m\u001b[43m)\u001b[49m\n\u001b[0;32m    107\u001b[0m \u001b[38;5;28mself\u001b[39m\u001b[38;5;241m.\u001b[39mview\u001b[38;5;241m.\u001b[39mhide()\n\u001b[0;32m    108\u001b[0m \u001b[38;5;28;01mfor\u001b[39;00m frame \u001b[38;5;129;01min\u001b[39;00m \u001b[38;5;28mself\u001b[39m\u001b[38;5;241m.\u001b[39mframes:\n",
      "\u001b[1;31mTypeError\u001b[0m: arguments did not match any overloaded call:\n  setStretchFactor(self, w: QWidget, stretch: int): argument 2 has unexpected type 'float'\n  setStretchFactor(self, l: QLayout, stretch: int): argument 1 has unexpected type 'IqWidget'"
     ]
    }
   ],
   "source": [
    "na = p.networkanalyzer\n",
    "na.iq_name = 'iq1'\n",
    "\n",
    "# setup network analyzer with the right parameters\n",
    "na.setup(start=1e3,stop=62.5e6,points=1001,rbw=1000, avg=1,\n",
    "amplitude=0.2,input='iq1',output_direct='off', acbandwidth=0)\n",
    "\n",
    "#take transfer functions. first: iq1 -> iq1, second iq1->out1->(your cable)->adc1\n",
    "iq1 = na.curve()\n",
    "na.setup(input='in1', output_direct='out1')\n",
    "in1 = na.curve()\n",
    "\n",
    "# get x-axis for plotting\n",
    "f = na.frequencies\n",
    "\n",
    "#plot\n",
    "from pyrpl.hardware_modules.iir.iir_theory import bodeplot\n",
    "%matplotlib inline\n",
    "bodeplot([(f, iq1, \"iq1->iq1\"), (f, in1, \"iq1->out1->in1->iq1\")], xlog=True)"
   ]
  },
  {
   "cell_type": "code",
   "execution_count": null,
   "id": "2dcb6a0f-4011-42fe-9c27-6f3932005987",
   "metadata": {},
   "outputs": [],
   "source": [
    "## used modules:\n",
    "# pyqtgraph\n",
    "# pandas\n",
    "# quamash (change collections.Mapping to collections.abc.Mapping in quamash\\_unix.py)\n",
    "# paramiko\n",
    "# scp"
   ]
  }
 ],
 "metadata": {
  "kernelspec": {
   "display_name": "Python 3 (ipykernel)",
   "language": "python",
   "name": "python3"
  },
  "language_info": {
   "codemirror_mode": {
    "name": "ipython",
    "version": 3
   },
   "file_extension": ".py",
   "mimetype": "text/x-python",
   "name": "python",
   "nbconvert_exporter": "python",
   "pygments_lexer": "ipython3",
   "version": "3.10.10"
  }
 },
 "nbformat": 4,
 "nbformat_minor": 5
}

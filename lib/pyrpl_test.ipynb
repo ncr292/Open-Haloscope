{
 "cells": [
  {
   "cell_type": "markdown",
   "id": "78331c62-36be-4b71-abb1-67a76f8ef085",
   "metadata": {},
   "source": [
    "Test of PyRPL"
   ]
  },
  {
   "cell_type": "code",
   "execution_count": 1,
   "id": "104b541a-842b-417b-a6f2-deb6e874dfa4",
   "metadata": {},
   "outputs": [],
   "source": [
    "import sys"
   ]
  },
  {
   "cell_type": "code",
   "execution_count": 2,
   "id": "1d627961-284e-4dc9-83a5-439752c67192",
   "metadata": {},
   "outputs": [],
   "source": [
    "sys.path.append(r'C:\\Users\\nicol\\Open Haloscope')"
   ]
  },
  {
   "cell_type": "code",
   "execution_count": 3,
   "id": "fb9b56c7-ade7-4f50-b2f8-ef914e46a81c",
   "metadata": {},
   "outputs": [
    {
     "ename": "TypeError",
     "evalue": "setInterval(self, msec: int): argument 1 has unexpected type 'float'",
     "output_type": "error",
     "traceback": [
      "\u001b[1;31m---------------------------------------------------------------------------\u001b[0m",
      "\u001b[1;31mTypeError\u001b[0m                                 Traceback (most recent call last)",
      "Cell \u001b[1;32mIn[3], line 1\u001b[0m\n\u001b[1;32m----> 1\u001b[0m \u001b[38;5;28;01mfrom\u001b[39;00m \u001b[38;5;21;01mlib\u001b[39;00m\u001b[38;5;21;01m.\u001b[39;00m\u001b[38;5;21;01mpyrpl\u001b[39;00m\u001b[38;5;21;01m.\u001b[39;00m\u001b[38;5;21;01mpyrpl\u001b[39;00m \u001b[38;5;28;01mimport\u001b[39;00m Pyrpl\n",
      "File \u001b[1;32m~\\Open Haloscope\\lib\\pyrpl\\pyrpl\\__init__.py:59\u001b[0m\n\u001b[0;32m     57\u001b[0m \u001b[38;5;28;01mfrom\u001b[39;00m \u001b[38;5;21;01m.\u001b[39;00m\u001b[38;5;21;01mpyrpl_utils\u001b[39;00m \u001b[38;5;28;01mimport\u001b[39;00m setloglevel\n\u001b[0;32m     58\u001b[0m \u001b[38;5;28;01mfrom\u001b[39;00m \u001b[38;5;21;01m.\u001b[39;00m\u001b[38;5;21;01mmemory\u001b[39;00m \u001b[38;5;28;01mimport\u001b[39;00m MemoryTree\n\u001b[1;32m---> 59\u001b[0m global_config \u001b[38;5;241m=\u001b[39m \u001b[43mMemoryTree\u001b[49m\u001b[43m(\u001b[49m\u001b[38;5;124;43m'\u001b[39;49m\u001b[38;5;124;43mglobal_config\u001b[39;49m\u001b[38;5;124;43m'\u001b[39;49m\u001b[43m,\u001b[49m\u001b[43m \u001b[49m\u001b[43msource\u001b[49m\u001b[38;5;241;43m=\u001b[39;49m\u001b[38;5;124;43m'\u001b[39;49m\u001b[38;5;124;43mglobal_config\u001b[39;49m\u001b[38;5;124;43m'\u001b[39;49m\u001b[43m)\u001b[49m\n\u001b[0;32m     60\u001b[0m \u001b[38;5;28;01mtry\u001b[39;00m:\n\u001b[0;32m     61\u001b[0m     setloglevel(global_config\u001b[38;5;241m.\u001b[39mgeneral\u001b[38;5;241m.\u001b[39mloglevel, loggername\u001b[38;5;241m=\u001b[39mlogger\u001b[38;5;241m.\u001b[39mname)\n",
      "File \u001b[1;32m~\\Open Haloscope\\lib\\pyrpl\\pyrpl\\memory.py:507\u001b[0m, in \u001b[0;36mMemoryTree.__init__\u001b[1;34m(self, filename, source, _loadsavedeadtime)\u001b[0m\n\u001b[0;32m    505\u001b[0m \u001b[38;5;66;03m# create a timer to postpone to frequent savings\u001b[39;00m\n\u001b[0;32m    506\u001b[0m \u001b[38;5;28mself\u001b[39m\u001b[38;5;241m.\u001b[39m_savetimer \u001b[38;5;241m=\u001b[39m QtCore\u001b[38;5;241m.\u001b[39mQTimer()\n\u001b[1;32m--> 507\u001b[0m \u001b[38;5;28;43mself\u001b[39;49m\u001b[38;5;241;43m.\u001b[39;49m\u001b[43m_savetimer\u001b[49m\u001b[38;5;241;43m.\u001b[39;49m\u001b[43msetInterval\u001b[49m\u001b[43m(\u001b[49m\u001b[38;5;28;43mself\u001b[39;49m\u001b[38;5;241;43m.\u001b[39;49m\u001b[43m_loadsavedeadtime\u001b[49m\u001b[38;5;241;43m*\u001b[39;49m\u001b[38;5;241;43m1000\u001b[39;49m\u001b[43m)\u001b[49m\n\u001b[0;32m    508\u001b[0m \u001b[38;5;28mself\u001b[39m\u001b[38;5;241m.\u001b[39m_savetimer\u001b[38;5;241m.\u001b[39msetSingleShot(\u001b[38;5;28;01mTrue\u001b[39;00m)\n\u001b[0;32m    509\u001b[0m \u001b[38;5;28mself\u001b[39m\u001b[38;5;241m.\u001b[39m_savetimer\u001b[38;5;241m.\u001b[39mtimeout\u001b[38;5;241m.\u001b[39mconnect(\u001b[38;5;28mself\u001b[39m\u001b[38;5;241m.\u001b[39m_write_to_file)\n",
      "\u001b[1;31mTypeError\u001b[0m: setInterval(self, msec: int): argument 1 has unexpected type 'float'"
     ]
    }
   ],
   "source": [
    "from lib.pyrpl.pyrpl import Pyrpl"
   ]
  },
  {
   "cell_type": "code",
   "execution_count": null,
   "id": "1e5e0488-4e8a-4ae1-bf70-5bf2768d8cf7",
   "metadata": {},
   "outputs": [],
   "source": []
  },
  {
   "cell_type": "code",
   "execution_count": null,
   "id": "2c92d98a-cc27-4272-8111-65da0d5bcc09",
   "metadata": {},
   "outputs": [],
   "source": []
  }
 ],
 "metadata": {
  "kernelspec": {
   "display_name": "Python 3 (ipykernel)",
   "language": "python",
   "name": "python3"
  },
  "language_info": {
   "codemirror_mode": {
    "name": "ipython",
    "version": 3
   },
   "file_extension": ".py",
   "mimetype": "text/x-python",
   "name": "python",
   "nbconvert_exporter": "python",
   "pygments_lexer": "ipython3",
   "version": "3.10.10"
  }
 },
 "nbformat": 4,
 "nbformat_minor": 5
}

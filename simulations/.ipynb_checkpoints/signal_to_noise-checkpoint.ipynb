{
 "cells": [
  {
   "cell_type": "markdown",
   "id": "af6dbc76-0fec-4218-8645-531b1358ea57",
   "metadata": {},
   "source": [
    "<h1>Open Haloscope</h1>\n",
    "<h2>Expected signal-to-noise ratio</h2>\n",
    "\n",
    "The signal is calculated with the axion parameters...\n",
    "\n",
    "The considered noise sources are..."
   ]
  },
  {
   "cell_type": "markdown",
   "id": "1fecee95-d51d-4612-9c4a-9c97ea54278b",
   "metadata": {},
   "source": [
    "<h3>Imports</h3>"
   ]
  },
  {
   "cell_type": "code",
   "execution_count": 1,
   "id": "eefb49aa-29cd-4821-af25-ac3d368e5185",
   "metadata": {},
   "outputs": [],
   "source": [
    "import sys\n",
    "sys.path.append('/Users/ncr/Desktop/Progetti/Open-Haloscope/lib')\n",
    "\n",
    "import open_haloscope as oh\n",
    "ax = oh.OHAxion()"
   ]
  },
  {
   "cell_type": "code",
   "execution_count": 2,
   "id": "c42ff022-f100-4607-9c06-4b375b23b0fa",
   "metadata": {},
   "outputs": [],
   "source": [
    "import numpy as np\n",
    "import matplotlib.pyplot as plt\n",
    "\n",
    "# plot options\n",
    "plt.rc('text', usetex = True)\n",
    "plt.rc('font', family = 'serif', size=14)"
   ]
  },
  {
   "cell_type": "markdown",
   "id": "2b8d4869-2efe-4b1a-b9a0-3358da21dbbf",
   "metadata": {},
   "source": [
    "<h4>Axions</h4>"
   ]
  },
  {
   "cell_type": "code",
   "execution_count": 3,
   "id": "a99086a1-4c48-44e9-a3dc-5efc6a922a81",
   "metadata": {},
   "outputs": [
    {
     "name": "stdout",
     "output_type": "stream",
     "text": [
      "Local dark matter density: 0.3 GeV/cm3\n",
      "Relative speed of the dark matter wind: 0.001c = 299792.458 m/s\n"
     ]
    }
   ],
   "source": [
    "ax.dm_axion_parameters()"
   ]
  },
  {
   "cell_type": "code",
   "execution_count": 4,
   "id": "500e5cd5-bad6-426d-a350-20fafab21a55",
   "metadata": {},
   "outputs": [
    {
     "ename": "NameError",
     "evalue": "name 'g' is not defined",
     "output_type": "error",
     "traceback": [
      "\u001b[0;31m---------------------------------------------------------------------------\u001b[0m",
      "\u001b[0;31mNameError\u001b[0m                                 Traceback (most recent call last)",
      "Cell \u001b[0;32mIn[4], line 10\u001b[0m\n\u001b[1;32m      4\u001b[0m omega_a \u001b[38;5;241m=\u001b[39m \u001b[38;5;241m2\u001b[39m\u001b[38;5;241m*\u001b[39mnp\u001b[38;5;241m.\u001b[39mpi \u001b[38;5;241m*\u001b[39m f_a\n\u001b[1;32m      6\u001b[0m \u001b[38;5;66;03m#g_ae = take from Ciaran\u001b[39;00m\n\u001b[1;32m      7\u001b[0m \u001b[38;5;66;03m#g_aN = take from Ciaran\u001b[39;00m\n\u001b[1;32m      8\u001b[0m \n\u001b[1;32m      9\u001b[0m \u001b[38;5;66;03m# effective axion field\u001b[39;00m\n\u001b[0;32m---> 10\u001b[0m b_a \u001b[38;5;241m=\u001b[39m \u001b[43max\u001b[49m\u001b[38;5;241;43m.\u001b[39;49m\u001b[43meffective_field\u001b[49m\u001b[43m(\u001b[49m\u001b[43mm_a\u001b[49m\u001b[43m)\u001b[49m\n",
      "File \u001b[0;32m~/Desktop/Progetti/Open-Haloscope/lib/open_haloscope.py:30\u001b[0m, in \u001b[0;36mOHAxion.effective_field\u001b[0;34m(self, m_a)\u001b[0m\n\u001b[1;32m     29\u001b[0m \u001b[38;5;28;01mdef\u001b[39;00m \u001b[38;5;21meffective_field\u001b[39m(\u001b[38;5;28mself\u001b[39m, m_a):\n\u001b[0;32m---> 30\u001b[0m     b \u001b[38;5;241m=\u001b[39m \u001b[43mg\u001b[49m \u001b[38;5;241m/\u001b[39m (\u001b[38;5;241m2\u001b[39m \u001b[38;5;241m*\u001b[39m c\u001b[38;5;241m.\u001b[39me) \u001b[38;5;241m*\u001b[39m np\u001b[38;5;241m.\u001b[39msqrt( (\u001b[38;5;28mself\u001b[39m\u001b[38;5;241m.\u001b[39mn_dm \u001b[38;5;241m/\u001b[39m m_a) \u001b[38;5;241m*\u001b[39m c\u001b[38;5;241m.\u001b[39mhbar \u001b[38;5;241m/\u001b[39m (m_a \u001b[38;5;241m*\u001b[39m c\u001b[38;5;241m.\u001b[39mc)) \u001b[38;5;241m*\u001b[39m m_a \u001b[38;5;241m*\u001b[39m \u001b[38;5;28mself\u001b[39m\u001b[38;5;241m.\u001b[39mv_a\n\u001b[1;32m     31\u001b[0m     \u001b[38;5;28;01mreturn\u001b[39;00m b\n",
      "\u001b[0;31mNameError\u001b[0m: name 'g' is not defined"
     ]
    }
   ],
   "source": [
    "# axion\n",
    "m_a = 40e-6 # axion mass in eV\n",
    "f_a = ax.eV_to_Hz(m_a)\n",
    "omega_a = 2*np.pi * f_a\n",
    "\n",
    "#g_ae = take from Ciaran\n",
    "#g_aN = take from Ciaran\n",
    "\n",
    "# effective axion field\n",
    "b_a = ax.effective_field(m_a) # to be checked"
   ]
  },
  {
   "cell_type": "code",
   "execution_count": null,
   "id": "68da6ac6-ad9c-4798-ae98-92ab1210017d",
   "metadata": {},
   "outputs": [],
   "source": [
    "ax.g_limit(5e-19, m_a) # to be checked"
   ]
  },
  {
   "cell_type": "code",
   "execution_count": null,
   "id": "bee2ab23-8109-42e3-b6e6-dcee1eb6d120",
   "metadata": {},
   "outputs": [],
   "source": []
  },
  {
   "cell_type": "code",
   "execution_count": null,
   "id": "b28f5396-af50-4756-a440-e900e8866d4c",
   "metadata": {},
   "outputs": [],
   "source": []
  }
 ],
 "metadata": {
  "kernelspec": {
   "display_name": "Python 3 (ipykernel)",
   "language": "python",
   "name": "python3"
  },
  "language_info": {
   "codemirror_mode": {
    "name": "ipython",
    "version": 3
   },
   "file_extension": ".py",
   "mimetype": "text/x-python",
   "name": "python",
   "nbconvert_exporter": "python",
   "pygments_lexer": "ipython3",
   "version": "3.10.9"
  }
 },
 "nbformat": 4,
 "nbformat_minor": 5
}
